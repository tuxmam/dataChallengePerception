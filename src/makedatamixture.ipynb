{
 "cells": [
  {
   "cell_type": "markdown",
   "metadata": {
    "collapsed": true
   },
   "source": [
    "Ici on crée les donnée de learning pour mixture"
   ]
  },
  {
   "cell_type": "code",
   "execution_count": 1,
   "metadata": {},
   "outputs": [],
   "source": [
    "from utils import Point, Corp, iter_frame_sync\n",
    "from metric.read_file import read_file\n",
    "import numpy as np"
   ]
  },
  {
   "cell_type": "code",
   "execution_count": 2,
   "metadata": {},
   "outputs": [],
   "source": [
    "def compare_corp_son(frame, corp):\n",
    "    \"\"\"\n",
    "    compare une fraime de sons avec un corp\n",
    "    :param frame: \n",
    "    :return: [d1, c1, p1, d2, c2, p2]\n",
    "    \"\"\"\n",
    "    e1 = frame[0]\n",
    "    e2 = frame[1]\n",
    "    p1 = Point(e1[2], e1[1])\n",
    "    p2 = Point(e2[2], e2[1])\n",
    "    return np.concatenate(([p1.dist(corp.hd_bary)], e1[3:], [p2.dist(corp.hd_bary)], e2[3:]))"
   ]
  },
  {
   "cell_type": "code",
   "execution_count": 3,
   "metadata": {},
   "outputs": [],
   "source": [
    "def traite_file(path):\n",
    "    res = []\n",
    "    data_son = np.loadtxt(path+\"/mixture\")\n",
    "    data_pos = read_file(path+\"/groundTruth.txt\")\n",
    "    id_dict = dict()\n",
    "    for frame_pos, frame_son in iter_frame_sync(data_pos, data_son):\n",
    "        if frame_son[0][1] != -1:\n",
    "            for line in frame_pos:\n",
    "                id = line[1]\n",
    "                if id not in id_dict:\n",
    "                    id_dict[id] = False\n",
    "                comp = compare_corp_son(frame_son, Corp(line))\n",
    "                res.append(np.concatenate(([line[2]], comp, [int(id_dict[id])])))\n",
    "                print(\"comp\" + str(comp))\n",
    "                print(\"cp \" + str(Corp(line).hd_bary))\n",
    "                print(\"mix\" + str(frame_son))\n",
    "                print(\"pos\" + str(line))\n",
    "                print(\"parle\" + str(line[2]))\n",
    "                print(\"########\")\n",
    "                id_dict[id] = line[2]\n",
    "        if frame_pos[0][0] > 40:\n",
    "            break\n",
    "    return res\n"
   ]
  },
  {
   "cell_type": "code",
   "execution_count": 2,
   "metadata": {
    "collapsed": true
   },
   "outputs": [
    {
     "ename": "NameError",
     "evalue": "name 'np' is not defined",
     "traceback": [
      "\u001b[0;31m---------------------------------------------------------------------------\u001b[0m",
      "\u001b[0;31mNameError\u001b[0m                                 Traceback (most recent call last)",
      "\u001b[0;32m<ipython-input-2-9aa68142f18f>\u001b[0m in \u001b[0;36m<module>\u001b[0;34m()\u001b[0m\n\u001b[0;32m----> 1\u001b[0;31m \u001b[0mres\u001b[0m \u001b[0;34m=\u001b[0m \u001b[0mtraite_file\u001b[0m\u001b[0;34m(\u001b[0m\u001b[0;34m\"data/Scenario02-01\"\u001b[0m\u001b[0;34m)\u001b[0m\u001b[0;34m\u001b[0m\u001b[0m\n\u001b[0m",
      "\u001b[0;32m<ipython-input-1-61a77781eba7>\u001b[0m in \u001b[0;36mtraite_file\u001b[0;34m(path)\u001b[0m\n\u001b[1;32m      1\u001b[0m \u001b[0;32mdef\u001b[0m \u001b[0mtraite_file\u001b[0m\u001b[0;34m(\u001b[0m\u001b[0mpath\u001b[0m\u001b[0;34m)\u001b[0m\u001b[0;34m:\u001b[0m\u001b[0;34m\u001b[0m\u001b[0m\n\u001b[1;32m      2\u001b[0m     \u001b[0mres\u001b[0m \u001b[0;34m=\u001b[0m \u001b[0;34m[\u001b[0m\u001b[0;34m]\u001b[0m\u001b[0;34m\u001b[0m\u001b[0m\n\u001b[0;32m----> 3\u001b[0;31m     \u001b[0mdata_son\u001b[0m \u001b[0;34m=\u001b[0m \u001b[0mnp\u001b[0m\u001b[0;34m.\u001b[0m\u001b[0mloadtxt\u001b[0m\u001b[0;34m(\u001b[0m\u001b[0mpath\u001b[0m\u001b[0;34m+\u001b[0m\u001b[0;34m\"/mixture\"\u001b[0m\u001b[0;34m)\u001b[0m\u001b[0;34m\u001b[0m\u001b[0m\n\u001b[0m\u001b[1;32m      4\u001b[0m     \u001b[0mdata_pos\u001b[0m \u001b[0;34m=\u001b[0m \u001b[0mread_file\u001b[0m\u001b[0;34m(\u001b[0m\u001b[0mpath\u001b[0m\u001b[0;34m+\u001b[0m\u001b[0;34m\"/groundTruth.txt\"\u001b[0m\u001b[0;34m)\u001b[0m\u001b[0;34m\u001b[0m\u001b[0m\n\u001b[1;32m      5\u001b[0m     \u001b[0mid_dict\u001b[0m \u001b[0;34m=\u001b[0m \u001b[0mdict\u001b[0m\u001b[0;34m(\u001b[0m\u001b[0;34m)\u001b[0m\u001b[0;34m\u001b[0m\u001b[0m\n",
      "\u001b[0;31mNameError\u001b[0m: name 'np' is not defined"
     ],
     "output_type": "error"
    }
   ],
   "source": [
    "res = traite_file(\"data/Scenario02-01\")"
   ]
  },
  {
   "cell_type": "code",
   "execution_count": 4,
   "metadata": {},
   "outputs": [
    {
     "ename": "NameError",
     "evalue": "name 'res' is not defined",
     "traceback": [
      "\u001b[0;31m\u001b[0m",
      "\u001b[0;31mNameError\u001b[0mTraceback (most recent call last)",
      "\u001b[0;32m<ipython-input-4-aad27f89bf9d>\u001b[0m in \u001b[0;36m<module>\u001b[0;34m()\u001b[0m\n\u001b[0;32m----> 1\u001b[0;31m \u001b[0mnp\u001b[0m\u001b[0;34m.\u001b[0m\u001b[0msavetxt\u001b[0m\u001b[0;34m(\u001b[0m\u001b[0;34m\"res\"\u001b[0m\u001b[0;34m,\u001b[0m \u001b[0mres\u001b[0m\u001b[0;34m,\u001b[0m \u001b[0mfmt\u001b[0m\u001b[0;34m=\u001b[0m\u001b[0;34m\"%i\"\u001b[0m\u001b[0;34m)\u001b[0m\u001b[0;34m\u001b[0m\u001b[0m\n\u001b[0m",
      "\u001b[0;31mNameError\u001b[0m: name 'res' is not defined"
     ],
     "output_type": "error"
    }
   ],
   "source": [
    "np.savetxt(\"res\", res, fmt=\"%i\")"
   ]
  },
  {
   "cell_type": "code",
   "execution_count": 5,
   "metadata": {},
   "outputs": [],
   "source": [
    "paths = [\"Scenario02-01\", \"Scenario02-02\", \"Scenario02-03\", \"Scenario03-01\", \"Scenario03-02\", \"Scenario03-03\", \"Scenario03-05\", \"Scenario01-01\"]\n",
    "paths = [\"Scenario02-01\"]"
   ]
  },
  {
   "cell_type": "code",
   "execution_count": 6,
   "metadata": {},
   "outputs": [],
   "source": [
    "res_all = []\n",
    "label = []\n",
    "dat = []\n",
    "for path in paths:\n",
    "    path = \"data/\"+path\n",
    "    data_son = np.loadtxt(path+\"/mixture\")\n",
    "    data_pos = read_file(path+\"/groundTruth.txt\")\n",
    "    id_dict = dict()\n",
    "    for frame_pos, frame_son in iter_frame_sync(data_pos, data_son):\n",
    "        if frame_son[0][1] != -1:\n",
    "            for line in frame_pos:\n",
    "                id = line[1]\n",
    "                if id not in id_dict:\n",
    "                    id_dict[id] = False\n",
    "                comp = compare_corp_son(frame_son, Corp(line))\n",
    "                res_all.append(np.concatenate(([line[0]],[line[2]], comp, [int(id_dict[id])]))) \n",
    "                label.append([line[2]])\n",
    "                # dat.append(np.concatenate((comp, [int(id_dict[id])])))\n",
    "                dat.append(comp)\n",
    "                id_dict[id] = line[2]\n",
    "np.savetxt(\"learn/mixture_all\", res_all, fmt=\"%i\")\n",
    "np.savetxt(\"learn/mixture_data\", dat, fmt=\"%i\")\n",
    "np.savetxt(\"learn/mixture_label\", label, fmt=\"%i\")\n",
    "\n"
   ]
  },
  {
   "cell_type": "code",
   "execution_count": 19,
   "metadata": {},
   "outputs": [],
   "source": []
  },
  {
   "cell_type": "code",
   "execution_count": null,
   "metadata": {},
   "outputs": [],
   "source": []
  }
 ],
 "metadata": {
  "kernelspec": {
   "display_name": "Python 2",
   "language": "python",
   "name": "python2"
  },
  "language_info": {
   "codemirror_mode": {
    "name": "ipython",
    "version": 2
   },
   "file_extension": ".py",
   "mimetype": "text/x-python",
   "name": "python",
   "nbconvert_exporter": "python",
   "pygments_lexer": "ipython2",
   "version": "2.7.6"
  }
 },
 "nbformat": 4,
 "nbformat_minor": 0
}
