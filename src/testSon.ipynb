{
 "cells": [
  {
   "cell_type": "markdown",
   "metadata": {
    "collapsed": true
   },
   "source": [
    "# test de la sincro son, image\n",
    "\n",
    "\n",
    "dans ce fichier on test la création d'un estimateur tres simple image/son\n",
    "\n",
    "La personne qui parle est celle la plus proche de la source de son."
   ]
  },
  {
   "cell_type": "code",
   "execution_count": 1,
   "metadata": {},
   "outputs": [],
   "source": [
    "import inspect\n",
    "\n",
    "from sklearn.base import BaseEstimator, ClassifierMixin\n",
    "from sklearn.model_selection import GridSearchCV, RandomizedSearchCV, KFold\n",
    "\n",
    "from metric.compute_metric import compute_clear\n",
    "from utils import make_pred, save_data, iter_frame_sync\n",
    "from metric.read_file import read_file\n",
    "from utils import Point, mult_load\n",
    "import numpy as np\n"
   ]
  },
  {
   "cell_type": "code",
   "execution_count": null,
   "metadata": {},
   "outputs": [],
   "source": [
    "from utils import iter_frame, Corp\n",
    "from utils.identity_assignation import identity_assignation\n",
    "\n",
    "\n",
    "class InertieClasificator(BaseEstimator, ClassifierMixin):\n",
    "    def __init__(self, coef_ine_hd = 1, coef_ine_bd =1, coef_dist_hd = 1, coef_dist_bd = 1, \n",
    "                 coef_size_hd = 1, coef_size_bd = 1, coef_pt_cache = 10, mem_length= 20, coef_col = 1):\n",
    "        \n",
    "        args, _, _, values = inspect.getargvalues(inspect.currentframe())\n",
    "        values.pop(\"self\")\n",
    "\n",
    "        for arg, val in values.items():\n",
    "            setattr(self, arg, val)\n",
    "    \n",
    "    def fit(self, X, y=None):\n",
    "        # on n'apprend rien pour l'instant\n",
    "        pass\n",
    "    \n",
    "    def mk_dist(self):\n",
    "        def fdist(id, corp):\n",
    "            var = id.comp(corp)\n",
    "            dist = var[0] * self.coef_ine_hd\n",
    "            dist += var[1] * self.coef_ine_bd\n",
    "            dist += var[2] * self.coef_col\n",
    "            dist += var[3] * self.coef_dist_hd\n",
    "            dist += var[4] * self.coef_dist_bd\n",
    "            dist += var[5] * self.coef_pt_cache\n",
    "            return dist\n",
    "        return fdist\n",
    "               \n",
    "    \n",
    "    def predict(self, X, y=None):\n",
    "        # prediction\n",
    "        \n",
    "        def func (data):\n",
    "            data_pos, data_son = data\n",
    "            identites = dict()\n",
    "            for frame_pos, frame_son in iter_frame_sync(data_pos,data_son):\n",
    "                \n",
    "                son = frame_son[0]\n",
    "                identites = identity_assignation(frame_pos, identites, None, self.mk_dist())\n",
    "    \n",
    "                for i, l in enumerate(frame_pos):\n",
    "                    cp = Corp(l)\n",
    "                    parle = 0\n",
    "                    # print(str(Point(son[2], son[1])) + \"vs \" + str(cp.hd_bary))\n",
    "                    if cp.hd_bary.dist(Point(son[2], son[1])) < 30:\n",
    "                        # print(\"Match !! \")\n",
    "                        parle = 1\n",
    "                    yield (identites[cp], parle)  \n",
    "        \n",
    "        return [make_pred(vid[0], func, data_son=vid[1]) for vid in X]\n",
    "    \n",
    "    def score(self, X, y, sample_weight=None):\n",
    "        pred = self.predict(X)\n",
    "        res = [0, 0, 0, 0]\n",
    "        for vid, raw in zip(pred, y):\n",
    "            c = compute_clear(raw, vid, 1)\n",
    "            c = list(c)\n",
    "            res = [a+b for a,b in zip(res, c)]\n",
    "        # print(res/len(y))\n",
    "        return [x/len(y) for x in res]\n",
    "           \n",
    "        "
   ]
  },
  {
   "cell_type": "code",
   "execution_count": 5,
   "metadata": {},
   "outputs": [],
   "source": [
    "data_ref, data = mult_load([\"data/Scenario03-02/\", \"data/Scenario01-01/\", \"data/Scenario02-03/\", \"data/Scenario02-01/\",\n",
    "                            \"data/Scenario02-02/\", \"data/Scenario03-03/\", \"data/Scenario03-02/\", \"data/Scenario03-01/\",\n",
    "                            \"data/Scenario03-05/\"], son=True)"
   ]
  },
  {
   "cell_type": "code",
   "execution_count": 10,
   "metadata": {
    "collapsed": true
   },
   "outputs": [
    {
     "name": "stdout",
     "output_type": "stream",
     "text": [
      "[0.97997403766573854, 0.0, 0.65668050328408545, 0.63922655684137064]\n"
     ]
    }
   ],
   "source": [
    "est = InertieClasificator()\n",
    "print(est.score(data, data_ref))\n"
   ]
  },
  {
   "cell_type": "markdown",
   "metadata": {},
   "source": [
    "parole a 0 : 0.977; 0 , 0.54, 0.53\n"
   ]
  },
  {
   "cell_type": "code",
   "execution_count": null,
   "metadata": {},
   "outputs": [],
   "source": [
    "PATH = \"data/Scenario02-03/\"\n",
    "data_ref = read_file(PATH+\"groundTruth.txt\")\n",
    "data = np.loadtxt(PATH+\"augmented_data.txt\")\n",
    "data_son = np.loadtxt(PATH+\"ssl_detections.txt\")\n",
    "est = InertieClasificator()\n",
    "res = est.predict([(data, data_son)], [data_ref])\n",
    "print(est.score([(data, data_son)], [data_ref]))"
   ]
  },
  {
   "cell_type": "code",
   "execution_count": 4,
   "metadata": {},
   "outputs": [
    {
     "data": {
      "text/plain": [
       "[array([[  35.,    1.,    1., ...,   58.,   -1.,   -1.],\n        [  36.,    1.,    1., ...,   56.,   -1.,   -1.],\n        [  37.,    1.,    1., ...,   58.,   -1.,   -1.],\n        ..., \n        [ 424.,    2.,    0., ...,   88.,   -1.,   -1.],\n        [ 425.,    1.,    0., ...,   -1.,   52.,  104.],\n        [ 425.,    2.,    0., ...,   -1.,   -1.,   -1.]])]"
      ]
     },
     "execution_count": 4,
     "metadata": {},
     "output_type": "execute_result"
    }
   ],
   "source": [
    "res"
   ]
  },
  {
   "cell_type": "code",
   "execution_count": 5,
   "metadata": {},
   "outputs": [],
   "source": [
    "save_data(res[0], PATH +  \"res_tmp\")"
   ]
  },
  {
   "cell_type": "code",
   "execution_count": null,
   "metadata": {},
   "outputs": [],
   "source": []
  }
 ],
 "metadata": {
  "kernelspec": {
   "display_name": "Python 2",
   "language": "python",
   "name": "python2"
  },
  "language_info": {
   "codemirror_mode": {
    "name": "ipython",
    "version": 2
   },
   "file_extension": ".py",
   "mimetype": "text/x-python",
   "name": "python",
   "nbconvert_exporter": "python",
   "pygments_lexer": "ipython2",
   "version": "2.7.6"
  }
 },
 "nbformat": 4,
 "nbformat_minor": 0
}
