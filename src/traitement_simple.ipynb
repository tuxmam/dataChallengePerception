{
 "cells": [
  {
   "cell_type": "code",
   "execution_count": 1,
   "metadata": {
    "collapsed": true
   },
   "outputs": [],
   "source": [
    "import inspect\n",
    "\n",
    "from sklearn.base import BaseEstimator, ClassifierMixin\n",
    "from sklearn.model_selection import GridSearchCV, RandomizedSearchCV, KFold\n",
    "\n",
    "from metric.compute_metric import compute_clear\n",
    "from utils import make_pred, save_data\n",
    "from metric.read_file import read_file\n",
    "import numpy as np\n"
   ]
  },
  {
   "cell_type": "code",
   "execution_count": 2,
   "metadata": {},
   "outputs": [],
   "source": [
    "from utils import iter_frame, Corp\n",
    "from utils.identity_assignation import identity_assignation\n",
    "\n",
    "\n",
    "class InertieClasificator(BaseEstimator, ClassifierMixin):\n",
    "    def __init__(self, coef_ine_hd = 1, coef_ine_bd =1, coef_dist_hd = 1, coef_dist_bd = 1, \n",
    "                 coef_size_hd = 1, coef_size_bd = 1, coef_pt_cache = 10, mem_length= 20, coef_col = 1):\n",
    "        \n",
    "        args, _, _, values = inspect.getargvalues(inspect.currentframe())\n",
    "        values.pop(\"self\")\n",
    "\n",
    "        for arg, val in values.items():\n",
    "            setattr(self, arg, val)\n",
    "    \n",
    "    def fit(self, X, y=None):\n",
    "        # on n'apprend rien pour l'instant\n",
    "        pass\n",
    "    \n",
    "    def mk_dist(self):\n",
    "        def fdist(id, corp):\n",
    "            var = id.comp(corp)\n",
    "            dist = var[0] * self.coef_ine_hd\n",
    "            dist += var[1] * self.coef_ine_bd\n",
    "            dist += var[2] * self.coef_col\n",
    "            dist += var[3] * self.coef_dist_hd\n",
    "            dist += var[4] * self.coef_dist_bd\n",
    "            dist += var[5] * self.coef_pt_cache\n",
    "            return dist\n",
    "        return fdist\n",
    "               \n",
    "    \n",
    "    def predict(self, X, y=None):\n",
    "        # prediction\n",
    "        \n",
    "        def func (data):\n",
    "            identites = dict()\n",
    "            for frame in iter_frame(data):\n",
    "                nb_personne = frame.shape[0]\n",
    "        \n",
    "                identites = identity_assignation(frame, identites, None, self.mk_dist())\n",
    "    \n",
    "                for i, l in enumerate(frame):\n",
    "                    cp = Corp(l)\n",
    "                    yield (identites[cp], 0)  \n",
    "        \n",
    "        return [make_pred(vid, func) for vid in X]\n",
    "    \n",
    "    def score(self, X, y, sample_weight=None):\n",
    "        pred = self.predict(X)\n",
    "        res = 0\n",
    "        for vid, raw in zip(pred, y):\n",
    "            c = compute_clear(raw, vid, 1)\n",
    "            res += c[0]\n",
    "        # print(res/len(y))\n",
    "        return res/len(y)\n",
    "           \n",
    "        "
   ]
  },
  {
   "cell_type": "code",
   "execution_count": 3,
   "metadata": {
    "collapsed": true
   },
   "outputs": [
    {
     "name": "stdout",
     "output_type": "stream",
     "text": [
      "0.980935875217\n"
     ]
    }
   ],
   "source": [
    "PATH = \"data/Scenario04-01/\"\n",
    "data_ref = read_file(PATH+\"groundTruth.txt\")\n",
    "data = np.loadtxt(PATH+\"augmented_data.txt\")\n",
    "est = InertieClasificator()\n",
    "print(est.score([data], [data_ref]))\n"
   ]
  },
  {
   "cell_type": "code",
   "execution_count": 5,
   "metadata": {},
   "outputs": [],
   "source": [
    "from utils import mult_load\n",
    "\n",
    "data_ref, data = mult_load([\"data/Scenario03-02/\", \"data/Scenario01-01/\", \"data/Scenario02-03/\", \"data/Scenario02-01/\",\n",
    "                            \"data/Scenario02-02/\", \"data/Scenario03-03/\", \"data/Scenario03-02/\", \"data/Scenario03-01/\",\n",
    "                            \"data/Scenario03-05/\"])"
   ]
  },
  {
   "cell_type": "code",
   "execution_count": 6,
   "metadata": {},
   "outputs": [
    {
     "name": "stdout",
     "output_type": "stream",
     "text": [
      "0.979901567304094\n"
     ]
    }
   ],
   "source": [
    "est2 = InertieClasificator(coef_pt_cache= 20, coef_dist_bd=5, coef_dist_hd=5, coef_ine_hd= 5,\n",
    "                          coef_ine_bd=20, coef_size_bd=1, coef_size_hd=0, mem_length=30)\n",
    "print(est2.score(data, data_ref))"
   ]
  },
  {
   "cell_type": "code",
   "execution_count": 11,
   "metadata": {},
   "outputs": [],
   "source": [
    "from utils import iter_frame, Corp\n",
    "from utils.identity_assignation import identity_assignation\n",
    "import pickle\n",
    "\n",
    "\n",
    "class TrainedClasificator(BaseEstimator, ClassifierMixin):\n",
    " \n",
    "    def __init__(self, estimateur):\n",
    "        \n",
    "        with open(estimateur) as file:\n",
    "            self.est = pickle.load(file)\n",
    "            \n",
    "        args, _, _, values = inspect.getargvalues(inspect.currentframe())\n",
    "        values.pop(\"self\")\n",
    "\n",
    "        for arg, val in values.items():\n",
    "            setattr(self, arg, val)\n",
    "    \n",
    "    def fit(self, X, y=None):\n",
    "        # on n'apprend rien pour l'instant\n",
    "        pass\n",
    "    \n",
    "    def mk_dist(self):\n",
    "        def fdist(id, corp):\n",
    "            return 1-self.est.predict([id.comp(corp)])[0]\n",
    "        return fdist\n",
    "               \n",
    "    \n",
    "    def predict(self, X, y=None):\n",
    "        # prediction\n",
    "        \n",
    "        def func (data):\n",
    "            identites = dict()\n",
    "            for frame in iter_frame(data):\n",
    "                identites = identity_assignation(frame, identites, None, self.mk_dist())\n",
    "                for i, l in enumerate(frame):\n",
    "                    cp = Corp(l)\n",
    "                    yield (identites[cp], 0)  \n",
    "        \n",
    "        return [make_pred(vid, func) for vid in X]\n",
    "    \n",
    "    def score(self, X, y, sample_weight=None):\n",
    "        pred = self.predict(X)\n",
    "        res = 0\n",
    "        for vid, raw in zip(pred, y):\n",
    "            c = compute_clear(raw, vid, 1)\n",
    "            res += c[0]\n",
    "        # print(res/len(y))\n",
    "        return res/len(y)\n",
    "           \n",
    "        "
   ]
  },
  {
   "cell_type": "code",
   "execution_count": 15,
   "metadata": {
    "collapsed": true
   },
   "outputs": [],
   "source": [
    "from utils import mult_load\n",
    "\n",
    "data_ref, data = mult_load([\"data/Scenario03-02/\", \"data/Scenario01-01/\", \"data/Scenario02-03/\", \"data/Scenario02-01/\",\n",
    "                            \"data/Scenario02-02/\", \"data/Scenario03-03/\", \"data/Scenario03-02/\", \"data/Scenario03-01/\",\n",
    "                            \"data/Scenario03-05/\"])"
   ]
  },
  {
   "cell_type": "code",
   "execution_count": 8,
   "metadata": {},
   "outputs": [
    {
     "name": "stdout",
     "output_type": "stream",
     "text": [
      "0.979901567304094\n"
     ]
    }
   ],
   "source": [
    "est = TrainedClasificator(\"learn/estimateur_grad_boost_max\")\n",
    "print(est2.score(data, data_ref))"
   ]
  },
  {
   "cell_type": "code",
   "execution_count": 39,
   "metadata": {},
   "outputs": [],
   "source": [
    "save_data(res[0], \"tmp\")"
   ]
  },
  {
   "cell_type": "code",
   "execution_count": 38,
   "metadata": {},
   "outputs": [],
   "source": [
    "res = est.predict(\"data/Scenario03-01/\")"
   ]
  },
  {
   "cell_type": "code",
   "execution_count": 12,
   "metadata": {},
   "outputs": [
    {
     "data": {
      "text/plain": [
       "0.9771682616230879"
      ]
     },
     "execution_count": 12,
     "metadata": {},
     "output_type": "execute_result"
    }
   ],
   "source": [
    "PATH = \"data/Scenario04-01/\"\n",
    "data_ref = read_file(PATH+\"groundTruth.txt\")\n",
    "data = np.loadtxt(PATH+\"augmented_data.txt\")\n",
    "est = TrainedClasificator(\"learn/estimateur_grad_boost_max\")\n",
    "est.score([data], [data_ref])"
   ]
  },
  {
   "cell_type": "code",
   "execution_count": null,
   "metadata": {},
   "outputs": [],
   "source": []
  }
 ],
 "metadata": {
  "kernelspec": {
   "display_name": "Python 2",
   "language": "python",
   "name": "python2"
  },
  "language_info": {
   "codemirror_mode": {
    "name": "ipython",
    "version": 2
   },
   "file_extension": ".py",
   "mimetype": "text/x-python",
   "name": "python",
   "nbconvert_exporter": "python",
   "pygments_lexer": "ipython2",
   "version": "2.7.6"
  }
 },
 "nbformat": 4,
 "nbformat_minor": 0
}
