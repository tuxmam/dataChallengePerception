{
 "cells": [
  {
   "cell_type": "code",
   "execution_count": 1,
   "metadata": {
    "collapsed": true
   },
   "outputs": [],
   "source": [
    "import inspect\n",
    "\n",
    "from sklearn.base import BaseEstimator, ClassifierMixin\n",
    "from sklearn.model_selection import GridSearchCV, RandomizedSearchCV, KFold\n",
    "\n",
    "from metric.compute_metric import compute_clear\n",
    "from utils import make_pred, save_data, iter_frame_sync\n",
    "from metric.read_file import read_file\n",
    "from utils import Point, mult_load, compare_corp_son\n",
    "import numpy as np\n",
    "from utils import compute_error\n"
   ]
  },
  {
   "cell_type": "code",
   "execution_count": 4,
   "metadata": {},
   "outputs": [],
   "source": [
    "from utils import iter_frame, Corp\n",
    "from utils.identity_assignation import identity_assignation\n",
    "\n",
    "\n",
    "class InertieClasificator(BaseEstimator, ClassifierMixin):\n",
    "    def __init__(self, coef_ine_hd = 1, coef_ine_bd =1, coef_dist_hd = 1, coef_dist_bd = 1, \n",
    "                 coef_size_hd = 1, coef_size_bd = 1, coef_pt_cache = 10, mem_length= 20, coef_col = 1,\n",
    "                 seuil_parole = 60, bonus_parole = 10):\n",
    "        \n",
    "        args, _, _, values = inspect.getargvalues(inspect.currentframe())\n",
    "        values.pop(\"self\")\n",
    "        self.seuil_parole = seuil_parole\n",
    "        self.bonus_parole = bonus_parole\n",
    "\n",
    "        for arg, val in values.items():\n",
    "            setattr(self, arg, val)\n",
    "    \n",
    "    def fit(self, X, y=None):\n",
    "        # on n'apprend rien pour l'instant\n",
    "        pass\n",
    "    \n",
    "    def mk_dist(self):\n",
    "        def fdist(id, corp):\n",
    "            var = id.comp(corp)\n",
    "            dist = var[0] * self.coef_ine_hd\n",
    "            dist += var[1] * self.coef_ine_bd\n",
    "            dist += var[2] * self.coef_col\n",
    "            dist += var[3] * self.coef_dist_hd\n",
    "            dist += var[4] * self.coef_dist_bd\n",
    "            dist += var[5] * self.coef_pt_cache\n",
    "            return dist\n",
    "        return fdist\n",
    "               \n",
    "    \n",
    "    def predict(self, X, y=None):\n",
    "        # prediction\n",
    "        \n",
    "        def func (data):\n",
    "            data_pos, data_son = data\n",
    "            identites = dict()\n",
    "            for frame_pos, frame_son in iter_frame_sync(data_pos,data_son):\n",
    "                \n",
    "          \n",
    "                identites = identity_assignation(frame_pos, identites, None, self.mk_dist())\n",
    "    \n",
    "                for i, l in enumerate(frame_pos):\n",
    "                    cp = Corp(l)\n",
    "                    l = [Point(x[2], x[1]) for x in frame_son]\n",
    "                    pson = min(l, key=lambda p:cp.hd_bary.dist(p))    \n",
    "                    \n",
    "                    id = None\n",
    "                    for _id in identites.keys():\n",
    "                        if _id == cp:\n",
    "                            id = _id\n",
    "                    parle = False\n",
    "                    # print(str(Point(son[2], son[1])) + \"vs \" + str(cp.hd_bary))                    \n",
    "                    if cp.hd_bary.dist(pson) < self.seuil_parole + int(id.get_speak())*self.bonus_parole :\n",
    "                        # print(\"Match !! \")\n",
    "                        parle = True\n",
    "                    id.set_speak(parle)\n",
    "                    yield (identites[cp], int(parle))  \n",
    "        \n",
    "        return [make_pred(vid[0], func, data_son=vid[1]) for vid in X]\n",
    "    \n",
    "    def score(self, X, y, sample_weight=None):\n",
    "        pred = self.predict(X)\n",
    "        res = [0, 0, 0, 0]\n",
    "        for vid, raw in zip(pred, y):\n",
    "            c = compute_error(raw, vid, 1)\n",
    "            c = list(c)\n",
    "            res = [a+b for a,b in zip(res, c)]\n",
    "        # print(res/len(y))\n",
    "        return [x/len(y) for x in res]\n",
    "           \n",
    "        "
   ]
  },
  {
   "cell_type": "code",
   "execution_count": 15,
   "metadata": {
    "collapsed": true
   },
   "outputs": [
    {
     "name": "stdout",
     "output_type": "stream",
     "text": [
      "n  :5860\nf_neg : 0.0962457337884\nf_pos : 0.103412969283\nSA : 0.800341296928\n[0.98476383951244284, 0.0, 0.80034129692832767, 0.98476383951244284]\n"
     ]
    }
   ],
   "source": [
    "PATH = \"data/Scenario03-05/\"\n",
    "data_ref = read_file(PATH+\"groundTruth.txt\")\n",
    "data = np.loadtxt(PATH+\"augmented_data.txt\")\n",
    "data_son = np.loadtxt(PATH+\"mixture\")\n",
    "est = InertieClasificator(seuil_parole=60, bonus_parole=10)\n",
    "res = est.predict([(data, data_son)], [data_ref])\n",
    "print(est.score([(data, data_son)], [data_ref]))\n",
    "save_data(res[0], PATH +  \"res_tmp.txt\")"
   ]
  },
  {
   "cell_type": "code",
   "execution_count": 3,
   "metadata": {
    "collapsed": true
   },
   "outputs": [
    {
     "name": "stdout",
     "output_type": "stream",
     "text": [
      "n  :4780\nf_neg : 0.078870292887\nf_pos : 0.175523012552\nSA : 0.745606694561\nn  :573\nf_neg : 0.150087260035\nf_pos : 0.00174520069808\nSA : 0.848167539267\n"
     ]
    },
    {
     "name": "stdout",
     "output_type": "stream",
     "text": [
      "n  :728\nf_neg : 0.221153846154\nf_pos : 0.101648351648\nSA : 0.677197802198\n"
     ]
    },
    {
     "name": "stdout",
     "output_type": "stream",
     "text": [
      "n  :1609\nf_neg : 0.220012430081\nf_pos : 0.0205096333126\nSA : 0.759477936607\n"
     ]
    },
    {
     "name": "stdout",
     "output_type": "stream",
     "text": [
      "n  :1524\nf_neg : 0.166666666667\nf_pos : 0.0236220472441\nSA : 0.809711286089\n"
     ]
    },
    {
     "name": "stdout",
     "output_type": "stream",
     "text": [
      "n  :1413\nf_neg : 0.0396319886766\nf_pos : 0.0176928520878\nSA : 0.942675159236\n"
     ]
    },
    {
     "name": "stdout",
     "output_type": "stream",
     "text": [
      "n  :4780\nf_neg : 0.078870292887\nf_pos : 0.175523012552\nSA : 0.745606694561\n"
     ]
    },
    {
     "name": "stdout",
     "output_type": "stream",
     "text": [
      "n  :7661\nf_neg : 0.16042292129\nf_pos : 0.0708784753949\nSA : 0.768698603315\n"
     ]
    },
    {
     "name": "stdout",
     "output_type": "stream",
     "text": [
      "n  :5860\nf_neg : 0.0962457337884\nf_pos : 0.103412969283\nSA : 0.800341296928\n[0.97933572191362606, 0.0, 0.78860922364016373, 0.97933572191362606]\n"
     ]
    }
   ],
   "source": [
    "data_ref, data = mult_load([\"data/Scenario03-02/\", \"data/Scenario01-01/\", \"data/Scenario02-03/\", \"data/Scenario02-01/\",\n",
    "                            \"data/Scenario02-02/\", \"data/Scenario03-03/\", \"data/Scenario03-02/\", \"data/Scenario03-01/\",\n",
    "                            \"data/Scenario03-05/\"], son=True, ficher_son=\"mixture\")\n",
    "est = InertieClasificator()\n",
    "print(est.score(data, data_ref))"
   ]
  },
  {
   "cell_type": "markdown",
   "metadata": {},
   "source": [
    "3-2\n",
    "n  :4780\n",
    "f_neg : 0.078870292887\n",
    "f_pos : 0.175523012552\n",
    "\n",
    "1-1\n",
    "n  :573\n",
    "f_neg : 0.150087260035\n",
    "f_pos : 0.00174520069808\n",
    "\n",
    "2-3\n",
    "n  :728\n",
    "f_neg : 0.221153846154\n",
    "f_pos : 0.101648351648\n",
    "\n",
    "2-1\n",
    "n  :1609\n",
    "f_neg : 0.220012430081\n",
    "f_pos : 0.0205096333126\n",
    "\n",
    "2-2\n",
    "n  :1524\n",
    "f_neg : 0.166666666667\n",
    "f_pos : 0.0236220472441\n",
    "\n",
    "3-3\n",
    "n  :1413\n",
    "f_neg : 0.0396319886766\n",
    "f_pos : 0.0176928520878\n",
    "\n",
    "3-2\n",
    "n  :4780\n",
    "f_neg : 0.078870292887\n",
    "f_pos : 0.175523012552\n",
    "\n",
    "3-1\n",
    "n  :7661\n",
    "f_neg : 0.16042292129\n",
    "f_pos : 0.0708784753949\n",
    "\n",
    "3-5\n",
    "n  :5860\n",
    "f_neg : 0.0962457337884\n",
    "f_pos : 0.103412969283\n",
    "\n",
    "[0.97933572191362606, 0.0, 0.78860922364016373, 0.97933572191362606]\n"
   ]
  }
 ],
 "metadata": {
  "kernelspec": {
   "display_name": "Python 2",
   "language": "python",
   "name": "python2"
  },
  "language_info": {
   "codemirror_mode": {
    "name": "ipython",
    "version": 2
   },
   "file_extension": ".py",
   "mimetype": "text/x-python",
   "name": "python",
   "nbconvert_exporter": "python",
   "pygments_lexer": "ipython2",
   "version": "2.7.6"
  }
 },
 "nbformat": 4,
 "nbformat_minor": 0
}
