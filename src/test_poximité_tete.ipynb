{
 "cells": [
  {
   "cell_type": "code",
   "execution_count": 1,
   "metadata": {
    "collapsed": true
   },
   "outputs": [],
   "source": [
    "from metric.compute_metric import compute_clear\n",
    "from metric.read_file import read_file\n",
    "from utils import make_pred, save_data, iter_frame, body_barycenter, head_barycenter\n",
    "from utils import Point\n",
    "import numpy as np\n",
    "PATH = \"data/Scenario04-01/\""
   ]
  },
  {
   "cell_type": "code",
   "execution_count": 2,
   "metadata": {},
   "outputs": [
    {
     "name": "stdout",
     "output_type": "stream",
     "text": [
      "(13273, 39)\n(13255, 37)\n"
     ]
    }
   ],
   "source": [
    "data_ref = read_file(PATH+\"groundTruth.txt\")\n",
    "row_data = np.loadtxt(PATH+\"detections.txt\")\n",
    "print(data_ref.shape)\n",
    "print(row_data.shape)"
   ]
  },
  {
   "cell_type": "code",
   "execution_count": 3,
   "metadata": {
    "collapsed": true
   },
   "outputs": [
    {
     "name": "stdout",
     "output_type": "stream",
     "text": [
      "point 422.22222222222223, 296.0\npoint 422.0, 267.6\n"
     ]
    }
   ],
   "source": [
    "print(body_barycenter(row_data[100]))\n",
    "print(head_barycenter(row_data[100]))"
   ]
  },
  {
   "cell_type": "code",
   "execution_count": 21,
   "metadata": {
    "collapsed": true
   },
   "outputs": [
    {
     "name": "stdout",
     "output_type": "stream",
     "text": [
      "(0.9771682616230879, 0.0, 0.5517110554670309, 0.5319870394092382)\n"
     ]
    }
   ],
   "source": [
    "from random import randint, random\n",
    "\n",
    "\n",
    "def make_alea(proba_trans):\n",
    "    def alea_par_func(data):\n",
    "        save_pos = dict()\n",
    "        parle = 0\n",
    "        for frame in iter_frame(data):\n",
    "            nb_personne = frame.shape[0]\n",
    "\n",
    "            if random() < proba_trans:\n",
    "                parle = randint(0, nb_personne)\n",
    "\n",
    "            save_pos = head_assignation(frame, save_pos)\n",
    "\n",
    "            for i, _ in enumerate(frame):\n",
    "                pt = head_barycenter(_)\n",
    "                yield (save_pos[pt], save_pos[pt] == parle)\n",
    "    return alea_par_func\n",
    "\n",
    "\n",
    "def head_assignation(frame, oldPos):\n",
    "    to_assin = []\n",
    "    new_pos = []\n",
    "    rep = dict()\n",
    "    for line in frame:\n",
    "        to_assin.append(head_barycenter(line))\n",
    "        new_pos.append(0)\n",
    "\n",
    "    comb = []\n",
    "    for i in oldPos.keys():\n",
    "        for j in to_assin:\n",
    "            comb.append((i, j))\n",
    "\n",
    "    comb.sort(key=dist)\n",
    "    see1 = []\n",
    "    see2 = []\n",
    "    \n",
    "    for (a, b) in comb:\n",
    "        if (a not in see1) and (b not in see2):\n",
    "            see1.append(a)\n",
    "            see2.append(b)\n",
    "            rep[b] = oldPos[a]\n",
    "\n",
    "    for elm in to_assin:\n",
    "        if elm not in see2:\n",
    "            if len(rep) == 0:\n",
    "                rep[elm] = 1\n",
    "            else:\n",
    "                rep[elm] = max(rep.values()) + 1\n",
    "            see2.append(elm)\n",
    "            \n",
    "    for elm in oldPos.keys():\n",
    "        if elm not in see1:\n",
    "            rep[elm] = oldPos[elm]\n",
    "            see1.append(elm)            \n",
    "\n",
    "    return rep\n",
    "\n",
    "\n",
    "def dist((A, B)):\n",
    "    return A.dist(B)\n",
    "\n",
    "\n",
    "\n",
    "\n",
    "res = make_pred(row_data, make_alea(0.001))\n",
    "print(compute_clear(data_ref, res, 1))\n"
   ]
  },
  {
   "cell_type": "code",
   "execution_count": 22,
   "metadata": {},
   "outputs": [],
   "source": [
    "# sauvegarde les donnée\n",
    "save_data(res, PATH+\"res_tmp.txt\")"
   ]
  },
  {
   "cell_type": "code",
   "execution_count": 10,
   "metadata": {},
   "outputs": [],
   "source": [
    "a = dict()\n",
    "a[2] = \"plop\""
   ]
  },
  {
   "cell_type": "code",
   "execution_count": 20,
   "metadata": {},
   "outputs": [
    {
     "ename": "KeyError",
     "evalue": "3",
     "traceback": [
      "\u001b[0;31m\u001b[0m",
      "\u001b[0;31mKeyError\u001b[0mTraceback (most recent call last)",
      "\u001b[0;32m<ipython-input-20-94e7916e7615>\u001b[0m in \u001b[0;36m<module>\u001b[0;34m()\u001b[0m\n\u001b[0;32m----> 1\u001b[0;31m \u001b[0ma\u001b[0m\u001b[0;34m[\u001b[0m\u001b[0;36m3\u001b[0m\u001b[0;34m]\u001b[0m\u001b[0;34m\u001b[0m\u001b[0m\n\u001b[0m",
      "\u001b[0;31mKeyError\u001b[0m: 3"
     ],
     "output_type": "error"
    }
   ],
   "source": [
    "a[3]"
   ]
  },
  {
   "cell_type": "code",
   "execution_count": null,
   "metadata": {},
   "outputs": [],
   "source": []
  }
 ],
 "metadata": {
  "kernelspec": {
   "display_name": "Python 2",
   "language": "python",
   "name": "python2"
  },
  "language_info": {
   "codemirror_mode": {
    "name": "ipython",
    "version": 2
   },
   "file_extension": ".py",
   "mimetype": "text/x-python",
   "name": "python",
   "nbconvert_exporter": "python",
   "pygments_lexer": "ipython2",
   "version": "2.7.6"
  }
 },
 "nbformat": 4,
 "nbformat_minor": 0
}
