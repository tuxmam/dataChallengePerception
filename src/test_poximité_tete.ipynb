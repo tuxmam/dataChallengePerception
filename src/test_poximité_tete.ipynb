{
 "cells": [
  {
   "cell_type": "code",
   "execution_count": 1,
   "metadata": {
    "collapsed": true
   },
   "outputs": [],
   "source": [
    "from metric.compute_metric import compute_clear\n",
    "from metric.read_file import read_file\n",
    "from utils import make_pred, save_data, iter_frame, body_barycenter, head_barycenter\n",
    "from utils import Point\n",
    "from utils import Corp\n",
    "import numpy as np\n",
    "PATH = \"data/Scenario04-01/\""
   ]
  },
  {
   "cell_type": "code",
   "execution_count": 2,
   "metadata": {},
   "outputs": [
    {
     "name": "stdout",
     "output_type": "stream",
     "text": [
      "(13273, 39)\n(13255, 37)\n"
     ]
    }
   ],
   "source": [
    "# data_ref = read_file(PATH+\"groundTruth.txt\")[630:680]\n",
    "# row_data = np.loadtxt(PATH+\"detections.txt\")[630:680]\n",
    "data_ref = read_file(PATH+\"groundTruth.txt\")\n",
    "row_data = np.loadtxt(PATH+\"detections.txt\")\n",
    "\n",
    "print(data_ref.shape)\n",
    "print(row_data.shape)"
   ]
  },
  {
   "cell_type": "markdown",
   "metadata": {
    "collapsed": true
   },
   "source": [
    "On essaie une methode ou l'on attribue les identité en fonction de la proximitée des tetes a la frame précedent.\n",
    "\n",
    "A amméliorer (methode hongroise, inertie ... ) "
   ]
  },
  {
   "cell_type": "code",
   "execution_count": 3,
   "metadata": {
    "collapsed": true
   },
   "outputs": [
    {
     "name": "stdout",
     "output_type": "stream",
     "text": [
      "(13231, 39)\n"
     ]
    },
    {
     "name": "stdout",
     "output_type": "stream",
     "text": [
      "(0.9787506593323789, 0.0, 0.6461211477151966, 0.6274583678697913)\n"
     ]
    }
   ],
   "source": [
    "from random import randint, random\n",
    "\n",
    "def make_alea(proba_trans):\n",
    "    def alea_par_func(data):\n",
    "        save_pos = dict()\n",
    "        parle = 0\n",
    "        for frame in iter_frame(data):\n",
    "            nb_personne = frame.shape[0]\n",
    "\n",
    "            if random() < proba_trans:\n",
    "                parle = randint(0, nb_personne)\n",
    "\n",
    "            save_pos = head_assignation(frame, save_pos)\n",
    "            for i, _ in enumerate(frame):\n",
    "                cp = Corp(_)\n",
    "                yield (save_pos[cp], save_pos[cp] == parle)\n",
    "    return alea_par_func\n",
    "\n",
    "\n",
    "def head_assignation(frame, oldPos):\n",
    "    to_assin = []\n",
    "    new_pos = []\n",
    "    rep = dict()\n",
    "    for line in frame:\n",
    "        to_assin.append(Corp(line))\n",
    "        new_pos.append(0)\n",
    "\n",
    "    comb = []\n",
    "    for i in oldPos.keys():\n",
    "        for j in to_assin:\n",
    "            comb.append((i, j))\n",
    "\n",
    "    comb.sort(key=dist)\n",
    "    old_pos_traite = []\n",
    "    new_pos_traite = []\n",
    "    \n",
    "    \n",
    "    for (pt_old, pt_new) in comb:\n",
    "        if (pt_old not in old_pos_traite) and (pt_new not in new_pos_traite):\n",
    "            old_pos_traite.append(pt_old)\n",
    "            new_pos_traite.append(pt_new)\n",
    "            rep[pt_new] = oldPos[pt_old]\n",
    "            pt_new.nb_of_use = pt_old.nb_of_use + 1\n",
    "\n",
    "    for elm in to_assin:\n",
    "        if elm not in new_pos_traite:\n",
    "            if len(rep) == 0:\n",
    "                rep[elm] = 1\n",
    "            else: \n",
    "                rep[elm] = max(rep.values()) + 1\n",
    "                # print (\"\\n\")\n",
    "                # print(\"New element ! ! ! \" + str(rep))\n",
    "                # print(\"oldpos : \" + str(oldPos))\n",
    "                # print(to_assin)\n",
    "                # print(\"Frame : \" + str(frame))\n",
    "            new_pos_traite.append(elm)\n",
    "            \n",
    "    for elm in oldPos.keys():\n",
    "        if elm not in old_pos_traite and elm.nb_of_use > 5:\n",
    "            rep[elm] = oldPos[elm]\n",
    "            old_pos_traite.append(elm)       \n",
    "\n",
    "    return rep\n",
    "\n",
    "\n",
    "def dist((A, B)):\n",
    "    return A.dist(B)\n",
    "\n",
    "res = make_pred(row_data, make_alea(0.001))\n",
    "print(res.shape)\n",
    "print(compute_clear(data_ref, res, 1))\n"
   ]
  },
  {
   "cell_type": "code",
   "execution_count": 4,
   "metadata": {
    "collapsed": false
   },
   "outputs": [
    {
     "name": "stdout",
     "output_type": "stream",
     "text": [
      "(13231, 39)\n"
     ]
    },
    {
     "name": "stdout",
     "output_type": "stream",
     "text": [
      "(0.9787506593323789, 0.0, 0.6326855928343708, 0.6141210157486248)\n"
     ]
    }
   ],
   "source": [
    "from munkres import Munkres, print_matrix\n",
    "\n",
    "def make_alea(proba_trans):\n",
    "    def alea_par_func(data):\n",
    "        save_pos = dict()\n",
    "        parle = 0\n",
    "        for frame in iter_frame(data):\n",
    "            nb_personne = frame.shape[0]\n",
    "\n",
    "            if random() < proba_trans:\n",
    "                parle = randint(0, nb_personne)\n",
    "\n",
    "            save_pos = head_assignation(frame, save_pos)\n",
    "\n",
    "            for i, _ in enumerate(frame):\n",
    "                cp = Corp(_)\n",
    "                # if save_pos[cp] == 5:\n",
    "                    # print(save_pos)\n",
    "                yield (save_pos[cp], save_pos[cp] == parle)\n",
    "    return alea_par_func\n",
    "\n",
    "\n",
    "def head_assignation(frame, oldPos):\n",
    "    to_assin = []\n",
    "    new_pos = []\n",
    "    rep = dict()\n",
    "    for line in frame:\n",
    "        to_assin.append(Corp(line))\n",
    "        new_pos.append(0)\n",
    "        \n",
    "    new_pos_traite = []\n",
    "    old_pos_traite = []\n",
    "    \n",
    "    m = Munkres()\n",
    "    matrice = []\n",
    "    old_pos_order = oldPos.keys()\n",
    "    for old in oldPos:\n",
    "        l =[]\n",
    "        for new in to_assin:\n",
    "            l.append(dist((old, new)))\n",
    "        matrice.append(l)\n",
    "    # print(\"old pos oder\" + str(old_pos_order))\n",
    "    # print(\"to_assin\" + str(to_assin))\n",
    "    # print(matrice)\n",
    "    # \n",
    "    if len(matrice) != 0:\n",
    "        indice = m.compute(matrice)\n",
    "        i_min = min((len(old_pos_order), len(to_assin)))\n",
    "        indice = indice[:i_min] # on suprime le 0 pading\n",
    "        for (old, new) in indice:\n",
    "            pt_old = old_pos_order[old]\n",
    "            pt_new = to_assin[new]\n",
    "            old_pos_traite.append(pt_old)\n",
    "            new_pos_traite.append(pt_new)\n",
    "            rep[pt_new] = oldPos[pt_old]\n",
    "            pt_new.nb_of_use = pt_old.nb_of_use + 1\n",
    "                             \n",
    "\n",
    "    for elm in to_assin:\n",
    "        if elm not in new_pos_traite:\n",
    "            if len(rep) == 0:\n",
    "                rep[elm] = 1\n",
    "            else:\n",
    "                rep[elm] = max(rep.values()) + 1\n",
    "                # print (\"\\n\")\n",
    "                # print(\"New element ! ! ! \" + str(rep))\n",
    "                # print(\"oldpos : \" + str(oldPos))\n",
    "                # print(to_assin)\n",
    "                # print(\"Frame : \" + str(frame))\n",
    "            new_pos_traite.append(elm)\n",
    "\n",
    "    for elm in oldPos.keys():\n",
    "        if elm not in old_pos_traite and elm.nb_of_use > 5:\n",
    "            rep[elm] = oldPos[elm]\n",
    "            old_pos_traite.append(elm)\n",
    "    \n",
    "    return rep\n",
    "\n",
    "\n",
    "def dist((A, B)):\n",
    "    return A.dist(B)\n",
    "\n",
    "\n",
    "res = make_pred(row_data, make_alea(0.001))\n",
    "print(res.shape)\n",
    "print(compute_clear(data_ref, res, 1))\n"
   ]
  },
  {
   "cell_type": "code",
   "execution_count": 5,
   "metadata": {},
   "outputs": [],
   "source": [
    "# sauvegarde les donnée\n",
    "save_data(res, PATH+\"res_tmp.txt\")"
   ]
  },
  {
   "cell_type": "code",
   "execution_count": 42,
   "metadata": {},
   "outputs": [
    {
     "name": "stdout",
     "output_type": "stream",
     "text": [
      "1\n"
     ]
    }
   ],
   "source": [
    "a = {\"a\" : 1}\n",
    "print(len(a))"
   ]
  },
  {
   "cell_type": "code",
   "execution_count": 48,
   "metadata": {},
   "outputs": [
    {
     "name": "stdout",
     "output_type": "stream",
     "text": [
      "['a']\n"
     ]
    }
   ],
   "source": [
    "b = a.keys()\n",
    "print(b)"
   ]
  },
  {
   "cell_type": "code",
   "execution_count": 23,
   "metadata": {},
   "outputs": [],
   "source": [
    ""
   ]
  },
  {
   "cell_type": "code",
   "execution_count": null,
   "metadata": {},
   "outputs": [],
   "source": []
  }
 ],
 "metadata": {
  "kernelspec": {
   "display_name": "Python 2",
   "language": "python",
   "name": "python2"
  },
  "language_info": {
   "codemirror_mode": {
    "name": "ipython",
    "version": 2
   },
   "file_extension": ".py",
   "mimetype": "text/x-python",
   "name": "python",
   "nbconvert_exporter": "python",
   "pygments_lexer": "ipython2",
   "version": "2.7.6"
  }
 },
 "nbformat": 4,
 "nbformat_minor": 0
}
