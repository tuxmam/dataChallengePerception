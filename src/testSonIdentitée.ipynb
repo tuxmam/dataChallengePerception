{
 "cells": [
  {
   "cell_type": "markdown",
   "metadata": {
    "collapsed": true
   },
   "source": [
    "# test de la sincro son, image\n",
    "\n",
    "\n",
    "dans ce fichier on test la création d'un estimateur tres simple image/son\n",
    "\n",
    "La personne qui parle est celle la plus proche de la source de son."
   ]
  },
  {
   "cell_type": "code",
   "execution_count": 2,
   "metadata": {},
   "outputs": [],
   "source": [
    "import inspect\n",
    "\n",
    "from sklearn.base import BaseEstimator, ClassifierMixin\n",
    "from sklearn.model_selection import GridSearchCV, RandomizedSearchCV, KFold\n",
    "\n",
    "from metric.compute_metric import compute_clear\n",
    "from utils import make_pred, save_data, iter_frame_sync\n",
    "from metric.read_file import read_file\n",
    "from utils import Point, mult_load, compare_corp_son\n",
    "import numpy as np\n"
   ]
  },
  {
   "cell_type": "code",
   "execution_count": 2,
   "metadata": {},
   "outputs": [],
   "source": [
    "from utils import iter_frame, Corp\n",
    "from utils.identity_assignation import identity_assignation\n",
    "\n",
    "\n",
    "class InertieClasificator(BaseEstimator, ClassifierMixin):\n",
    "    def __init__(self, coef_ine_hd = 1, coef_ine_bd =1, coef_dist_hd = 1, coef_dist_bd = 1, \n",
    "                 coef_size_hd = 1, coef_size_bd = 1, coef_pt_cache = 10, mem_length= 20, coef_col = 1):\n",
    "        \n",
    "        args, _, _, values = inspect.getargvalues(inspect.currentframe())\n",
    "        values.pop(\"self\")\n",
    "\n",
    "        for arg, val in values.items():\n",
    "            setattr(self, arg, val)\n",
    "    \n",
    "    def fit(self, X, y=None):\n",
    "        # on n'apprend rien pour l'instant\n",
    "        pass\n",
    "    \n",
    "    def mk_dist(self):\n",
    "        def fdist(id, corp):\n",
    "            var = id.comp(corp)\n",
    "            dist = var[0] * self.coef_ine_hd\n",
    "            dist += var[1] * self.coef_ine_bd\n",
    "            dist += var[2] * self.coef_col\n",
    "            dist += var[3] * self.coef_dist_hd\n",
    "            dist += var[4] * self.coef_dist_bd\n",
    "            dist += var[5] * self.coef_pt_cache\n",
    "            return dist\n",
    "        return fdist\n",
    "               \n",
    "    \n",
    "    def predict(self, X, y=None):\n",
    "        # prediction\n",
    "        \n",
    "        def func (data):\n",
    "            data_pos, data_son = data\n",
    "            identites = dict()\n",
    "            for frame_pos, frame_son in iter_frame_sync(data_pos,data_son):\n",
    "                \n",
    "                son = frame_son[0]\n",
    "                identites = identity_assignation(frame_pos, identites, None, self.mk_dist())\n",
    "    \n",
    "                for i, l in enumerate(frame_pos):\n",
    "                    cp = Corp(l)\n",
    "                    parle = 0\n",
    "                    # print(str(Point(son[2], son[1])) + \"vs \" + str(cp.hd_bary))\n",
    "                    if cp.hd_bary.dist(Point(son[2], son[1])) < 50:\n",
    "                        # print(\"Match !! \")\n",
    "                        parle = 1\n",
    "                    yield (identites[cp], parle)  \n",
    "        \n",
    "        return [make_pred(vid[0], func, data_son=vid[1]) for vid in X]\n",
    "    \n",
    "    def score(self, X, y, sample_weight=None):\n",
    "        pred = self.predict(X)\n",
    "        res = [0, 0, 0, 0]\n",
    "        for vid, raw in zip(pred, y):\n",
    "            c = compute_clear(raw, vid, 1)\n",
    "            c = list(c)\n",
    "            res = [a+b for a,b in zip(res, c)]\n",
    "        # print(res/len(y))\n",
    "        return [x/len(y) for x in res]\n",
    "           \n",
    "        "
   ]
  },
  {
   "cell_type": "code",
   "execution_count": 38,
   "metadata": {},
   "outputs": [
    {
     "ename": "IOError",
     "evalue": "[Errno 2] No such file or directory: 'data/Scenario03-02/ssl_detection.txt'",
     "traceback": [
      "\u001b[0;31m\u001b[0m",
      "\u001b[0;31mIOError\u001b[0mTraceback (most recent call last)",
      "\u001b[0;32m<ipython-input-38-f286f52d51e5>\u001b[0m in \u001b[0;36m<module>\u001b[0;34m()\u001b[0m\n\u001b[1;32m      1\u001b[0m data_ref, data = mult_load([\"data/Scenario03-02/\", \"data/Scenario01-01/\", \"data/Scenario02-03/\", \"data/Scenario02-01/\",\n\u001b[1;32m      2\u001b[0m                             \u001b[0;34m\"data/Scenario02-02/\"\u001b[0m\u001b[0;34m,\u001b[0m \u001b[0;34m\"data/Scenario03-03/\"\u001b[0m\u001b[0;34m,\u001b[0m \u001b[0;34m\"data/Scenario03-02/\"\u001b[0m\u001b[0;34m,\u001b[0m \u001b[0;34m\"data/Scenario03-01/\"\u001b[0m\u001b[0;34m,\u001b[0m\u001b[0;34m\u001b[0m\u001b[0m\n\u001b[0;32m----> 3\u001b[0;31m                             \"data/Scenario03-05/\"], son=True)\n\u001b[0m",
      "\u001b[0;32m/home/maxence/Documents/S4/dataChallenge/src/utils/make_pred.pyc\u001b[0m in \u001b[0;36mmult_load\u001b[0;34m(ite_path, son, ficher_son)\u001b[0m\n\u001b[1;32m     42\u001b[0m         \u001b[0mdata_ref\u001b[0m\u001b[0;34m.\u001b[0m\u001b[0mappend\u001b[0m\u001b[0;34m(\u001b[0m\u001b[0mread_file\u001b[0m\u001b[0;34m(\u001b[0m\u001b[0mpath\u001b[0m\u001b[0;34m+\u001b[0m\u001b[0;34m\"groundTruth.txt\"\u001b[0m\u001b[0;34m)\u001b[0m\u001b[0;34m)\u001b[0m\u001b[0;34m\u001b[0m\u001b[0m\n\u001b[1;32m     43\u001b[0m         \u001b[0;32mif\u001b[0m \u001b[0mson\u001b[0m\u001b[0;34m:\u001b[0m\u001b[0;34m\u001b[0m\u001b[0m\n\u001b[0;32m---> 44\u001b[0;31m             \u001b[0mdata\u001b[0m\u001b[0;34m.\u001b[0m\u001b[0mappend\u001b[0m\u001b[0;34m(\u001b[0m\u001b[0;34m(\u001b[0m\u001b[0mnp\u001b[0m\u001b[0;34m.\u001b[0m\u001b[0mloadtxt\u001b[0m\u001b[0;34m(\u001b[0m\u001b[0mpath\u001b[0m\u001b[0;34m+\u001b[0m\u001b[0;34m\"augmented_data.txt\"\u001b[0m\u001b[0;34m)\u001b[0m\u001b[0;34m,\u001b[0m \u001b[0mnp\u001b[0m\u001b[0;34m.\u001b[0m\u001b[0mloadtxt\u001b[0m\u001b[0;34m(\u001b[0m\u001b[0mpath\u001b[0m\u001b[0;34m+\u001b[0m\u001b[0mficher_son\u001b[0m\u001b[0;34m)\u001b[0m\u001b[0;34m)\u001b[0m\u001b[0;34m)\u001b[0m\u001b[0;34m\u001b[0m\u001b[0m\n\u001b[0m\u001b[1;32m     45\u001b[0m         \u001b[0;32melse\u001b[0m\u001b[0;34m:\u001b[0m\u001b[0;34m\u001b[0m\u001b[0m\n\u001b[1;32m     46\u001b[0m             \u001b[0mdata\u001b[0m\u001b[0;34m.\u001b[0m\u001b[0mappend\u001b[0m\u001b[0;34m(\u001b[0m\u001b[0mnp\u001b[0m\u001b[0;34m.\u001b[0m\u001b[0mloadtxt\u001b[0m\u001b[0;34m(\u001b[0m\u001b[0mpath\u001b[0m\u001b[0;34m+\u001b[0m\u001b[0;34m\"augmented_data.txt\"\u001b[0m\u001b[0;34m)\u001b[0m\u001b[0;34m)\u001b[0m\u001b[0;34m\u001b[0m\u001b[0m\n",
      "\u001b[0;32m/home/maxence/anaconda3/envs/python2/lib/python2.7/site-packages/numpy/lib/npyio.pyc\u001b[0m in \u001b[0;36mloadtxt\u001b[0;34m(fname, dtype, comments, delimiter, converters, skiprows, usecols, unpack, ndmin)\u001b[0m\n\u001b[1;32m    801\u001b[0m                 \u001b[0mfh\u001b[0m \u001b[0;34m=\u001b[0m \u001b[0miter\u001b[0m\u001b[0;34m(\u001b[0m\u001b[0mbz2\u001b[0m\u001b[0;34m.\u001b[0m\u001b[0mBZ2File\u001b[0m\u001b[0;34m(\u001b[0m\u001b[0mfname\u001b[0m\u001b[0;34m)\u001b[0m\u001b[0;34m)\u001b[0m\u001b[0;34m\u001b[0m\u001b[0m\n\u001b[1;32m    802\u001b[0m             \u001b[0;32melif\u001b[0m \u001b[0msys\u001b[0m\u001b[0;34m.\u001b[0m\u001b[0mversion_info\u001b[0m\u001b[0;34m[\u001b[0m\u001b[0;36m0\u001b[0m\u001b[0;34m]\u001b[0m \u001b[0;34m==\u001b[0m \u001b[0;36m2\u001b[0m\u001b[0;34m:\u001b[0m\u001b[0;34m\u001b[0m\u001b[0m\n\u001b[0;32m--> 803\u001b[0;31m                 \u001b[0mfh\u001b[0m \u001b[0;34m=\u001b[0m \u001b[0miter\u001b[0m\u001b[0;34m(\u001b[0m\u001b[0mopen\u001b[0m\u001b[0;34m(\u001b[0m\u001b[0mfname\u001b[0m\u001b[0;34m,\u001b[0m \u001b[0;34m'U'\u001b[0m\u001b[0;34m)\u001b[0m\u001b[0;34m)\u001b[0m\u001b[0;34m\u001b[0m\u001b[0m\n\u001b[0m\u001b[1;32m    804\u001b[0m             \u001b[0;32melse\u001b[0m\u001b[0;34m:\u001b[0m\u001b[0;34m\u001b[0m\u001b[0m\n\u001b[1;32m    805\u001b[0m                 \u001b[0mfh\u001b[0m \u001b[0;34m=\u001b[0m \u001b[0miter\u001b[0m\u001b[0;34m(\u001b[0m\u001b[0mopen\u001b[0m\u001b[0;34m(\u001b[0m\u001b[0mfname\u001b[0m\u001b[0;34m)\u001b[0m\u001b[0;34m)\u001b[0m\u001b[0;34m\u001b[0m\u001b[0m\n",
      "\u001b[0;31mIOError\u001b[0m: [Errno 2] No such file or directory: 'data/Scenario03-02/ssl_detection.txt'"
     ],
     "output_type": "error"
    }
   ],
   "source": [
    "data_ref, data = mult_load([\"data/Scenario03-02/\", \"data/Scenario01-01/\", \"data/Scenario02-03/\", \"data/Scenario02-01/\",\n",
    "                            \"data/Scenario02-02/\", \"data/Scenario03-03/\", \"data/Scenario03-02/\", \"data/Scenario03-01/\",\n",
    "                            \"data/Scenario03-05/\"], son=True)"
   ]
  },
  {
   "cell_type": "code",
   "execution_count": 7,
   "metadata": {
    "collapsed": false
   },
   "outputs": [
    {
     "name": "stdout",
     "output_type": "stream",
     "text": [
      "[0.97933572191362606, 0.0, 0.74515192766969995, 0.72656087985525009]\n"
     ]
    }
   ],
   "source": [
    "est = InertieClasificator()\n",
    "print(est.score(data, data_ref))"
   ]
  },
  {
   "cell_type": "markdown",
   "metadata": {},
   "source": [
    "parole a 0 : 0.977; 0 , 0.54, 0.53\n",
    "\n",
    "seuil 50 > 0.745/0.726\n",
    "seuil 30/ 40 > 0.71, 0.69\n",
    "seuil 30/ 70 > pareil\n",
    "seuil 50/50 > 0.76, 0.747"
   ]
  },
  {
   "cell_type": "code",
   "execution_count": 8,
   "metadata": {},
   "outputs": [
    {
     "name": "stdout",
     "output_type": "stream",
     "text": [
      "[0.98086419753086418, 0.0, 0.62647607209446865, 0.6098765432098765]\n"
     ]
    }
   ],
   "source": [
    "PATH = \"data/Scenario02-01/\"\n",
    "data_ref = read_file(PATH+\"groundTruth.txt\")\n",
    "data = np.loadtxt(PATH+\"augmented_data.txt\")\n",
    "data_son = np.loadtxt(PATH+\"ssl_detections.txt\")\n",
    "est = InertieClasificator()\n",
    "res = est.predict([(data, data_son)], [data_ref])\n",
    "print(est.score([(data, data_son)], [data_ref]))"
   ]
  },
  {
   "cell_type": "code",
   "execution_count": 9,
   "metadata": {},
   "outputs": [
    {
     "data": {
      "text/plain": [
       "[array([[  19.,    5.,    0., ...,   42.,   -1.,   -1.],\n        [  20.,    5.,    0., ...,   48.,   -1.,   -1.],\n        [  21.,    5.,    0., ...,   62.,   -1.,   -1.],\n        ..., \n        [ 848.,    6.,    0., ...,   -1.,   34.,   98.],\n        [ 849.,    6.,    0., ...,   -1.,   22.,   98.],\n        [ 850.,    6.,    0., ...,   -1.,   -1.,   -1.]])]"
      ]
     },
     "execution_count": 9,
     "metadata": {},
     "output_type": "execute_result"
    }
   ],
   "source": [
    "res"
   ]
  },
  {
   "cell_type": "code",
   "execution_count": 10,
   "metadata": {},
   "outputs": [],
   "source": [
    "save_data(res[0], PATH +  \"res_tmp.txt\")"
   ]
  },
  {
   "cell_type": "code",
   "execution_count": 3,
   "metadata": {},
   "outputs": [],
   "source": [
    "from utils import iter_frame, Corp\n",
    "from utils.identity_assignation import identity_assignation\n",
    "\n",
    "\n",
    "class InertieClasificator(BaseEstimator, ClassifierMixin):\n",
    "    def __init__(self, coef_ine_hd = 1, coef_ine_bd =1, coef_dist_hd = 1, coef_dist_bd = 1, \n",
    "                 coef_size_hd = 1, coef_size_bd = 1, coef_pt_cache = 10, mem_length= 20, coef_col = 1,\n",
    "                 seuil_parole = 60, bonus_parole = 10):\n",
    "        \n",
    "        args, _, _, values = inspect.getargvalues(inspect.currentframe())\n",
    "        values.pop(\"self\")\n",
    "        self.seuil_parole = seuil_parole\n",
    "        self.bonus_parole = bonus_parole\n",
    "\n",
    "        for arg, val in values.items():\n",
    "            setattr(self, arg, val)\n",
    "    \n",
    "    def fit(self, X, y=None):\n",
    "        # on n'apprend rien pour l'instant\n",
    "        pass\n",
    "    \n",
    "    def mk_dist(self):\n",
    "        def fdist(id, corp):\n",
    "            var = id.comp(corp)\n",
    "            dist = var[0] * self.coef_ine_hd\n",
    "            dist += var[1] * self.coef_ine_bd\n",
    "            dist += var[2] * self.coef_col\n",
    "            dist += var[3] * self.coef_dist_hd\n",
    "            dist += var[4] * self.coef_dist_bd\n",
    "            dist += var[5] * self.coef_pt_cache\n",
    "            return dist\n",
    "        return fdist\n",
    "               \n",
    "    \n",
    "    def predict(self, X, y=None):\n",
    "        # prediction\n",
    "        \n",
    "        def func (data):\n",
    "            data_pos, data_son = data\n",
    "            identites = dict()\n",
    "            for frame_pos, frame_son in iter_frame_sync(data_pos,data_son):\n",
    "                \n",
    "          \n",
    "                identites = identity_assignation(frame_pos, identites, None, self.mk_dist())\n",
    "    \n",
    "                for i, l in enumerate(frame_pos):\n",
    "                    cp = Corp(l)\n",
    "                    l = [Point(x[2], x[1]) for x in frame_son]\n",
    "                    pson = min(l, key=lambda p:cp.hd_bary.dist(p))    \n",
    "                    \n",
    "                    id = None\n",
    "                    for _id in identites.keys():\n",
    "                        if _id == cp:\n",
    "                            id = _id\n",
    "                    parle = False\n",
    "                    # print(str(Point(son[2], son[1])) + \"vs \" + str(cp.hd_bary))                    \n",
    "                    if cp.hd_bary.dist(pson) < self.seuil_parole + int(id.get_speak())*self.bonus_parole :\n",
    "                        # print(\"Match !! \")\n",
    "                        parle = True\n",
    "                    id.set_speak(parle)\n",
    "                    yield (identites[cp], int(parle))  \n",
    "        \n",
    "        return [make_pred(vid[0], func, data_son=vid[1]) for vid in X]\n",
    "    \n",
    "    def score(self, X, y, sample_weight=None):\n",
    "        pred = self.predict(X)\n",
    "        res = [0, 0, 0, 0]\n",
    "        for vid, raw in zip(pred, y):\n",
    "            c = compute_clear(raw, vid, 1)\n",
    "            c = list(c)\n",
    "            res = [a+b for a,b in zip(res, c)]\n",
    "        # print(res/len(y))\n",
    "        return [x/len(y) for x in res]\n",
    "           \n",
    "        "
   ]
  },
  {
   "cell_type": "code",
   "execution_count": 5,
   "metadata": {
    "collapsed": true
   },
   "outputs": [
    {
     "name": "stdout",
     "output_type": "stream",
     "text": [
      "res pour s = 10 et b = 10\n"
     ]
    },
    {
     "name": "stdout",
     "output_type": "stream",
     "text": [
      "[0.98442361276303036, 0.0, 0.4773838072879486, 0.46475058067484498]\nres pour s = 10 et b = 20\n"
     ]
    },
    {
     "name": "stdout",
     "output_type": "stream",
     "text": [
      "[0.98442361276303036, 0.0, 0.49674446267639843, 0.48400435748338061]\nres pour s = 10 et b = 30\n"
     ]
    },
    {
     "name": "stdout",
     "output_type": "stream",
     "text": [
      "[0.98442361276303036, 0.0, 0.53869995530217707, 0.52575424187434727]\nres pour s = 10 et b = 40\n"
     ]
    },
    {
     "name": "stdout",
     "output_type": "stream",
     "text": [
      "[0.98442361276303036, 0.0, 0.5575601772887504, 0.54454146638922662]\nres pour s = 10 et b = 50\n"
     ]
    },
    {
     "name": "stdout",
     "output_type": "stream",
     "text": [
      "[0.98442361276303036, 0.0, 0.56080452163949712, 0.54777254829304978]\nres pour s = 10 et b = 60\n"
     ]
    },
    {
     "name": "stdout",
     "output_type": "stream",
     "text": [
      "[0.98442361276303036, 0.0, 0.5636866851902429, 0.55063675974956761]\nres pour s = 30 et b = 10\n"
     ]
    },
    {
     "ename": "KeyboardInterrupt",
     "evalue": "",
     "traceback": [
      "\u001b[0;31m\u001b[0m",
      "\u001b[0;31mKeyboardInterrupt\u001b[0mTraceback (most recent call last)",
      "\u001b[0;32m<ipython-input-5-4b64b1bf43ed>\u001b[0m in \u001b[0;36m<module>\u001b[0;34m()\u001b[0m\n\u001b[1;32m      7\u001b[0m         \u001b[0mest\u001b[0m \u001b[0;34m=\u001b[0m \u001b[0mInertieClasificator\u001b[0m\u001b[0;34m(\u001b[0m\u001b[0mseuil_parole\u001b[0m\u001b[0;34m=\u001b[0m\u001b[0ms\u001b[0m\u001b[0;34m,\u001b[0m \u001b[0mbonus_parole\u001b[0m\u001b[0;34m=\u001b[0m\u001b[0mb\u001b[0m\u001b[0;34m)\u001b[0m\u001b[0;34m\u001b[0m\u001b[0m\n\u001b[1;32m      8\u001b[0m         \u001b[0;32mprint\u001b[0m\u001b[0;34m(\u001b[0m\u001b[0;34m\"res pour s = {} et b = {}\"\u001b[0m\u001b[0;34m.\u001b[0m\u001b[0mformat\u001b[0m\u001b[0;34m(\u001b[0m\u001b[0ms\u001b[0m\u001b[0;34m,\u001b[0m \u001b[0mb\u001b[0m\u001b[0;34m)\u001b[0m\u001b[0;34m)\u001b[0m\u001b[0;34m\u001b[0m\u001b[0m\n\u001b[0;32m----> 9\u001b[0;31m         \u001b[0;32mprint\u001b[0m\u001b[0;34m(\u001b[0m\u001b[0mest\u001b[0m\u001b[0;34m.\u001b[0m\u001b[0mscore\u001b[0m\u001b[0;34m(\u001b[0m\u001b[0mdata\u001b[0m\u001b[0;34m,\u001b[0m \u001b[0mdata_ref\u001b[0m\u001b[0;34m)\u001b[0m\u001b[0;34m)\u001b[0m\u001b[0;34m\u001b[0m\u001b[0m\n\u001b[0m",
      "\u001b[0;32m<ipython-input-2-f91877fa45b8>\u001b[0m in \u001b[0;36mscore\u001b[0;34m(self, X, y, sample_weight)\u001b[0m\n\u001b[1;32m     64\u001b[0m \u001b[0;34m\u001b[0m\u001b[0m\n\u001b[1;32m     65\u001b[0m     \u001b[0;32mdef\u001b[0m \u001b[0mscore\u001b[0m\u001b[0;34m(\u001b[0m\u001b[0mself\u001b[0m\u001b[0;34m,\u001b[0m \u001b[0mX\u001b[0m\u001b[0;34m,\u001b[0m \u001b[0my\u001b[0m\u001b[0;34m,\u001b[0m \u001b[0msample_weight\u001b[0m\u001b[0;34m=\u001b[0m\u001b[0mNone\u001b[0m\u001b[0;34m)\u001b[0m\u001b[0;34m:\u001b[0m\u001b[0;34m\u001b[0m\u001b[0m\n\u001b[0;32m---> 66\u001b[0;31m         \u001b[0mpred\u001b[0m \u001b[0;34m=\u001b[0m \u001b[0mself\u001b[0m\u001b[0;34m.\u001b[0m\u001b[0mpredict\u001b[0m\u001b[0;34m(\u001b[0m\u001b[0mX\u001b[0m\u001b[0;34m)\u001b[0m\u001b[0;34m\u001b[0m\u001b[0m\n\u001b[0m\u001b[1;32m     67\u001b[0m         \u001b[0mres\u001b[0m \u001b[0;34m=\u001b[0m \u001b[0;34m[\u001b[0m\u001b[0;36m0\u001b[0m\u001b[0;34m,\u001b[0m \u001b[0;36m0\u001b[0m\u001b[0;34m,\u001b[0m \u001b[0;36m0\u001b[0m\u001b[0;34m,\u001b[0m \u001b[0;36m0\u001b[0m\u001b[0;34m]\u001b[0m\u001b[0;34m\u001b[0m\u001b[0m\n\u001b[1;32m     68\u001b[0m         \u001b[0;32mfor\u001b[0m \u001b[0mvid\u001b[0m\u001b[0;34m,\u001b[0m \u001b[0mraw\u001b[0m \u001b[0;32min\u001b[0m \u001b[0mzip\u001b[0m\u001b[0;34m(\u001b[0m\u001b[0mpred\u001b[0m\u001b[0;34m,\u001b[0m \u001b[0my\u001b[0m\u001b[0;34m)\u001b[0m\u001b[0;34m:\u001b[0m\u001b[0;34m\u001b[0m\u001b[0m\n",
      "\u001b[0;32m<ipython-input-2-f91877fa45b8>\u001b[0m in \u001b[0;36mpredict\u001b[0;34m(self, X, y)\u001b[0m\n\u001b[1;32m     61\u001b[0m                     \u001b[0;32myield\u001b[0m \u001b[0;34m(\u001b[0m\u001b[0midentites\u001b[0m\u001b[0;34m[\u001b[0m\u001b[0mcp\u001b[0m\u001b[0;34m]\u001b[0m\u001b[0;34m,\u001b[0m \u001b[0mint\u001b[0m\u001b[0;34m(\u001b[0m\u001b[0mparle\u001b[0m\u001b[0;34m)\u001b[0m\u001b[0;34m)\u001b[0m\u001b[0;34m\u001b[0m\u001b[0m\n\u001b[1;32m     62\u001b[0m \u001b[0;34m\u001b[0m\u001b[0m\n\u001b[0;32m---> 63\u001b[0;31m         \u001b[0;32mreturn\u001b[0m \u001b[0;34m[\u001b[0m\u001b[0mmake_pred\u001b[0m\u001b[0;34m(\u001b[0m\u001b[0mvid\u001b[0m\u001b[0;34m[\u001b[0m\u001b[0;36m0\u001b[0m\u001b[0;34m]\u001b[0m\u001b[0;34m,\u001b[0m \u001b[0mfunc\u001b[0m\u001b[0;34m,\u001b[0m \u001b[0mdata_son\u001b[0m\u001b[0;34m=\u001b[0m\u001b[0mvid\u001b[0m\u001b[0;34m[\u001b[0m\u001b[0;36m1\u001b[0m\u001b[0;34m]\u001b[0m\u001b[0;34m)\u001b[0m \u001b[0;32mfor\u001b[0m \u001b[0mvid\u001b[0m \u001b[0;32min\u001b[0m \u001b[0mX\u001b[0m\u001b[0;34m]\u001b[0m\u001b[0;34m\u001b[0m\u001b[0m\n\u001b[0m\u001b[1;32m     64\u001b[0m \u001b[0;34m\u001b[0m\u001b[0m\n\u001b[1;32m     65\u001b[0m     \u001b[0;32mdef\u001b[0m \u001b[0mscore\u001b[0m\u001b[0;34m(\u001b[0m\u001b[0mself\u001b[0m\u001b[0;34m,\u001b[0m \u001b[0mX\u001b[0m\u001b[0;34m,\u001b[0m \u001b[0my\u001b[0m\u001b[0;34m,\u001b[0m \u001b[0msample_weight\u001b[0m\u001b[0;34m=\u001b[0m\u001b[0mNone\u001b[0m\u001b[0;34m)\u001b[0m\u001b[0;34m:\u001b[0m\u001b[0;34m\u001b[0m\u001b[0m\n",
      "\u001b[0;32m/home/maxence/Documents/S4/dataChallenge/src/utils/make_pred.pyc\u001b[0m in \u001b[0;36mmake_pred\u001b[0;34m(data, fonction, data_son)\u001b[0m\n\u001b[1;32m     20\u001b[0m     \u001b[0;32melse\u001b[0m \u001b[0;34m:\u001b[0m\u001b[0;34m\u001b[0m\u001b[0m\n\u001b[1;32m     21\u001b[0m         \u001b[0mdata_fun\u001b[0m \u001b[0;34m=\u001b[0m \u001b[0mdata\u001b[0m\u001b[0;34m\u001b[0m\u001b[0m\n\u001b[0;32m---> 22\u001b[0;31m     \u001b[0;32mfor\u001b[0m \u001b[0mline\u001b[0m\u001b[0;34m,\u001b[0m \u001b[0;34m(\u001b[0m\u001b[0midentite\u001b[0m\u001b[0;34m,\u001b[0m \u001b[0mspeak\u001b[0m\u001b[0;34m)\u001b[0m \u001b[0;32min\u001b[0m \u001b[0mzip\u001b[0m\u001b[0;34m(\u001b[0m\u001b[0mclean_lines\u001b[0m\u001b[0;34m(\u001b[0m\u001b[0mdata\u001b[0m\u001b[0;34m)\u001b[0m\u001b[0;34m,\u001b[0m \u001b[0mfonction\u001b[0m\u001b[0;34m(\u001b[0m\u001b[0mdata_fun\u001b[0m\u001b[0;34m)\u001b[0m\u001b[0;34m)\u001b[0m\u001b[0;34m:\u001b[0m\u001b[0;34m\u001b[0m\u001b[0m\n\u001b[0m\u001b[1;32m     23\u001b[0m         \u001b[0mres\u001b[0m\u001b[0;34m.\u001b[0m\u001b[0mappend\u001b[0m\u001b[0;34m(\u001b[0m\u001b[0mnp\u001b[0m\u001b[0;34m.\u001b[0m\u001b[0mconcatenate\u001b[0m\u001b[0;34m(\u001b[0m\u001b[0;34m(\u001b[0m\u001b[0mline\u001b[0m\u001b[0;34m[\u001b[0m\u001b[0;36m0\u001b[0m\u001b[0;34m:\u001b[0m\u001b[0;36m1\u001b[0m\u001b[0;34m]\u001b[0m\u001b[0;34m,\u001b[0m \u001b[0;34m[\u001b[0m\u001b[0midentite\u001b[0m\u001b[0;34m%\u001b[0m\u001b[0;36m8\u001b[0m\u001b[0;34m]\u001b[0m\u001b[0;34m,\u001b[0m \u001b[0;34m[\u001b[0m\u001b[0mspeak\u001b[0m\u001b[0;34m]\u001b[0m\u001b[0;34m,\u001b[0m \u001b[0mline\u001b[0m\u001b[0;34m[\u001b[0m\u001b[0;36m1\u001b[0m\u001b[0;34m:\u001b[0m\u001b[0;36m37\u001b[0m\u001b[0;34m]\u001b[0m\u001b[0;34m)\u001b[0m\u001b[0;34m)\u001b[0m\u001b[0;34m)\u001b[0m\u001b[0;34m\u001b[0m\u001b[0m\n\u001b[1;32m     24\u001b[0m     \u001b[0;32mreturn\u001b[0m \u001b[0mnp\u001b[0m\u001b[0;34m.\u001b[0m\u001b[0marray\u001b[0m\u001b[0;34m(\u001b[0m\u001b[0mres\u001b[0m\u001b[0;34m)\u001b[0m\u001b[0;34m\u001b[0m\u001b[0m\n",
      "\u001b[0;32m<ipython-input-2-f91877fa45b8>\u001b[0m in \u001b[0;36mfunc\u001b[0;34m(data)\u001b[0m\n\u001b[1;32m     42\u001b[0m \u001b[0;34m\u001b[0m\u001b[0m\n\u001b[1;32m     43\u001b[0m \u001b[0;34m\u001b[0m\u001b[0m\n\u001b[0;32m---> 44\u001b[0;31m                 \u001b[0midentites\u001b[0m \u001b[0;34m=\u001b[0m \u001b[0midentity_assignation\u001b[0m\u001b[0;34m(\u001b[0m\u001b[0mframe_pos\u001b[0m\u001b[0;34m,\u001b[0m \u001b[0midentites\u001b[0m\u001b[0;34m,\u001b[0m \u001b[0mNone\u001b[0m\u001b[0;34m,\u001b[0m \u001b[0mself\u001b[0m\u001b[0;34m.\u001b[0m\u001b[0mmk_dist\u001b[0m\u001b[0;34m(\u001b[0m\u001b[0;34m)\u001b[0m\u001b[0;34m)\u001b[0m\u001b[0;34m\u001b[0m\u001b[0m\n\u001b[0m\u001b[1;32m     45\u001b[0m \u001b[0;34m\u001b[0m\u001b[0m\n\u001b[1;32m     46\u001b[0m                 \u001b[0;32mfor\u001b[0m \u001b[0mi\u001b[0m\u001b[0;34m,\u001b[0m \u001b[0ml\u001b[0m \u001b[0;32min\u001b[0m \u001b[0menumerate\u001b[0m\u001b[0;34m(\u001b[0m\u001b[0mframe_pos\u001b[0m\u001b[0;34m)\u001b[0m\u001b[0;34m:\u001b[0m\u001b[0;34m\u001b[0m\u001b[0m\n",
      "\u001b[0;32m/home/maxence/Documents/S4/dataChallenge/src/utils/identity_assignation.pyc\u001b[0m in \u001b[0;36midentity_assignation\u001b[0;34m(frame, dicId, conf, dist)\u001b[0m\n\u001b[1;32m     30\u001b[0m         \u001b[0ml\u001b[0m \u001b[0;34m=\u001b[0m \u001b[0;34m[\u001b[0m\u001b[0;34m]\u001b[0m\u001b[0;34m\u001b[0m\u001b[0m\n\u001b[1;32m     31\u001b[0m         \u001b[0;32mfor\u001b[0m \u001b[0mpos\u001b[0m \u001b[0;32min\u001b[0m \u001b[0mpos_to_assin\u001b[0m\u001b[0;34m:\u001b[0m\u001b[0;34m\u001b[0m\u001b[0m\n\u001b[0;32m---> 32\u001b[0;31m             \u001b[0ml\u001b[0m\u001b[0;34m.\u001b[0m\u001b[0mappend\u001b[0m\u001b[0;34m(\u001b[0m\u001b[0mdist\u001b[0m\u001b[0;34m(\u001b[0m\u001b[0mid\u001b[0m\u001b[0;34m,\u001b[0m \u001b[0mpos\u001b[0m\u001b[0;34m)\u001b[0m\u001b[0;34m)\u001b[0m\u001b[0;34m\u001b[0m\u001b[0m\n\u001b[0m\u001b[1;32m     33\u001b[0m         \u001b[0mmatrice\u001b[0m\u001b[0;34m.\u001b[0m\u001b[0mappend\u001b[0m\u001b[0;34m(\u001b[0m\u001b[0ml\u001b[0m\u001b[0;34m)\u001b[0m\u001b[0;34m\u001b[0m\u001b[0m\n\u001b[1;32m     34\u001b[0m \u001b[0;34m\u001b[0m\u001b[0m\n",
      "\u001b[0;32m<ipython-input-2-f91877fa45b8>\u001b[0m in \u001b[0;36mfdist\u001b[0;34m(id, corp)\u001b[0m\n\u001b[1;32m     22\u001b[0m     \u001b[0;32mdef\u001b[0m \u001b[0mmk_dist\u001b[0m\u001b[0;34m(\u001b[0m\u001b[0mself\u001b[0m\u001b[0;34m)\u001b[0m\u001b[0;34m:\u001b[0m\u001b[0;34m\u001b[0m\u001b[0m\n\u001b[1;32m     23\u001b[0m         \u001b[0;32mdef\u001b[0m \u001b[0mfdist\u001b[0m\u001b[0;34m(\u001b[0m\u001b[0mid\u001b[0m\u001b[0;34m,\u001b[0m \u001b[0mcorp\u001b[0m\u001b[0;34m)\u001b[0m\u001b[0;34m:\u001b[0m\u001b[0;34m\u001b[0m\u001b[0m\n\u001b[0;32m---> 24\u001b[0;31m             \u001b[0mvar\u001b[0m \u001b[0;34m=\u001b[0m \u001b[0mid\u001b[0m\u001b[0;34m.\u001b[0m\u001b[0mcomp\u001b[0m\u001b[0;34m(\u001b[0m\u001b[0mcorp\u001b[0m\u001b[0;34m)\u001b[0m\u001b[0;34m\u001b[0m\u001b[0m\n\u001b[0m\u001b[1;32m     25\u001b[0m             \u001b[0mdist\u001b[0m \u001b[0;34m=\u001b[0m \u001b[0mvar\u001b[0m\u001b[0;34m[\u001b[0m\u001b[0;36m0\u001b[0m\u001b[0;34m]\u001b[0m \u001b[0;34m*\u001b[0m \u001b[0mself\u001b[0m\u001b[0;34m.\u001b[0m\u001b[0mcoef_ine_hd\u001b[0m\u001b[0;34m\u001b[0m\u001b[0m\n\u001b[1;32m     26\u001b[0m             \u001b[0mdist\u001b[0m \u001b[0;34m+=\u001b[0m \u001b[0mvar\u001b[0m\u001b[0;34m[\u001b[0m\u001b[0;36m1\u001b[0m\u001b[0;34m]\u001b[0m \u001b[0;34m*\u001b[0m \u001b[0mself\u001b[0m\u001b[0;34m.\u001b[0m\u001b[0mcoef_ine_bd\u001b[0m\u001b[0;34m\u001b[0m\u001b[0m\n",
      "\u001b[0;32m/home/maxence/Documents/S4/dataChallenge/src/utils/Identity.pyc\u001b[0m in \u001b[0;36mcomp\u001b[0;34m(self, body)\u001b[0m\n\u001b[1;32m    107\u001b[0m             \u001b[0mdist_pt\u001b[0m \u001b[0;34m+=\u001b[0m \u001b[0mself\u001b[0m\u001b[0;34m.\u001b[0m\u001b[0mget_pos\u001b[0m\u001b[0;34m(\u001b[0m\u001b[0mi\u001b[0m\u001b[0;34m)\u001b[0m\u001b[0;34m.\u001b[0m\u001b[0mdist_pt_cache\u001b[0m\u001b[0;34m(\u001b[0m\u001b[0mbody\u001b[0m\u001b[0;34m)\u001b[0m\u001b[0;34m\u001b[0m\u001b[0m\n\u001b[1;32m    108\u001b[0m \u001b[0;34m\u001b[0m\u001b[0m\n\u001b[0;32m--> 109\u001b[0;31m         return np.array([(body.hd_bary - self.get_pos(0).hd_bary).dist(self.vect_tete),\n\u001b[0m\u001b[1;32m    110\u001b[0m                          \u001b[0;34m(\u001b[0m\u001b[0mbody\u001b[0m\u001b[0;34m.\u001b[0m\u001b[0mbd_bary\u001b[0m \u001b[0;34m-\u001b[0m \u001b[0mself\u001b[0m\u001b[0;34m.\u001b[0m\u001b[0mget_pos\u001b[0m\u001b[0;34m(\u001b[0m\u001b[0;36m0\u001b[0m\u001b[0;34m)\u001b[0m\u001b[0;34m.\u001b[0m\u001b[0mbd_bary\u001b[0m\u001b[0;34m)\u001b[0m\u001b[0;34m.\u001b[0m\u001b[0mdist\u001b[0m\u001b[0;34m(\u001b[0m\u001b[0mself\u001b[0m\u001b[0;34m.\u001b[0m\u001b[0mvect_corp\u001b[0m\u001b[0;34m)\u001b[0m\u001b[0;34m,\u001b[0m\u001b[0;34m\u001b[0m\u001b[0m\n\u001b[1;32m    111\u001b[0m                          \u001b[0mdist_col\u001b[0m\u001b[0;34m,\u001b[0m\u001b[0;34m\u001b[0m\u001b[0m\n",
      "\u001b[0;32m/home/maxence/Documents/S4/dataChallenge/src/utils/Point.pyc\u001b[0m in \u001b[0;36m__sub__\u001b[0;34m(self, other)\u001b[0m\n\u001b[1;32m     28\u001b[0m \u001b[0;34m\u001b[0m\u001b[0m\n\u001b[1;32m     29\u001b[0m     \u001b[0;32mdef\u001b[0m \u001b[0m__sub__\u001b[0m\u001b[0;34m(\u001b[0m\u001b[0mself\u001b[0m\u001b[0;34m,\u001b[0m \u001b[0mother\u001b[0m\u001b[0;34m)\u001b[0m\u001b[0;34m:\u001b[0m\u001b[0;34m\u001b[0m\u001b[0m\n\u001b[0;32m---> 30\u001b[0;31m         \u001b[0;32mreturn\u001b[0m \u001b[0mPoint\u001b[0m\u001b[0;34m(\u001b[0m\u001b[0mself\u001b[0m\u001b[0;34m.\u001b[0m\u001b[0mx\u001b[0m\u001b[0;34m-\u001b[0m\u001b[0mother\u001b[0m\u001b[0;34m.\u001b[0m\u001b[0mx\u001b[0m\u001b[0;34m,\u001b[0m \u001b[0mself\u001b[0m\u001b[0;34m.\u001b[0m\u001b[0my\u001b[0m\u001b[0;34m-\u001b[0m\u001b[0mother\u001b[0m\u001b[0;34m.\u001b[0m\u001b[0my\u001b[0m\u001b[0;34m)\u001b[0m\u001b[0;34m\u001b[0m\u001b[0m\n\u001b[0m\u001b[1;32m     31\u001b[0m \u001b[0;34m\u001b[0m\u001b[0m\n\u001b[1;32m     32\u001b[0m     \u001b[0;32mdef\u001b[0m \u001b[0m__mul__\u001b[0m\u001b[0;34m(\u001b[0m\u001b[0mself\u001b[0m\u001b[0;34m,\u001b[0m \u001b[0mnb\u001b[0m\u001b[0;34m)\u001b[0m\u001b[0;34m:\u001b[0m\u001b[0;34m\u001b[0m\u001b[0m\n",
      "\u001b[0;31mKeyboardInterrupt\u001b[0m: "
     ],
     "output_type": "error"
    }
   ],
   "source": [
    "data_ref, data = mult_load([\"data/Scenario03-02/\", \"data/Scenario01-01/\", \"data/Scenario02-03/\", \"data/Scenario02-01/\",\n",
    "                            \"data/Scenario02-02/\", \"data/Scenario03-03/\", \"data/Scenario03-02/\",\"data/Scenario03-01/\",\n",
    "                            \"data/Scenario03-05/\"], son=True, ficher_son=\"mixture\")\n",
    "data_ref, data = mult_load([\"test/Scenario01-03/\", \"test/Scenario03-MeetingRoom04/\", \"test/Scenario05-03/\", \"test/Scenario05-04/\"], son=True, ficher_son=\"mixture\")\n",
    "for s in [10, 30, 40, 50, 60, 70, 80, 100]:\n",
    "    for b in [10,20,30,40,50,60]:\n",
    "        est = InertieClasificator(seuil_parole=s, bonus_parole=b)\n",
    "        print(\"res pour s = {} et b = {}\".format(s, b))\n",
    "        print(est.score(data, data_ref))"
   ]
  },
  {
   "cell_type": "code",
   "execution_count": 4,
   "metadata": {
    "collapsed": true
   },
   "outputs": [
    {
     "name": "stdout",
     "output_type": "stream",
     "text": [
      "res pour s = 10 et b = 10\n"
     ]
    },
    {
     "name": "stdout",
     "output_type": "stream",
     "text": [
      "[0.98086419753086418, 0.0, 0.35052827843380979, 0.33580246913580247]\nres pour s = 10 et b = 20\n"
     ]
    },
    {
     "name": "stdout",
     "output_type": "stream",
     "text": [
      "[0.98086419753086418, 0.0, 0.3523927905531386, 0.33765432098765435]\nres pour s = 10 et b = 30\n"
     ]
    },
    {
     "name": "stdout",
     "output_type": "stream",
     "text": [
      "[0.98086419753086418, 0.0, 0.35550031075201988, 0.34074074074074079]\nres pour s = 10 et b = 40\n"
     ]
    },
    {
     "name": "stdout",
     "output_type": "stream",
     "text": [
      "[0.98086419753086418, 0.0, 0.35985083903045367, 0.34506172839506177]\nres pour s = 10 et b = 50\n"
     ]
    },
    {
     "name": "stdout",
     "output_type": "stream",
     "text": [
      "[0.98086419753086418, 0.0, 0.36047234307022996, 0.34567901234567899]\nres pour s = 10 et b = 60\n"
     ]
    },
    {
     "name": "stdout",
     "output_type": "stream",
     "text": [
      "[0.98086419753086418, 0.0, 0.36171535114978248, 0.34691358024691354]\nres pour s = 30 et b = 10\n"
     ]
    },
    {
     "name": "stdout",
     "output_type": "stream",
     "text": [
      "[0.98086419753086418, 0.0, 0.53760099440646369, 0.52160493827160492]\nres pour s = 30 et b = 20\n"
     ]
    },
    {
     "name": "stdout",
     "output_type": "stream",
     "text": [
      "[0.98086419753086418, 0.0, 0.55003107520198879, 0.53395061728395055]\nres pour s = 30 et b = 30\n"
     ]
    },
    {
     "name": "stdout",
     "output_type": "stream",
     "text": [
      "[0.98086419753086418, 0.0, 0.55935363579863273, 0.54320987654320985]\nres pour s = 30 et b = 40\n"
     ]
    },
    {
     "name": "stdout",
     "output_type": "stream",
     "text": [
      "[0.98086419753086418, 0.0, 0.56556867619639528, 0.54938271604938271]\nres pour s = 30 et b = 50\n"
     ]
    },
    {
     "name": "stdout",
     "output_type": "stream",
     "text": [
      "[0.98086419753086418, 0.0, 0.59353635798632687, 0.5771604938271605]\nres pour s = 30 et b = 60\n"
     ]
    },
    {
     "name": "stdout",
     "output_type": "stream",
     "text": [
      "[0.98086419753086418, 0.0, 0.59912989434431319, 0.58271604938271604]\nres pour s = 40 et b = 10\n"
     ]
    },
    {
     "name": "stdout",
     "output_type": "stream",
     "text": [
      "[0.98086419753086418, 0.0, 0.60969546302050959, 0.59320987654320989]\nres pour s = 40 et b = 20\n"
     ]
    },
    {
     "name": "stdout",
     "output_type": "stream",
     "text": [
      "[0.98086419753086418, 0.0, 0.62647607209446865, 0.6098765432098765]\nres pour s = 40 et b = 30\n"
     ]
    },
    {
     "name": "stdout",
     "output_type": "stream",
     "text": [
      "[0.98086419753086418, 0.0, 0.64077066500932256, 0.624074074074074]\nres pour s = 40 et b = 40\n"
     ]
    },
    {
     "name": "stdout",
     "output_type": "stream",
     "text": [
      "[0.98086419753086418, 0.0, 0.65692977004350528, 0.6401234567901235]\nres pour s = 40 et b = 50\n"
     ]
    },
    {
     "name": "stdout",
     "output_type": "stream",
     "text": [
      "[0.98086419753086418, 0.0, 0.66749533871970168, 0.65061728395061724]\nres pour s = 40 et b = 60\n"
     ]
    },
    {
     "ename": "KeyboardInterrupt",
     "evalue": "",
     "traceback": [
      "\u001b[0;31m\u001b[0m",
      "\u001b[0;31mKeyboardInterrupt\u001b[0mTraceback (most recent call last)",
      "\u001b[0;32m<ipython-input-4-cce6649ce718>\u001b[0m in \u001b[0;36m<module>\u001b[0;34m()\u001b[0m\n\u001b[1;32m      9\u001b[0m         \u001b[0mest\u001b[0m \u001b[0;34m=\u001b[0m \u001b[0mInertieClasificator\u001b[0m\u001b[0;34m(\u001b[0m\u001b[0mseuil_parole\u001b[0m\u001b[0;34m=\u001b[0m\u001b[0ms\u001b[0m\u001b[0;34m,\u001b[0m \u001b[0mbonus_parole\u001b[0m\u001b[0;34m=\u001b[0m\u001b[0mb\u001b[0m\u001b[0;34m)\u001b[0m\u001b[0;34m\u001b[0m\u001b[0m\n\u001b[1;32m     10\u001b[0m         \u001b[0;32mprint\u001b[0m\u001b[0;34m(\u001b[0m\u001b[0;34m\"res pour s = {} et b = {}\"\u001b[0m\u001b[0;34m.\u001b[0m\u001b[0mformat\u001b[0m\u001b[0;34m(\u001b[0m\u001b[0ms\u001b[0m\u001b[0;34m,\u001b[0m \u001b[0mb\u001b[0m\u001b[0;34m)\u001b[0m\u001b[0;34m)\u001b[0m\u001b[0;34m\u001b[0m\u001b[0m\n\u001b[0;32m---> 11\u001b[0;31m         \u001b[0;32mprint\u001b[0m\u001b[0;34m(\u001b[0m\u001b[0mest\u001b[0m\u001b[0;34m.\u001b[0m\u001b[0mscore\u001b[0m\u001b[0;34m(\u001b[0m\u001b[0;34m[\u001b[0m\u001b[0;34m(\u001b[0m\u001b[0mdata\u001b[0m\u001b[0;34m,\u001b[0m \u001b[0mdata_son\u001b[0m\u001b[0;34m)\u001b[0m\u001b[0;34m]\u001b[0m\u001b[0;34m,\u001b[0m \u001b[0;34m[\u001b[0m\u001b[0mdata_ref\u001b[0m\u001b[0;34m]\u001b[0m\u001b[0;34m)\u001b[0m\u001b[0;34m)\u001b[0m\u001b[0;34m\u001b[0m\u001b[0m\n\u001b[0m",
      "\u001b[0;32m<ipython-input-3-f91877fa45b8>\u001b[0m in \u001b[0;36mscore\u001b[0;34m(self, X, y, sample_weight)\u001b[0m\n\u001b[1;32m     67\u001b[0m         \u001b[0mres\u001b[0m \u001b[0;34m=\u001b[0m \u001b[0;34m[\u001b[0m\u001b[0;36m0\u001b[0m\u001b[0;34m,\u001b[0m \u001b[0;36m0\u001b[0m\u001b[0;34m,\u001b[0m \u001b[0;36m0\u001b[0m\u001b[0;34m,\u001b[0m \u001b[0;36m0\u001b[0m\u001b[0;34m]\u001b[0m\u001b[0;34m\u001b[0m\u001b[0m\n\u001b[1;32m     68\u001b[0m         \u001b[0;32mfor\u001b[0m \u001b[0mvid\u001b[0m\u001b[0;34m,\u001b[0m \u001b[0mraw\u001b[0m \u001b[0;32min\u001b[0m \u001b[0mzip\u001b[0m\u001b[0;34m(\u001b[0m\u001b[0mpred\u001b[0m\u001b[0;34m,\u001b[0m \u001b[0my\u001b[0m\u001b[0;34m)\u001b[0m\u001b[0;34m:\u001b[0m\u001b[0;34m\u001b[0m\u001b[0m\n\u001b[0;32m---> 69\u001b[0;31m             \u001b[0mc\u001b[0m \u001b[0;34m=\u001b[0m \u001b[0mcompute_clear\u001b[0m\u001b[0;34m(\u001b[0m\u001b[0mraw\u001b[0m\u001b[0;34m,\u001b[0m \u001b[0mvid\u001b[0m\u001b[0;34m,\u001b[0m \u001b[0;36m1\u001b[0m\u001b[0;34m)\u001b[0m\u001b[0;34m\u001b[0m\u001b[0m\n\u001b[0m\u001b[1;32m     70\u001b[0m             \u001b[0mc\u001b[0m \u001b[0;34m=\u001b[0m \u001b[0mlist\u001b[0m\u001b[0;34m(\u001b[0m\u001b[0mc\u001b[0m\u001b[0;34m)\u001b[0m\u001b[0;34m\u001b[0m\u001b[0m\n\u001b[1;32m     71\u001b[0m             \u001b[0mres\u001b[0m \u001b[0;34m=\u001b[0m \u001b[0;34m[\u001b[0m\u001b[0ma\u001b[0m\u001b[0;34m+\u001b[0m\u001b[0mb\u001b[0m \u001b[0;32mfor\u001b[0m \u001b[0ma\u001b[0m\u001b[0;34m,\u001b[0m\u001b[0mb\u001b[0m \u001b[0;32min\u001b[0m \u001b[0mzip\u001b[0m\u001b[0;34m(\u001b[0m\u001b[0mres\u001b[0m\u001b[0;34m,\u001b[0m \u001b[0mc\u001b[0m\u001b[0;34m)\u001b[0m\u001b[0;34m]\u001b[0m\u001b[0;34m\u001b[0m\u001b[0m\n",
      "\u001b[0;32m/home/maxence/Documents/S4/dataChallenge/src/metric/compute_metric.pyc\u001b[0m in \u001b[0;36mcompute_clear\u001b[0;34m(obs, hyp, Thr, d)\u001b[0m\n\u001b[1;32m     50\u001b[0m         \u001b[0;31m## 1st step, checking if former matches are still valid\u001b[0m\u001b[0;34m\u001b[0m\u001b[0;34m\u001b[0m\u001b[0m\n\u001b[1;32m     51\u001b[0m         \u001b[0;32mfor\u001b[0m \u001b[0mi\u001b[0m \u001b[0;32min\u001b[0m \u001b[0mM\u001b[0m\u001b[0;34m[\u001b[0m\u001b[0mt\u001b[0m\u001b[0;34m-\u001b[0m\u001b[0;36m1\u001b[0m\u001b[0;34m]\u001b[0m\u001b[0;34m.\u001b[0m\u001b[0mkeys\u001b[0m\u001b[0;34m(\u001b[0m\u001b[0;34m)\u001b[0m\u001b[0;34m:\u001b[0m \u001b[0;31m# going through past matched hypothesis' identities i\u001b[0m\u001b[0;34m\u001b[0m\u001b[0m\n\u001b[0;32m---> 52\u001b[0;31m             \u001b[0;32mif\u001b[0m \u001b[0mi\u001b[0m \u001b[0;32min\u001b[0m \u001b[0mobst\u001b[0m\u001b[0;34m[\u001b[0m\u001b[0;34m:\u001b[0m\u001b[0;34m,\u001b[0m\u001b[0;36m1\u001b[0m\u001b[0;34m]\u001b[0m \u001b[0;32mand\u001b[0m \u001b[0mM\u001b[0m\u001b[0;34m[\u001b[0m\u001b[0mt\u001b[0m\u001b[0;34m-\u001b[0m\u001b[0;36m1\u001b[0m\u001b[0;34m]\u001b[0m\u001b[0;34m[\u001b[0m\u001b[0mi\u001b[0m\u001b[0;34m]\u001b[0m \u001b[0;32min\u001b[0m \u001b[0mhypt\u001b[0m\u001b[0;34m[\u001b[0m\u001b[0;34m:\u001b[0m\u001b[0;34m,\u001b[0m\u001b[0;36m1\u001b[0m\u001b[0;34m]\u001b[0m\u001b[0;34m:\u001b[0m \u001b[0;31m# if i is still visible (in observations) and its matched hypothesis still exists\u001b[0m\u001b[0;34m\u001b[0m\u001b[0m\n\u001b[0m\u001b[1;32m     53\u001b[0m                 \u001b[0;31m# taking their corresponding coordinates\u001b[0m\u001b[0;34m\u001b[0m\u001b[0;34m\u001b[0m\u001b[0m\n\u001b[1;32m     54\u001b[0m                 \u001b[0mox\u001b[0m \u001b[0;34m=\u001b[0m \u001b[0mobst\u001b[0m\u001b[0;34m[\u001b[0m\u001b[0mnp\u001b[0m\u001b[0;34m.\u001b[0m\u001b[0msqueeze\u001b[0m\u001b[0;34m(\u001b[0m\u001b[0mnp\u001b[0m\u001b[0;34m.\u001b[0m\u001b[0mwhere\u001b[0m\u001b[0;34m(\u001b[0m\u001b[0mobst\u001b[0m\u001b[0;34m[\u001b[0m\u001b[0;34m:\u001b[0m\u001b[0;34m,\u001b[0m\u001b[0;36m1\u001b[0m\u001b[0;34m]\u001b[0m \u001b[0;34m==\u001b[0m \u001b[0mi\u001b[0m\u001b[0;34m)\u001b[0m\u001b[0;34m)\u001b[0m\u001b[0;34m,\u001b[0m\u001b[0;36m2\u001b[0m\u001b[0;34m:\u001b[0m\u001b[0;34m]\u001b[0m\u001b[0;34m\u001b[0m\u001b[0m\n",
      "\u001b[0;31mKeyboardInterrupt\u001b[0m: "
     ],
     "output_type": "error"
    }
   ],
   "source": [
    ""
   ]
  },
  {
   "cell_type": "code",
   "execution_count": 8,
   "metadata": {
    "collapsed": false
   },
   "outputs": [
    {
     "name": "stdout",
     "output_type": "stream",
     "text": [
      "[0.98442361276303036, 0.0, 0.79872782636095829, 0.78445409543082234]\n"
     ]
    }
   ],
   "source": [
    "data_ref, data = mult_load([\"test/Scenario01-03/\", \"test/Scenario03-MeetingRoom04/\", \"test/Scenario05-03/\", \"test/Scenario05-04/\"], son=True, ficher_son=\"mixture\")\n",
    "est = InertieClasificator(seuil_parole=60, bonus_parole=10)\n",
    "print(est.score(data, data_ref))"
   ]
  },
  {
   "cell_type": "markdown",
   "metadata": {},
   "source": [
    "Avec mixture :\n",
    "res pour s = 60 et b = 10\n",
    "[0.97933572191362606, 0.0, 0.78860922364016373, 0.76984948154927946]\n",
    "\n",
    "\n",
    "\n",
    "Avec old sol\n",
    "res pour s = 10 et b = 10\n",
    "[0.97933572191362606, 0.0, 0.56944794123814113, 0.5517790737362408]\n",
    "res pour s = 10 et b = 20\n",
    "[0.97933572191362606, 0.0, 0.57959528055125398, 0.56188820954621255]\n",
    "res pour s = 10 et b = 30\n",
    "[0.97933572191362606, 0.0, 0.5849108605877773, 0.56716322390788698]\n",
    "res pour s = 10 et b = 40\n",
    "[0.97933572191362606, 0.0, 0.58675289000236186, 0.56897608476245642]\n",
    "res pour s = 10 et b = 50\n",
    "[0.97933572191362606, 0.0, 0.58608344814655977, 0.56832262730906513]\n",
    "res pour s = 10 et b = 60\n",
    "[0.97933572191362606, 0.0, 0.58471768683808933, 0.56697323965885227]\n",
    "res pour s = 30 et b = 10\n",
    "[0.97933572191362606, 0.0, 0.68528772330577248, 0.66706708323584296]\n",
    "res pour s = 30 et b = 20\n",
    "[0.97933572191362606, 0.0, 0.69795327454593747, 0.67966731346251574]\n",
    "res pour s = 30 et b = 30\n",
    "[0.97933572191362606, 0.0, 0.70838509416285156, 0.69002943320116839]\n",
    "res pour s = 30 et b = 40\n",
    "[0.97933572191362606, 0.0, 0.71116083517444284, 0.69281109704515886]\n",
    "res pour s = 30 et b = 50\n",
    "[0.97933572191362606, 0.0, 0.71252512392153144, 0.69419923404033235]\n",
    "res pour s = 30 et b = 60\n",
    "[0.97933572191362606, 0.0, 0.71427246594867977, 0.69595357981591921]\n",
    "res pour s = 40 et b = 10\n",
    "[0.97933572191362606, 0.0, 0.72698942912598363, 0.70852277440945199]\n",
    "res pour s = 40 et b = 20\n",
    "[0.97933572191362606, 0.0, 0.7406017358480006, 0.72204794188787957]\n",
    "res pour s = 40 et b = 30\n",
    "[0.97933572191362606, 0.0, 0.7467149548099683, 0.72813624575733626]\n",
    "res pour s = 40 et b = 40\n",
    "[0.97933572191362606, 0.0, 0.74877827623787918, 0.73023017425659531]\n",
    "res pour s = 40 et b = 50\n",
    "[0.97933572191362606, 0.0, 0.75456483660675611, 0.73602458244971425]\n",
    "res pour s = 40 et b = 60\n",
    "[0.97933572191362606, 0.0, 0.75087439358708163, 0.73242497022832942]\n",
    "res pour s = 50 et b = 10\n",
    "[0.97933572191362606, 0.0, 0.75881547943080963, 0.74015485622285471]\n",
    "res pour s = 50 et b = 20\n",
    "[0.97933572191362606, 0.0, 0.76236037381561927, 0.74370506980751949]\n",
    "res pour s = 50 et b = 30\n",
    "[0.97933572191362606, 0.0, 0.76631123963746839, 0.74766466592147185]\n",
    "res pour s = 50 et b = 40\n",
    "[0.97933572191362606, 0.0, 0.76915178057223899, 0.75051930029975011]\n",
    "res pour s = 50 et b = 50\n",
    "[0.97933572191362606, 0.0, 0.76568017277546252, 0.74713823663030732]\n",
    "res pour s = 50 et b = 60\n",
    "[0.97933572191362606, 0.0, 0.76221722844668771, 0.74373181502647312]\n",
    "res pour s = 60 et b = 10\n",
    "[0.97933572191362606, 0.0, 0.76632689197728809, 0.74768470054277669]\n",
    "res pour s = 60 et b = 20\n",
    "[0.97933572191362606, 0.0, 0.76966037165995926, 0.7510268796613615]\n",
    "res pour s = 60 et b = 30\n",
    "[0.97933572191362606, 0.0, 0.77162185607558431, 0.7530090617243882]\n",
    "res pour s = 60 et b = 40\n",
    "[0.97933572191362606, 0.0, 0.76606154828149209, 0.74757590553757047]\n",
    "res pour s = 60 et b = 50\n",
    "[0.97933572191362606, 0.0, 0.76273420979931605, 0.74430259555193534]\n",
    "res pour s = 60 et b = 60\n",
    "[0.97933572191362606, 0.0, 0.75859905619589008, 0.740210690706538]\n",
    "res pour s = 70 et b = 10\n",
    "[0.97933572191362606, 0.0, 0.77002826010079173, 0.7514505584778387]\n",
    "res pour s = 70 et b = 20\n",
    "[0.97933572191362606, 0.0, 0.76833588746272341, 0.74981105698064954]\n",
    "res pour s = 70 et b = 30\n",
    "[0.97933572191362606, 0.0, 0.76648859221204269, 0.74803684928302228]\n",
    "res pour s = 70 et b = 40\n",
    "[0.97933572191362606, 0.0, 0.76204489395021591, 0.74366094138372119]\n",
    "res pour s = 70 et b = 50\n",
    "[0.97933572191362606, 0.0, 0.75768200146947817, 0.73934517674058287]\n",
    "res pour s = 70 et b = 60\n",
    "[0.97933572191362606, 0.0, 0.75399964724690782, 0.73571606273651002]\n",
    "res pour s = 80 et b = 10\n",
    "[0.97933572191362606, 0.0, 0.77021448710370988, 0.75172487450519376]\n",
    "res pour s = 80 et b = 20\n",
    "[0.97933572191362606, 0.0, 0.76878370981111721, 0.7503564237996454]\n",
    "res pour s = 80 et b = 30\n",
    "[0.97933572191362606, 0.0, 0.76344304672966457, 0.74510906395662013]\n",
    "res pour s = 80 et b = 40\n",
    "[0.97933572191362606, 0.0, 0.75943038139047836, 0.74114283413417692]\n",
    "res pour s = 80 et b = 50\n",
    "[0.97933572191362606, 0.0, 0.75379284748373154, 0.73557427958996457]\n",
    "res pour s = 80 et b = 60\n",
    "[0.97933572191362606, 0.0, 0.75083849105201106, 0.73267763322755863]\n",
    "res pour s = 100 et b = 10\n",
    "[0.97933572191362606, 0.0, 0.73975705552957605, 0.72172468987163818]\n",
    "res pour s = 100 et b = 20\n",
    "[0.97933572191362606, 0.0, 0.73453728773585958, 0.7165840987865284]\n",
    "res pour s = 100 et b = 30\n",
    "[0.97933572191362606, 0.0, 0.72790094109587655, 0.71001509190076262]\n",
    "res pour s = 100 et b = 40\n",
    "[0.97933572191362606, 0.0, 0.72621807714366604, 0.70838863794838725]\n",
    "res pour s = 100 et b = 50\n",
    "[0.97933572191362606, 0.0, 0.72814271638911654, 0.71031363613086462]\n",
    "res pour s = 100 et b = 60\n",
    "[0.97933572191362606, 0.0, 0.72425450541800707, 0.70645992844335737]"
   ]
  },
  {
   "cell_type": "code",
   "execution_count": 15,
   "metadata": {
    "collapsed": true
   },
   "outputs": [
    {
     "name": "stdout",
     "output_type": "stream",
     "text": [
      "res pour s = 10 et b = 10\n"
     ]
    },
    {
     "name": "stdout",
     "output_type": "stream",
     "text": [
      "[0.98476383951244284, 0.0, 0.70187713310580202, 0.68901303538175052]\nres pour s = 10 et b = 20\n"
     ]
    },
    {
     "name": "stdout",
     "output_type": "stream",
     "text": [
      "[0.98476383951244284, 0.0, 0.70904436860068254, 0.69612324360927713]\nres pour s = 10 et b = 30\n"
     ]
    },
    {
     "name": "stdout",
     "output_type": "stream",
     "text": [
      "[0.98476383951244284, 0.0, 0.71843003412969286, 0.70543423057389543]\nres pour s = 10 et b = 40\n"
     ]
    },
    {
     "name": "stdout",
     "output_type": "stream",
     "text": [
      "[0.98476383951244284, 0.0, 0.72030716723549493, 0.70729642796681902]\nres pour s = 10 et b = 50\n"
     ]
    },
    {
     "name": "stdout",
     "output_type": "stream",
     "text": [
      "[0.98476383951244284, 0.0, 0.7235494880546075, 0.71051295073641441]\nres pour s = 10 et b = 60\n"
     ]
    },
    {
     "name": "stdout",
     "output_type": "stream",
     "text": [
      "[0.98476383951244284, 0.0, 0.71331058020477811, 0.70035551041137634]\nres pour s = 30 et b = 10\n"
     ]
    },
    {
     "name": "stdout",
     "output_type": "stream",
     "text": [
      "[0.98476383951244284, 0.0, 0.73225255972696246, 0.71914677501269675]\nres pour s = 30 et b = 20\n"
     ]
    },
    {
     "name": "stdout",
     "output_type": "stream",
     "text": [
      "[0.98476383951244284, 0.0, 0.7327645051194539, 0.71965464702894866]\nres pour s = 30 et b = 30\n"
     ]
    },
    {
     "name": "stdout",
     "output_type": "stream",
     "text": [
      "[0.98476383951244284, 0.0, 0.75426621160409557, 0.74098527171152861]\nres pour s = 30 et b = 40\n"
     ]
    },
    {
     "name": "stdout",
     "output_type": "stream",
     "text": [
      "[0.98476383951244284, 0.0, 0.74880546075085319, 0.73556797020484166]\nres pour s = 30 et b = 50\n"
     ]
    },
    {
     "name": "stdout",
     "output_type": "stream",
     "text": [
      "[0.98476383951244284, 0.0, 0.75529010238907845, 0.74200101574403243]\nres pour s = 30 et b = 60\n"
     ]
    },
    {
     "name": "stdout",
     "output_type": "stream",
     "text": [
      "[0.98476383951244284, 0.0, 0.76399317406143341, 0.75063484002031489]\nres pour s = 40 et b = 10\n"
     ]
    },
    {
     "name": "stdout",
     "output_type": "stream",
     "text": [
      "[0.98476383951244284, 0.0, 0.74488054607508536, 0.73167428474691043]\nres pour s = 40 et b = 20\n"
     ]
    },
    {
     "name": "stdout",
     "output_type": "stream",
     "text": [
      "[0.98476383951244284, 0.0, 0.76518771331058022, 0.75181987472490264]\nres pour s = 40 et b = 30\n"
     ]
    },
    {
     "name": "stdout",
     "output_type": "stream",
     "text": [
      "[0.98476383951244284, 0.0, 0.76348122866894197, 0.75012696800406298]\nres pour s = 40 et b = 40\n"
     ]
    },
    {
     "name": "stdout",
     "output_type": "stream",
     "text": [
      "[0.98476383951244284, 0.0, 0.77610921501706487, 0.76265447773827666]\nres pour s = 40 et b = 50\n"
     ]
    },
    {
     "name": "stdout",
     "output_type": "stream",
     "text": [
      "[0.98476383951244284, 0.0, 0.78003412969283281, 0.76654816319620789]\nres pour s = 40 et b = 60\n"
     ]
    },
    {
     "name": "stdout",
     "output_type": "stream",
     "text": [
      "[0.98476383951244284, 0.0, 0.7822525597269625, 0.76874894193329946]\nres pour s = 50 et b = 10\n"
     ]
    },
    {
     "name": "stdout",
     "output_type": "stream",
     "text": [
      "[0.98476383951244284, 0.0, 0.77047781569965867, 0.75706788555950566]\nres pour s = 50 et b = 20\n"
     ]
    },
    {
     "name": "stdout",
     "output_type": "stream",
     "text": [
      "[0.98476383951244284, 0.0, 0.77013651877133105, 0.75672930421533779]\nres pour s = 50 et b = 30\n"
     ]
    },
    {
     "name": "stdout",
     "output_type": "stream",
     "text": [
      "[0.98476383951244284, 0.0, 0.77627986348122868, 0.76282376841036059]\nres pour s = 50 et b = 40\n"
     ]
    },
    {
     "name": "stdout",
     "output_type": "stream",
     "text": [
      "[0.98476383951244284, 0.0, 0.77952218430034126, 0.76604029117995598]\nres pour s = 50 et b = 50\n"
     ]
    },
    {
     "name": "stdout",
     "output_type": "stream",
     "text": [
      "[0.98476383951244284, 0.0, 0.77781569965870312, 0.76434738445911632]\nres pour s = 50 et b = 60\n"
     ]
    },
    {
     "name": "stdout",
     "output_type": "stream",
     "text": [
      "[0.98476383951244284, 0.0, 0.77576791808873724, 0.76231589639410868]\nres pour s = 60 et b = 10\n"
     ]
    },
    {
     "name": "stdout",
     "output_type": "stream",
     "text": [
      "[0.98476383951244284, 0.0, 0.77559726962457343, 0.76214660572202475]\nres pour s = 60 et b = 20\n"
     ]
    },
    {
     "name": "stdout",
     "output_type": "stream",
     "text": [
      "[0.98476383951244284, 0.0, 0.78208191126279869, 0.76857965126121552]\nres pour s = 60 et b = 30\n"
     ]
    },
    {
     "name": "stdout",
     "output_type": "stream",
     "text": [
      "[0.98476383951244284, 0.0, 0.78634812286689415, 0.77281191806331473]\nres pour s = 60 et b = 40\n"
     ]
    },
    {
     "name": "stdout",
     "output_type": "stream",
     "text": [
      "[0.98476383951244284, 0.0, 0.78139931740614332, 0.76790248857287957]\nres pour s = 60 et b = 50\n"
     ]
    },
    {
     "name": "stdout",
     "output_type": "stream",
     "text": [
      "[0.98476383951244284, 0.0, 0.77901023890784982, 0.76553241916370407]\nres pour s = 60 et b = 60\n"
     ]
    },
    {
     "name": "stdout",
     "output_type": "stream",
     "text": [
      "[0.98476383951244284, 0.0, 0.77781569965870312, 0.76434738445911632]\nres pour s = 70 et b = 10\n"
     ]
    },
    {
     "name": "stdout",
     "output_type": "stream",
     "text": [
      "[0.98476383951244284, 0.0, 0.78430034129692838, 0.77078042999830709]\nres pour s = 70 et b = 20\n"
     ]
    },
    {
     "name": "stdout",
     "output_type": "stream",
     "text": [
      "[0.98476383951244284, 0.0, 0.78515358361774745, 0.77162688335872698]\nres pour s = 70 et b = 30\n"
     ]
    },
    {
     "name": "stdout",
     "output_type": "stream",
     "text": [
      "[0.98476383951244284, 0.0, 0.78088737201365188, 0.76739461655662766]\nres pour s = 70 et b = 40\n"
     ]
    },
    {
     "name": "stdout",
     "output_type": "stream",
     "text": [
      "[0.98476383951244284, 0.0, 0.77218430034129693, 0.75876079228034532]\nres pour s = 70 et b = 50\n"
     ]
    },
    {
     "name": "stdout",
     "output_type": "stream",
     "text": [
      "[0.98476383951244284, 0.0, 0.76860068259385661, 0.75520568816658207]\nres pour s = 70 et b = 60\n"
     ]
    },
    {
     "name": "stdout",
     "output_type": "stream",
     "text": [
      "[0.98476383951244284, 0.0, 0.75580204778157001, 0.74250888776028434]\nres pour s = 80 et b = 10\n"
     ]
    },
    {
     "name": "stdout",
     "output_type": "stream",
     "text": [
      "[0.98476383951244284, 0.0, 0.77525597269624569, 0.76180802437785677]\nres pour s = 80 et b = 20\n"
     ]
    },
    {
     "name": "stdout",
     "output_type": "stream",
     "text": [
      "[0.98476383951244284, 0.0, 0.773037542662116, 0.75960724564076521]\nres pour s = 80 et b = 30\n"
     ]
    },
    {
     "name": "stdout",
     "output_type": "stream",
     "text": [
      "[0.98476383951244284, 0.0, 0.76433447098976104, 0.75097342136448275]\nres pour s = 80 et b = 40\n"
     ]
    },
    {
     "name": "stdout",
     "output_type": "stream",
     "text": [
      "[0.98476383951244284, 0.0, 0.76058020477815702, 0.74724902657863557]\nres pour s = 80 et b = 50\n"
     ]
    },
    {
     "name": "stdout",
     "output_type": "stream",
     "text": [
      "[0.98476383951244284, 0.0, 0.74812286689419794, 0.73489080751650582]\nres pour s = 80 et b = 60\n"
     ]
    },
    {
     "name": "stdout",
     "output_type": "stream",
     "text": [
      "[0.98476383951244284, 0.0, 0.74505119453924917, 0.73184357541899447]\nres pour s = 100 et b = 10\n"
     ]
    },
    {
     "name": "stdout",
     "output_type": "stream",
     "text": [
      "[0.98476383951244284, 0.0, 0.74334470989761092, 0.7301506686981547]\nres pour s = 100 et b = 20\n"
     ]
    },
    {
     "name": "stdout",
     "output_type": "stream",
     "text": [
      "[0.98476383951244284, 0.0, 0.72730375426621163, 0.7142373455222617]\nres pour s = 100 et b = 30\n"
     ]
    },
    {
     "name": "stdout",
     "output_type": "stream",
     "text": [
      "[0.98476383951244284, 0.0, 0.71416382252559729, 0.70120196377179611]\nres pour s = 100 et b = 40\n"
     ]
    },
    {
     "name": "stdout",
     "output_type": "stream",
     "text": [
      "[0.98476383951244284, 0.0, 0.71058020477815698, 0.69764685965803286]\nres pour s = 100 et b = 50\n"
     ]
    },
    {
     "name": "stdout",
     "output_type": "stream",
     "text": [
      "[0.98476383951244284, 0.0, 0.70802047781569966, 0.69510749957677331]\nres pour s = 100 et b = 60\n"
     ]
    },
    {
     "name": "stdout",
     "output_type": "stream",
     "text": [
      "[0.98476383951244284, 0.0, 0.69965870307167233, 0.68681225664465884]\nres pour s = 110 et b = 10\n"
     ]
    },
    {
     "name": "stdout",
     "output_type": "stream",
     "text": [
      "[0.98476383951244284, 0.0, 0.71416382252559729, 0.70120196377179611]\nres pour s = 110 et b = 20\n"
     ]
    },
    {
     "name": "stdout",
     "output_type": "stream",
     "text": [
      "[0.98476383951244284, 0.0, 0.69692832764505119, 0.68410360589131547]\nres pour s = 110 et b = 30\n"
     ]
    },
    {
     "name": "stdout",
     "output_type": "stream",
     "text": [
      "[0.98476383951244284, 0.0, 0.69266211604095562, 0.67987133908921615]\nres pour s = 110 et b = 40\n"
     ]
    },
    {
     "name": "stdout",
     "output_type": "stream",
     "text": [
      "[0.98476383951244284, 0.0, 0.68941979522184305, 0.67665481631962077]\nres pour s = 110 et b = 50\n"
     ]
    },
    {
     "name": "stdout",
     "output_type": "stream",
     "text": [
      "[0.98476383951244284, 0.0, 0.6808873720136519, 0.66819028271542236]\nres pour s = 110 et b = 60\n"
     ]
    },
    {
     "name": "stdout",
     "output_type": "stream",
     "text": [
      "[0.98476383951244284, 0.0, 0.66399317406143343, 0.65143050617910947]\n60\n30\n"
     ]
    }
   ],
   "source": [
    "PATH = \"data/Scenario03-05/\"\n",
    "data_ref = read_file(PATH+\"groundTruth.txt\")\n",
    "data = np.loadtxt(PATH+\"augmented_data.txt\")\n",
    "data_son = np.loadtxt(PATH+\"ssl_detections.txt\")\n",
    "est = InertieClasificator()\n",
    "res = est.predict([(data, data_son)])\n",
    "smax = 0\n",
    "bmax = 0\n",
    "max = 0\n",
    "for s in [10, 30, 40, 50, 60, 70, 80, 100,110]:\n",
    "    for b in [10,20,30,40,50,60]:\n",
    "        est = InertieClasificator(seuil_parole=s, bonus_parole=b)\n",
    "        print(\"res pour s = {} et b = {}\".format(s, b))\n",
    "        score = est.score([(data, data_son)], [data_ref])\n",
    "        print(score)\n",
    "        if score[3] > max:\n",
    "            max = score[3]\n",
    "            smax=s\n",
    "            bmax = b\n",
    "            \n",
    "print(smax)\n",
    "print(bmax)"
   ]
  },
  {
   "cell_type": "code",
   "execution_count": null,
   "metadata": {},
   "outputs": [],
   "source": []
  },
  {
   "cell_type": "code",
   "execution_count": 19,
   "metadata": {},
   "outputs": [],
   "source": [
    "import pickle\n",
    "\n",
    "from utils import iter_frame, Corp\n",
    "from utils.identity_assignation import identity_assignation\n",
    "\n",
    "\n",
    "class InertieClasificator(BaseEstimator, ClassifierMixin):\n",
    "    def __init__(self, coef_ine_hd = 1, coef_ine_bd =1, coef_dist_hd = 1, coef_dist_bd = 1, \n",
    "                 coef_size_hd = 1, coef_size_bd = 1, coef_pt_cache = 10, mem_length= 20, coef_col = 1,\n",
    "                 seuil_parole = 60, bonus_parole = 30):\n",
    "        \n",
    "        args, _, _, values = inspect.getargvalues(inspect.currentframe())\n",
    "        values.pop(\"self\")\n",
    "        self.seuil_parole = seuil_parole\n",
    "        self.bonus_parole = bonus_parole\n",
    "\n",
    "        for arg, val in values.items():\n",
    "            setattr(self, arg, val)\n",
    "            \n",
    "        with open(\"learn/mixture_estimator\") as file:\n",
    "            self.est = pickle.load(file)\n",
    "        with open(\"learn/scal\") as file:\n",
    "            self.scal = pickle.load(file)\n",
    "    \n",
    "    def fit(self, X, y=None):\n",
    "        # on n'apprend rien pour l'instant\n",
    "        pass\n",
    "    \n",
    "    def mk_dist(self):\n",
    "        def fdist(id, corp):\n",
    "            var = id.comp(corp)\n",
    "            dist = var[0] * self.coef_ine_hd\n",
    "            dist += var[1] * self.coef_ine_bd\n",
    "            dist += var[2] * self.coef_col\n",
    "            dist += var[3] * self.coef_dist_hd\n",
    "            dist += var[4] * self.coef_dist_bd\n",
    "            dist += var[5] * self.coef_pt_cache\n",
    "            return dist\n",
    "        return fdist\n",
    "               \n",
    "    \n",
    "    def predict(self, X, y=None):\n",
    "        # prediction\n",
    "        \n",
    "        def func (data):\n",
    "            data_pos, data_son = data\n",
    "            identites = dict()\n",
    "            for frame_pos, frame_son in iter_frame_sync(data_pos,data_son):\n",
    "                \n",
    "                son = frame_son[0]\n",
    "                identites = identity_assignation(frame_pos, identites, None, self.mk_dist())\n",
    "    \n",
    "                for i, l in enumerate(frame_pos):\n",
    "                    cp = Corp(l)\n",
    "                    id = None\n",
    "                    parle = False\n",
    "                    for _id in identites.keys():\n",
    "                        if _id == cp:\n",
    "                            id = _id\n",
    "                    if frame_son[0][1] == -1:\n",
    "                        parle = False\n",
    "                    else:\n",
    "                        cmp = compare_corp_son(frame_son, cp)\n",
    "                        # print(\"cmp : \" + str(cmp))\n",
    "                        # print(\"mix :\" + str(frame_son))\n",
    "                        # print(\"pos :\" + str(cp.hd_bary))\n",
    "                        # parle = self.est.predict(np.concatenate((cmp, [int(id.get_speak())])).reshape(1,-1))\n",
    "                        self.scal.transform(cmp.reshape(1, -1))\n",
    "                        parle = self.est.predict(cmp.reshape(1, -1))[0]\n",
    "                        # print(\"PRED : \" + str(parle))                        \n",
    "                        # print(\"############\")                        \n",
    "                    id.set_speak(parle)\n",
    "                    yield (identites[cp], int(parle))  \n",
    "                # if frame_pos[0][0] > 50:\n",
    "                #     break\n",
    "                # \n",
    "        return [make_pred(vid[0], func, data_son=vid[1]) for vid in X]\n",
    "    \n",
    "    def score(self, X, y, sample_weight=None):\n",
    "        pred = self.predict(X)\n",
    "        res = [0, 0, 0, 0]\n",
    "        for vid, raw in zip(pred, y):\n",
    "            c = compute_clear(raw, vid, 1)\n",
    "            c = list(c)\n",
    "            res = [a+b for a,b in zip(res, c)]\n",
    "        # print(res/len(y))\n",
    "        return [x/len(y) for x in res]"
   ]
  },
  {
   "cell_type": "code",
   "execution_count": 3,
   "metadata": {},
   "outputs": [],
   "source": [
    "data_ref, data = mult_load([\"data/Scenario03-02/\", \"data/Scenario01-01/\", \"data/Scenario02-03/\", \"data/Scenario02-01/\",\n",
    "                            \"data/Scenario02-02/\", \"data/Scenario03-03/\", \"data/Scenario03-02/\", \"data/Scenario03-01/\",\n",
    "                            \"data/Scenario03-05/\"], son=True, ficher_son=\"mixture\")"
   ]
  },
  {
   "cell_type": "code",
   "execution_count": 7,
   "metadata": {
    "collapsed": true
   },
   "outputs": [
    {
     "ename": "IndexError",
     "evalue": "invalid index to scalar variable.",
     "traceback": [
      "\u001b[0;31m\u001b[0m",
      "\u001b[0;31mIndexError\u001b[0mTraceback (most recent call last)",
      "\u001b[0;32m<ipython-input-7-728d59c3c872>\u001b[0m in \u001b[0;36m<module>\u001b[0;34m()\u001b[0m\n\u001b[1;32m      1\u001b[0m \u001b[0mest\u001b[0m \u001b[0;34m=\u001b[0m \u001b[0mInertieClasificator\u001b[0m\u001b[0;34m(\u001b[0m\u001b[0;34m)\u001b[0m\u001b[0;34m\u001b[0m\u001b[0m\n\u001b[0;32m----> 2\u001b[0;31m \u001b[0;32mprint\u001b[0m\u001b[0;34m(\u001b[0m\u001b[0mest\u001b[0m\u001b[0;34m.\u001b[0m\u001b[0mscore\u001b[0m\u001b[0;34m(\u001b[0m\u001b[0mdata\u001b[0m\u001b[0;34m,\u001b[0m \u001b[0mdata_ref\u001b[0m\u001b[0;34m)\u001b[0m\u001b[0;34m)\u001b[0m\u001b[0;34m\u001b[0m\u001b[0m\n\u001b[0m",
      "\u001b[0;32m<ipython-input-6-d75d3160c1a4>\u001b[0m in \u001b[0;36mscore\u001b[0;34m(self, X, y, sample_weight)\u001b[0m\n\u001b[1;32m     78\u001b[0m \u001b[0;34m\u001b[0m\u001b[0m\n\u001b[1;32m     79\u001b[0m     \u001b[0;32mdef\u001b[0m \u001b[0mscore\u001b[0m\u001b[0;34m(\u001b[0m\u001b[0mself\u001b[0m\u001b[0;34m,\u001b[0m \u001b[0mX\u001b[0m\u001b[0;34m,\u001b[0m \u001b[0my\u001b[0m\u001b[0;34m,\u001b[0m \u001b[0msample_weight\u001b[0m\u001b[0;34m=\u001b[0m\u001b[0mNone\u001b[0m\u001b[0;34m)\u001b[0m\u001b[0;34m:\u001b[0m\u001b[0;34m\u001b[0m\u001b[0m\n\u001b[0;32m---> 80\u001b[0;31m         \u001b[0mpred\u001b[0m \u001b[0;34m=\u001b[0m \u001b[0mself\u001b[0m\u001b[0;34m.\u001b[0m\u001b[0mpredict\u001b[0m\u001b[0;34m(\u001b[0m\u001b[0mX\u001b[0m\u001b[0;34m)\u001b[0m\u001b[0;34m\u001b[0m\u001b[0m\n\u001b[0m\u001b[1;32m     81\u001b[0m         \u001b[0mres\u001b[0m \u001b[0;34m=\u001b[0m \u001b[0;34m[\u001b[0m\u001b[0;36m0\u001b[0m\u001b[0;34m,\u001b[0m \u001b[0;36m0\u001b[0m\u001b[0;34m,\u001b[0m \u001b[0;36m0\u001b[0m\u001b[0;34m,\u001b[0m \u001b[0;36m0\u001b[0m\u001b[0;34m]\u001b[0m\u001b[0;34m\u001b[0m\u001b[0m\n\u001b[1;32m     82\u001b[0m         \u001b[0;32mfor\u001b[0m \u001b[0mvid\u001b[0m\u001b[0;34m,\u001b[0m \u001b[0mraw\u001b[0m \u001b[0;32min\u001b[0m \u001b[0mzip\u001b[0m\u001b[0;34m(\u001b[0m\u001b[0mpred\u001b[0m\u001b[0;34m,\u001b[0m \u001b[0my\u001b[0m\u001b[0;34m)\u001b[0m\u001b[0;34m:\u001b[0m\u001b[0;34m\u001b[0m\u001b[0m\n",
      "\u001b[0;32m<ipython-input-6-d75d3160c1a4>\u001b[0m in \u001b[0;36mpredict\u001b[0;34m(self, X, y)\u001b[0m\n\u001b[1;32m     75\u001b[0m                 \u001b[0;31m#     break\u001b[0m\u001b[0;34m\u001b[0m\u001b[0;34m\u001b[0m\u001b[0m\n\u001b[1;32m     76\u001b[0m                 \u001b[0;31m#\u001b[0m\u001b[0;34m\u001b[0m\u001b[0;34m\u001b[0m\u001b[0m\n\u001b[0;32m---> 77\u001b[0;31m         \u001b[0;32mreturn\u001b[0m \u001b[0;34m[\u001b[0m\u001b[0mmake_pred\u001b[0m\u001b[0;34m(\u001b[0m\u001b[0mvid\u001b[0m\u001b[0;34m[\u001b[0m\u001b[0;36m0\u001b[0m\u001b[0;34m]\u001b[0m\u001b[0;34m,\u001b[0m \u001b[0mfunc\u001b[0m\u001b[0;34m,\u001b[0m \u001b[0mdata_son\u001b[0m\u001b[0;34m=\u001b[0m\u001b[0mvid\u001b[0m\u001b[0;34m[\u001b[0m\u001b[0;36m1\u001b[0m\u001b[0;34m]\u001b[0m\u001b[0;34m)\u001b[0m \u001b[0;32mfor\u001b[0m \u001b[0mvid\u001b[0m \u001b[0;32min\u001b[0m \u001b[0mX\u001b[0m\u001b[0;34m]\u001b[0m\u001b[0;34m\u001b[0m\u001b[0m\n\u001b[0m\u001b[1;32m     78\u001b[0m \u001b[0;34m\u001b[0m\u001b[0m\n\u001b[1;32m     79\u001b[0m     \u001b[0;32mdef\u001b[0m \u001b[0mscore\u001b[0m\u001b[0;34m(\u001b[0m\u001b[0mself\u001b[0m\u001b[0;34m,\u001b[0m \u001b[0mX\u001b[0m\u001b[0;34m,\u001b[0m \u001b[0my\u001b[0m\u001b[0;34m,\u001b[0m \u001b[0msample_weight\u001b[0m\u001b[0;34m=\u001b[0m\u001b[0mNone\u001b[0m\u001b[0;34m)\u001b[0m\u001b[0;34m:\u001b[0m\u001b[0;34m\u001b[0m\u001b[0m\n",
      "\u001b[0;32m/home/maxence/Documents/S4/dataChallenge/src/utils/make_pred.pyc\u001b[0m in \u001b[0;36mmake_pred\u001b[0;34m(data, fonction, data_son)\u001b[0m\n\u001b[1;32m     20\u001b[0m     \u001b[0;32melse\u001b[0m \u001b[0;34m:\u001b[0m\u001b[0;34m\u001b[0m\u001b[0m\n\u001b[1;32m     21\u001b[0m         \u001b[0mdata_fun\u001b[0m \u001b[0;34m=\u001b[0m \u001b[0mdata\u001b[0m\u001b[0;34m\u001b[0m\u001b[0m\n\u001b[0;32m---> 22\u001b[0;31m     \u001b[0;32mfor\u001b[0m \u001b[0mline\u001b[0m\u001b[0;34m,\u001b[0m \u001b[0;34m(\u001b[0m\u001b[0midentite\u001b[0m\u001b[0;34m,\u001b[0m \u001b[0mspeak\u001b[0m\u001b[0;34m)\u001b[0m \u001b[0;32min\u001b[0m \u001b[0mzip\u001b[0m\u001b[0;34m(\u001b[0m\u001b[0mclean_lines\u001b[0m\u001b[0;34m(\u001b[0m\u001b[0mdata\u001b[0m\u001b[0;34m)\u001b[0m\u001b[0;34m,\u001b[0m \u001b[0mfonction\u001b[0m\u001b[0;34m(\u001b[0m\u001b[0mdata_fun\u001b[0m\u001b[0;34m)\u001b[0m\u001b[0;34m)\u001b[0m\u001b[0;34m:\u001b[0m\u001b[0;34m\u001b[0m\u001b[0m\n\u001b[0m\u001b[1;32m     23\u001b[0m         \u001b[0mres\u001b[0m\u001b[0;34m.\u001b[0m\u001b[0mappend\u001b[0m\u001b[0;34m(\u001b[0m\u001b[0mnp\u001b[0m\u001b[0;34m.\u001b[0m\u001b[0mconcatenate\u001b[0m\u001b[0;34m(\u001b[0m\u001b[0;34m(\u001b[0m\u001b[0mline\u001b[0m\u001b[0;34m[\u001b[0m\u001b[0;36m0\u001b[0m\u001b[0;34m:\u001b[0m\u001b[0;36m1\u001b[0m\u001b[0;34m]\u001b[0m\u001b[0;34m,\u001b[0m \u001b[0;34m[\u001b[0m\u001b[0midentite\u001b[0m\u001b[0;34m%\u001b[0m\u001b[0;36m8\u001b[0m\u001b[0;34m]\u001b[0m\u001b[0;34m,\u001b[0m \u001b[0;34m[\u001b[0m\u001b[0mspeak\u001b[0m\u001b[0;34m]\u001b[0m\u001b[0;34m,\u001b[0m \u001b[0mline\u001b[0m\u001b[0;34m[\u001b[0m\u001b[0;36m1\u001b[0m\u001b[0;34m:\u001b[0m\u001b[0;36m37\u001b[0m\u001b[0;34m]\u001b[0m\u001b[0;34m)\u001b[0m\u001b[0;34m)\u001b[0m\u001b[0;34m)\u001b[0m\u001b[0;34m\u001b[0m\u001b[0m\n\u001b[1;32m     24\u001b[0m     \u001b[0;32mreturn\u001b[0m \u001b[0mnp\u001b[0m\u001b[0;34m.\u001b[0m\u001b[0marray\u001b[0m\u001b[0;34m(\u001b[0m\u001b[0mres\u001b[0m\u001b[0;34m)\u001b[0m\u001b[0;34m\u001b[0m\u001b[0m\n",
      "\u001b[0;32m/home/maxence/Documents/S4/dataChallenge/src/utils/iter_frame.pyc\u001b[0m in \u001b[0;36mclean_lines\u001b[0;34m(data)\u001b[0m\n\u001b[1;32m     67\u001b[0m \u001b[0;34m\u001b[0m\u001b[0m\n\u001b[1;32m     68\u001b[0m \u001b[0;32mdef\u001b[0m \u001b[0mclean_lines\u001b[0m\u001b[0;34m(\u001b[0m\u001b[0mdata\u001b[0m\u001b[0;34m)\u001b[0m\u001b[0;34m:\u001b[0m\u001b[0;34m\u001b[0m\u001b[0m\n\u001b[0;32m---> 69\u001b[0;31m     \u001b[0;32mfor\u001b[0m \u001b[0mframe\u001b[0m \u001b[0;32min\u001b[0m \u001b[0miter_frame\u001b[0m\u001b[0;34m(\u001b[0m\u001b[0mdata\u001b[0m\u001b[0;34m)\u001b[0m\u001b[0;34m:\u001b[0m\u001b[0;34m\u001b[0m\u001b[0m\n\u001b[0m\u001b[1;32m     70\u001b[0m         \u001b[0;32mfor\u001b[0m \u001b[0mline\u001b[0m \u001b[0;32min\u001b[0m \u001b[0mframe\u001b[0m\u001b[0;34m:\u001b[0m\u001b[0;34m\u001b[0m\u001b[0m\n\u001b[1;32m     71\u001b[0m             \u001b[0;32myield\u001b[0m \u001b[0mline\u001b[0m\u001b[0;34m\u001b[0m\u001b[0m\n",
      "\u001b[0;32m/home/maxence/Documents/S4/dataChallenge/src/utils/iter_frame.pyc\u001b[0m in \u001b[0;36miter_frame\u001b[0;34m(data, skip)\u001b[0m\n\u001b[1;32m     13\u001b[0m     \u001b[0mframe\u001b[0m \u001b[0;34m=\u001b[0m \u001b[0;34m[\u001b[0m\u001b[0;34m]\u001b[0m\u001b[0;34m\u001b[0m\u001b[0m\n\u001b[1;32m     14\u001b[0m     \u001b[0mnext_frame\u001b[0m \u001b[0;34m=\u001b[0m \u001b[0;34m[\u001b[0m\u001b[0;34m]\u001b[0m\u001b[0;34m\u001b[0m\u001b[0m\n\u001b[0;32m---> 15\u001b[0;31m     \u001b[0mlast_id\u001b[0m \u001b[0;34m=\u001b[0m \u001b[0mdata\u001b[0m\u001b[0;34m[\u001b[0m\u001b[0;36m0\u001b[0m\u001b[0;34m]\u001b[0m\u001b[0;34m[\u001b[0m\u001b[0;36m0\u001b[0m\u001b[0;34m]\u001b[0m\u001b[0;34m\u001b[0m\u001b[0m\n\u001b[0m\u001b[1;32m     16\u001b[0m     \u001b[0;32mfor\u001b[0m \u001b[0mline\u001b[0m \u001b[0;32min\u001b[0m \u001b[0mdata\u001b[0m\u001b[0;34m:\u001b[0m\u001b[0;34m\u001b[0m\u001b[0m\n\u001b[1;32m     17\u001b[0m         \u001b[0;32mif\u001b[0m \u001b[0mline\u001b[0m\u001b[0;34m[\u001b[0m\u001b[0;36m0\u001b[0m\u001b[0;34m]\u001b[0m \u001b[0;34m==\u001b[0m \u001b[0mlast_id\u001b[0m\u001b[0;34m:\u001b[0m\u001b[0;34m\u001b[0m\u001b[0m\n",
      "\u001b[0;31mIndexError\u001b[0m: invalid index to scalar variable."
     ],
     "output_type": "error"
    }
   ],
   "source": [
    "est = InertieClasificator()\n",
    "print(est.score(data, data_ref))"
   ]
  },
  {
   "cell_type": "code",
   "execution_count": 8,
   "metadata": {
    "collapsed": true
   },
   "outputs": [
    {
     "name": "stdout",
     "output_type": "stream",
     "text": [
      "[0.98429319371727753, 0.0, 0.84816753926701571, 0.83246073298429324]\n"
     ]
    }
   ],
   "source": [
    "PATH = \"data/Scenario01-01/\"\n",
    "data_ref = read_file(PATH+\"groundTruth.txt\")\n",
    "data = np.loadtxt(PATH+\"augmented_data.txt\")\n",
    "data_son = np.loadtxt(PATH+\"mixture\")\n",
    "est = InertieClasificator()\n",
    "res = est.predict([(data, data_son)], [data_ref])\n",
    "print(est.score([(data, data_son)], [data_ref]))\n",
    "save_data(res[0], PATH +  \"res_tmp.txt\")"
   ]
  },
  {
   "cell_type": "code",
   "execution_count": 14,
   "metadata": {},
   "outputs": [
    {
     "ename": "AttributeError",
     "evalue": "'list' object has no attribute 'copy'",
     "traceback": [
      "\u001b[0;31m\u001b[0m",
      "\u001b[0;31mAttributeError\u001b[0mTraceback (most recent call last)",
      "\u001b[0;32m<ipython-input-14-d9d6b197c5d6>\u001b[0m in \u001b[0;36m<module>\u001b[0;34m()\u001b[0m\n\u001b[1;32m      1\u001b[0m \u001b[0;32mfrom\u001b[0m \u001b[0mutils\u001b[0m \u001b[0;32mimport\u001b[0m \u001b[0mcompute_error\u001b[0m\u001b[0;34m\u001b[0m\u001b[0m\n\u001b[0;32m----> 2\u001b[0;31m \u001b[0mcompute_error\u001b[0m\u001b[0;34m(\u001b[0m\u001b[0mdata_ref\u001b[0m\u001b[0;34m,\u001b[0m \u001b[0mres\u001b[0m\u001b[0;34m,\u001b[0m \u001b[0;36m1\u001b[0m\u001b[0;34m)\u001b[0m\u001b[0;34m\u001b[0m\u001b[0m\n\u001b[0m",
      "\u001b[0;32m/home/maxence/Documents/S4/dataChallenge/src/utils/compure_error.py\u001b[0m in \u001b[0;36mcompute_error\u001b[0;34m(obs, hyp, Thr, d)\u001b[0m\n\u001b[1;32m     16\u001b[0m \u001b[0;34m\u001b[0m\u001b[0m\n\u001b[1;32m     17\u001b[0m     \u001b[0mobs_original\u001b[0m \u001b[0;34m=\u001b[0m \u001b[0mobs\u001b[0m\u001b[0;34m.\u001b[0m\u001b[0mcopy\u001b[0m\u001b[0;34m(\u001b[0m\u001b[0;34m)\u001b[0m\u001b[0;34m\u001b[0m\u001b[0m\n\u001b[0;32m---> 18\u001b[0;31m     \u001b[0mhyp_original\u001b[0m \u001b[0;34m=\u001b[0m \u001b[0mhyp\u001b[0m\u001b[0;34m.\u001b[0m\u001b[0mcopy\u001b[0m\u001b[0;34m(\u001b[0m\u001b[0;34m)\u001b[0m\u001b[0;34m\u001b[0m\u001b[0m\n\u001b[0m\u001b[1;32m     19\u001b[0m \u001b[0;34m\u001b[0m\u001b[0m\n\u001b[1;32m     20\u001b[0m     \u001b[0;31m# removing speaking info first, for clarity\u001b[0m\u001b[0;34m\u001b[0m\u001b[0;34m\u001b[0m\u001b[0m\n",
      "\u001b[0;31mAttributeError\u001b[0m: 'list' object has no attribute 'copy'"
     ],
     "output_type": "error"
    }
   ],
   "source": [
    "from utils import compute_error\n",
    "compute_error(data_ref, res, 1)"
   ]
  },
  {
   "cell_type": "code",
   "execution_count": null,
   "metadata": {},
   "outputs": [],
   "source": []
  }
 ],
 "metadata": {
  "kernelspec": {
   "display_name": "Python 2",
   "language": "python",
   "name": "python2"
  },
  "language_info": {
   "codemirror_mode": {
    "name": "ipython",
    "version": 2
   },
   "file_extension": ".py",
   "mimetype": "text/x-python",
   "name": "python",
   "nbconvert_exporter": "python",
   "pygments_lexer": "ipython2",
   "version": "2.7.6"
  }
 },
 "nbformat": 4,
 "nbformat_minor": 0
}
