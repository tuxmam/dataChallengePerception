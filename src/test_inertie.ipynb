{
 "cells": [
  {
   "cell_type": "code",
   "execution_count": 5,
   "metadata": {
    "collapsed": true
   },
   "outputs": [],
   "source": [
    "from metric.compute_metric import compute_clear\n",
    "from metric.read_file import read_file\n",
    "from utils import make_pred, save_data, iter_frame, body_barycenter, head_barycenter\n",
    "from utils import Point\n",
    "from utils import Corp, CorpCol\n",
    "from utils import Identity\n",
    "from utils import mult_load\n",
    "from utils import pretraitement\n",
    "import numpy as np\n",
    "PATH = \"data/Scenario03-01/\"\n"
   ]
  },
  {
   "cell_type": "code",
   "execution_count": 6,
   "metadata": {},
   "outputs": [
    {
     "name": "stdout",
     "output_type": "stream",
     "text": [
      "(7717, 39)\n(7669, 45)\n"
     ]
    },
    {
     "name": "stdout",
     "output_type": "stream",
     "text": [
      "(7717, 39)\n(7669, 45)\n"
     ]
    }
   ],
   "source": [
    "# data_ref = read_file(PATH+\"groundTruth.txt\")[630:680]\n",
    "# row_data = np.loadtxt(PATH+\"detections.txt\")[630:680]\n",
    "data_ref = read_file(PATH+\"groundTruth.txt\")\n",
    "row_data = np.loadtxt(PATH+\"augmented_data.txt\")\n",
    "\n",
    "print(data_ref.shape)\n",
    "print(row_data.shape)"
   ]
  },
  {
   "cell_type": "code",
   "execution_count": 5,
   "metadata": {
    "collapsed": true
   },
   "outputs": [
    {
     "name": "stdout",
     "output_type": "stream",
     "text": [
      "(7663, 39)\n"
     ]
    },
    {
     "name": "stdout",
     "output_type": "stream",
     "text": [
      "(0.9915748541801686, 0.0, 0.5316538310925467, 0.5265068049254699)\n"
     ]
    }
   ],
   "source": [
    "# coding=utf-8\n",
    "from random import random, randint\n",
    "from munkres import Munkres, print_matrix\n",
    "\n",
    "def make_alea(proba_trans, dist, conf=None):\n",
    "    \"\"\"\n",
    "    dist : fonction de distance entre identitée et corp\n",
    "    :param proba_trans: \n",
    "    :param dist: \n",
    "    :param conf: \n",
    "    :return: \n",
    "    \"\"\"\n",
    "    def alea_par_func(data):\n",
    "        save_pos = dict()\n",
    "        parle = 0\n",
    "        for frame in iter_frame(data):\n",
    "            nb_personne = frame.shape[0]\n",
    "\n",
    "            if random() < proba_trans:\n",
    "                parle = randint(0, nb_personne)\n",
    "\n",
    "            save_pos = identity_assignation(frame, save_pos, conf)\n",
    "\n",
    "            for i, _ in enumerate(frame):\n",
    "                cp = Corp(_)\n",
    "                # if save_pos[cp] == 5:\n",
    "                    # print(save_pos)\n",
    "                yield (save_pos[cp], save_pos[cp] == parle)\n",
    "    return alea_par_func\n",
    "\n",
    "\n",
    "def identity_assignation(frame, oldPos, conf, dist):\n",
    "    \"\"\"\n",
    "    dist : fonction de distance entre identitée et corp\n",
    "    :param frame: \n",
    "    :param oldPos: \n",
    "    :param conf: \n",
    "    :param dist: \n",
    "    :return: \n",
    "    \"\"\"\n",
    "    to_assin = []\n",
    "    new_pos = []\n",
    "    rep = dict()\n",
    "    for line in frame:\n",
    "        to_assin.append(Corp(line))\n",
    "        new_pos.append(0)\n",
    "        \n",
    "    new_pos_traite = []\n",
    "    old_pos_traite = []\n",
    "    \n",
    "    m = Munkres()\n",
    "    matrice = []\n",
    "    old_pos_order = oldPos.keys()\n",
    "    for old in oldPos:\n",
    "        l =[]\n",
    "        for new in to_assin:\n",
    "            l.append(dist((old, new)))\n",
    "        matrice.append(l)\n",
    "    # print(\"old pos oder\" + str(old_pos_order))\n",
    "    # print(\"to_assin\" + str(to_assin))\n",
    "    # print(matrice)\n",
    "    # \n",
    "    # \n",
    "    # if len(matrice) != 0 and (max([max(l)for l in matrice])-min([min(l)for l in matrice]) < 100):\n",
    "    #     print (frame)\n",
    "    #     print(\"max \" + str(max([max(l)for l in matrice])))\n",
    "    #     print(\"min \" + str(min([min(l)for l in matrice])))\n",
    "\n",
    "    \n",
    "    if len(matrice) != 0:\n",
    "        indice = m.compute(matrice)\n",
    "        i_min = min((len(old_pos_order), len(to_assin)))\n",
    "        indice = indice[:i_min] # on suprime le 0 pading\n",
    "        for (old, new) in indice:\n",
    "            id_old = old_pos_order[old]\n",
    "            pt_new = to_assin[new]\n",
    "            old_pos_traite.append(id_old)\n",
    "            new_pos_traite.append(pt_new)\n",
    "            id_old.new_pos(pt_new)\n",
    "            rep[id_old] = id_old.id\n",
    "\n",
    "    for id in to_assin:\n",
    "        if id not in new_pos_traite:\n",
    "            new_id = Identity(id, conf)\n",
    "            rep[new_id] = new_id.id\n",
    "            # print (\"\\n\")\n",
    "            # print(\"New element ! ! ! \" + str(rep))\n",
    "            # print(\"oldpos : \" + str(oldPos))\n",
    "            # print(to_assin)\n",
    "            # print(\"Frame : \" + str(frame))\n",
    "            new_pos_traite.append(id)\n",
    "\n",
    "    for id in oldPos.keys():\n",
    "        if id not in old_pos_traite:\n",
    "            rep[id] = oldPos[id]\n",
    "            old_pos_traite.append(id)\n",
    "    \n",
    "    return rep\n",
    "\n",
    "\n",
    "def dist((A, B)):\n",
    "    return A.dist(B)\n",
    "\n",
    "\n",
    "res = make_pred(row_data, make_alea(0.001, dist))\n",
    "print(res.shape)\n",
    "print(compute_clear(data_ref, res, 1))\n"
   ]
  },
  {
   "cell_type": "code",
   "execution_count": 4,
   "metadata": {},
   "outputs": [],
   "source": [
    "import inspect\n",
    "\n",
    "from sklearn.base import BaseEstimator, ClassifierMixin\n",
    "from sklearn.model_selection import GridSearchCV, RandomizedSearchCV, KFold\n",
    "\n",
    "\n",
    "\n",
    "class InertieClasificator(BaseEstimator, ClassifierMixin):\n",
    "    def __init__(self, coef_ine_hd = 1, coef_ine_bd =1, coef_dist_hd = 1, coef_dist_bd = 1, \n",
    "                 coef_size_hd = 1, coef_size_bd = 1, coef_pt_cache = 10, mem_length= 20):\n",
    "        \n",
    "        args, _, _, values = inspect.getargvalues(inspect.currentframe())\n",
    "        values.pop(\"self\")\n",
    "\n",
    "        for arg, val in values.items():\n",
    "            setattr(self, arg, val)\n",
    "        self.conf = values\n",
    "        \n",
    "    \n",
    "    def fit(self, X, y=None):\n",
    "        # on n'apprend rien pour l'instant\n",
    "        pass\n",
    "    \n",
    "    def predict(self, X, y=None):\n",
    "        # prediction\n",
    "        return [make_pred(vid, make_alea(0.01, dist, self.conf)) for vid in X]\n",
    "    \n",
    "    def score(self, X, y, sample_weight=None):\n",
    "        pred = self.predict(X)\n",
    "        res = 0\n",
    "        for vid, raw in zip(pred, y):\n",
    "            c = compute_clear(raw, vid, 1)\n",
    "            res += c[0]\n",
    "        # print(res/len(y))\n",
    "        return res/len(y)\n",
    "    \n",
    "    def get_params(self, deep=True):\n",
    "        return self.conf\n",
    "    \n",
    "    def set_params(self, **params):\n",
    "        self.conf = params\n",
    "        return self\n",
    "        \n",
    "        "
   ]
  },
  {
   "cell_type": "markdown",
   "metadata": {},
   "source": [
    "#### Test de la class"
   ]
  },
  {
   "cell_type": "code",
   "execution_count": 5,
   "metadata": {
    "collapsed": true
   },
   "outputs": [
    {
     "ename": "NameError",
     "evalue": "name 'data' is not defined",
     "traceback": [
      "\u001b[0;31m\u001b[0m",
      "\u001b[0;31mNameError\u001b[0mTraceback (most recent call last)",
      "\u001b[0;32m<ipython-input-5-926de76baa8e>\u001b[0m in \u001b[0;36m<module>\u001b[0;34m()\u001b[0m\n\u001b[1;32m      1\u001b[0m \u001b[0;34m\u001b[0m\u001b[0m\n\u001b[1;32m      2\u001b[0m \u001b[0mest\u001b[0m \u001b[0;34m=\u001b[0m \u001b[0mInertieClasificator\u001b[0m\u001b[0;34m(\u001b[0m\u001b[0mcoef_pt_cache\u001b[0m\u001b[0;34m=\u001b[0m \u001b[0;36m10\u001b[0m\u001b[0;34m,\u001b[0m \u001b[0mcoef_dist_hd\u001b[0m\u001b[0;34m=\u001b[0m \u001b[0;36m2.1\u001b[0m\u001b[0;34m,\u001b[0m \u001b[0mcoef_dist_bd\u001b[0m\u001b[0;34m=\u001b[0m \u001b[0;36m3\u001b[0m\u001b[0;34m,\u001b[0m \u001b[0mcoef_size_bd\u001b[0m\u001b[0;34m=\u001b[0m\u001b[0;36m5\u001b[0m\u001b[0;34m,\u001b[0m \u001b[0mcoef_size_hd\u001b[0m\u001b[0;34m=\u001b[0m\u001b[0;36m6\u001b[0m\u001b[0;34m,\u001b[0m \u001b[0mcoef_ine_bd\u001b[0m\u001b[0;34m=\u001b[0m\u001b[0;36m4\u001b[0m\u001b[0;34m,\u001b[0m \u001b[0mcoef_ine_hd\u001b[0m\u001b[0;34m=\u001b[0m \u001b[0;36m8\u001b[0m\u001b[0;34m,\u001b[0m \u001b[0mmem_length\u001b[0m\u001b[0;34m=\u001b[0m\u001b[0;36m50\u001b[0m\u001b[0;34m)\u001b[0m\u001b[0;34m\u001b[0m\u001b[0m\n\u001b[0;32m----> 3\u001b[0;31m \u001b[0;32mprint\u001b[0m\u001b[0;34m(\u001b[0m\u001b[0mest\u001b[0m\u001b[0;34m.\u001b[0m\u001b[0mscore\u001b[0m\u001b[0;34m(\u001b[0m\u001b[0;34m[\u001b[0m\u001b[0mdata\u001b[0m\u001b[0;34m]\u001b[0m\u001b[0;34m,\u001b[0m \u001b[0;34m[\u001b[0m\u001b[0mdata_ref\u001b[0m\u001b[0;34m]\u001b[0m\u001b[0;34m)\u001b[0m\u001b[0;34m)\u001b[0m\u001b[0;34m\u001b[0m\u001b[0m\n\u001b[0m",
      "\u001b[0;31mNameError\u001b[0m: name 'data' is not defined"
     ],
     "output_type": "error"
    }
   ],
   "source": [
    "\n",
    "est = InertieClasificator(coef_pt_cache= 10, coef_dist_hd= 2.1, coef_dist_bd= 3, coef_size_bd=5, coef_size_hd=6, coef_ine_bd=4, coef_ine_hd= 8, mem_length=50)\n",
    "print(est.score([data], [data_ref]))\n"
   ]
  },
  {
   "cell_type": "code",
   "execution_count": 7,
   "metadata": {},
   "outputs": [
    {
     "name": "stdout",
     "output_type": "stream",
     "text": [
      "(9,)\n"
     ]
    }
   ],
   "source": [
    "data_ref, data = mult_load([\"data/Scenario03-02/\", \"data/Scenario01-01/\", \"data/Scenario02-03/\", \"data/Scenario02-01/\",\n",
    "                            \"data/Scenario02-02/\", \"data/Scenario03-03/\", \"data/Scenario03-02/\", \"data/Scenario03-01/\",\n",
    "                            \"data/Scenario03-05/\"])\n",
    "print(data_ref.shape)"
   ]
  },
  {
   "cell_type": "code",
   "execution_count": 9,
   "metadata": {
    "collapsed": true
   },
   "outputs": [
    {
     "name": "stdout",
     "output_type": "stream",
     "text": [
      "0.9800697262180686\n"
     ]
    }
   ],
   "source": [
    "est = InertieClasificator(coef_pt_cache= 20, coef_dist_bd=5, coef_dist_hd=5, coef_ine_hd= 5,\n",
    "                          coef_ine_bd=20, coef_size_bd=1, coef_size_hd=0, mem_length=30)\n",
    "est2 = InertieClasificator()\n",
    "print(est2.score(data, data_ref))"
   ]
  },
  {
   "cell_type": "code",
   "execution_count": 12,
   "metadata": {
    "collapsed": true
   },
   "outputs": [
    {
     "name": "stdout",
     "output_type": "stream",
     "text": [
      "Fitting 2 folds for each of 50 candidates, totalling 100 fits\n"
     ]
    },
    {
     "name": "stdout",
     "output_type": "stream",
     "text": [
      "[CV] mem_length=90, coef_dist_bd=10, coef_pt_cache=20, coef_ine_bd=25, coef_dist_hd=5, coef_size_bd=1, coef_size_hd=0, coef_ine_hd=30, exposant=0.7 \n"
     ]
    },
    {
     "name": "stdout",
     "output_type": "stream",
     "text": [
      "[CV] mem_length=90, coef_dist_bd=10, coef_pt_cache=20, coef_ine_bd=25, coef_dist_hd=5, coef_size_bd=1, coef_size_hd=0, coef_ine_hd=30, exposant=0.7 \n"
     ]
    },
    {
     "name": "stdout",
     "output_type": "stream",
     "text": [
      "[CV] mem_length=70, coef_dist_bd=0.5, coef_pt_cache=20, coef_ine_bd=40, coef_dist_hd=1, coef_size_bd=0, coef_size_hd=1, coef_ine_hd=20, exposant=1.3 \n"
     ]
    },
    {
     "name": "stdout",
     "output_type": "stream",
     "text": [
      "[CV] mem_length=70, coef_dist_bd=0.5, coef_pt_cache=20, coef_ine_bd=40, coef_dist_hd=1, coef_size_bd=0, coef_size_hd=1, coef_ine_hd=20, exposant=1.3 \n"
     ]
    },
    {
     "name": "stdout",
     "output_type": "stream",
     "text": [
      "[CV]  mem_length=70, coef_dist_bd=0.5, coef_pt_cache=20, coef_ine_bd=40, coef_dist_hd=1, coef_size_bd=0, coef_size_hd=1, coef_ine_hd=20, exposant=1.3, score=0.989718189263, total=  15.7s\n"
     ]
    },
    {
     "name": "stdout",
     "output_type": "stream",
     "text": [
      "[CV] mem_length=40, coef_dist_bd=5, coef_pt_cache=50, coef_ine_bd=10, coef_dist_hd=1, coef_size_bd=0, coef_size_hd=0, coef_ine_hd=60, exposant=0.3 \n"
     ]
    },
    {
     "name": "stdout",
     "output_type": "stream",
     "text": [
      "[CV]  mem_length=90, coef_dist_bd=10, coef_pt_cache=20, coef_ine_bd=25, coef_dist_hd=5, coef_size_bd=1, coef_size_hd=0, coef_ine_hd=30, exposant=0.7, score=0.974102588815, total=   8.4s\n"
     ]
    },
    {
     "name": "stdout",
     "output_type": "stream",
     "text": [
      "[CV] mem_length=40, coef_dist_bd=5, coef_pt_cache=50, coef_ine_bd=10, coef_dist_hd=1, coef_size_bd=0, coef_size_hd=0, coef_ine_hd=60, exposant=0.3 \n"
     ]
    },
    {
     "name": "stdout",
     "output_type": "stream",
     "text": [
      "[CV]  mem_length=70, coef_dist_bd=0.5, coef_pt_cache=20, coef_ine_bd=40, coef_dist_hd=1, coef_size_bd=0, coef_size_hd=1, coef_ine_hd=20, exposant=1.3, score=0.973473988335, total=   8.9s\n"
     ]
    },
    {
     "name": "stdout",
     "output_type": "stream",
     "text": [
      "[CV] mem_length=40, coef_dist_bd=1, coef_pt_cache=50, coef_ine_bd=15, coef_dist_hd=0.5, coef_size_bd=0, coef_size_hd=0, coef_ine_hd=25, exposant=0.5 \n"
     ]
    },
    {
     "name": "stdout",
     "output_type": "stream",
     "text": [
      "[CV]  mem_length=90, coef_dist_bd=10, coef_pt_cache=20, coef_ine_bd=25, coef_dist_hd=5, coef_size_bd=1, coef_size_hd=0, coef_ine_hd=30, exposant=0.7, score=0.989885688568, total=  17.0s\n"
     ]
    },
    {
     "name": "stdout",
     "output_type": "stream",
     "text": [
      "[CV] mem_length=40, coef_dist_bd=1, coef_pt_cache=50, coef_ine_bd=15, coef_dist_hd=0.5, coef_size_bd=0, coef_size_hd=0, coef_ine_hd=25, exposant=0.5 \n"
     ]
    },
    {
     "name": "stdout",
     "output_type": "stream",
     "text": [
      "[CV]  mem_length=40, coef_dist_bd=5, coef_pt_cache=50, coef_ine_bd=10, coef_dist_hd=1, coef_size_bd=0, coef_size_hd=0, coef_ine_hd=60, exposant=0.3, score=0.989937033813, total=  14.0s\n"
     ]
    },
    {
     "name": "stdout",
     "output_type": "stream",
     "text": [
      "[CV] mem_length=30, coef_dist_bd=1, coef_pt_cache=30, coef_ine_bd=15, coef_dist_hd=10, coef_size_bd=1, coef_size_hd=0, coef_ine_hd=30, exposant=0.3 \n"
     ]
    },
    {
     "name": "stdout",
     "output_type": "stream",
     "text": [
      "[CV]  mem_length=40, coef_dist_bd=5, coef_pt_cache=50, coef_ine_bd=10, coef_dist_hd=1, coef_size_bd=0, coef_size_hd=0, coef_ine_hd=60, exposant=0.3, score=0.974267121801, total=   6.3s\n"
     ]
    },
    {
     "name": "stdout",
     "output_type": "stream",
     "text": [
      "[CV] mem_length=30, coef_dist_bd=1, coef_pt_cache=30, coef_ine_bd=15, coef_dist_hd=10, coef_size_bd=1, coef_size_hd=0, coef_ine_hd=30, exposant=0.3 \n"
     ]
    },
    {
     "name": "stdout",
     "output_type": "stream",
     "text": [
      "[CV]  mem_length=40, coef_dist_bd=1, coef_pt_cache=50, coef_ine_bd=15, coef_dist_hd=0.5, coef_size_bd=0, coef_size_hd=0, coef_ine_hd=25, exposant=0.5, score=0.973720673714, total=   6.2s\n"
     ]
    },
    {
     "name": "stdout",
     "output_type": "stream",
     "text": [
      "[CV] mem_length=30, coef_dist_bd=0.5, coef_pt_cache=10, coef_ine_bd=30, coef_dist_hd=5, coef_size_bd=1, coef_size_hd=1, coef_ine_hd=50, exposant=1 \n"
     ]
    },
    {
     "name": "stdout",
     "output_type": "stream",
     "text": [
      "[CV]  mem_length=40, coef_dist_bd=1, coef_pt_cache=50, coef_ine_bd=15, coef_dist_hd=0.5, coef_size_bd=0, coef_size_hd=0, coef_ine_hd=25, exposant=0.5, score=0.989937033813, total=  14.2s\n"
     ]
    },
    {
     "name": "stdout",
     "output_type": "stream",
     "text": [
      "[CV] mem_length=30, coef_dist_bd=0.5, coef_pt_cache=10, coef_ine_bd=30, coef_dist_hd=5, coef_size_bd=1, coef_size_hd=1, coef_ine_hd=50, exposant=1 \n"
     ]
    },
    {
     "name": "stdout",
     "output_type": "stream",
     "text": [
      "[CV]  mem_length=30, coef_dist_bd=1, coef_pt_cache=30, coef_ine_bd=15, coef_dist_hd=10, coef_size_bd=1, coef_size_hd=0, coef_ine_hd=30, exposant=0.3, score=0.974267121801, total=   7.1s\n"
     ]
    },
    {
     "name": "stdout",
     "output_type": "stream",
     "text": [
      "[CV] mem_length=40, coef_dist_bd=0.5, coef_pt_cache=10, coef_ine_bd=40, coef_dist_hd=0.5, coef_size_bd=1, coef_size_hd=0, coef_ine_hd=30, exposant=0.3 \n"
     ]
    },
    {
     "name": "stdout",
     "output_type": "stream",
     "text": [
      "[CV]  mem_length=30, coef_dist_bd=1, coef_pt_cache=30, coef_ine_bd=15, coef_dist_hd=10, coef_size_bd=1, coef_size_hd=0, coef_ine_hd=30, exposant=0.3, score=0.989937033813, total=  15.3s\n"
     ]
    },
    {
     "name": "stdout",
     "output_type": "stream",
     "text": [
      "[CV] mem_length=40, coef_dist_bd=0.5, coef_pt_cache=10, coef_ine_bd=40, coef_dist_hd=0.5, coef_size_bd=1, coef_size_hd=0, coef_ine_hd=30, exposant=0.3 \n"
     ]
    },
    {
     "name": "stdout",
     "output_type": "stream",
     "text": [
      "[CV] mem_length=40, coef_dist_bd=0.5, coef_pt_cache=50, coef_ine_bd=10, coef_dist_hd=5, coef_size_bd=1, coef_size_hd=1, coef_ine_hd=40, exposant=0.5 \n"
     ]
    },
    {
     "ename": "KeyboardInterrupt",
     "evalue": "",
     "traceback": [
      "\u001b[0;31m\u001b[0m",
      "\u001b[0;31mKeyboardInterrupt\u001b[0mTraceback (most recent call last)",
      "\u001b[0;32m<ipython-input-12-2d6fdb50211f>\u001b[0m in \u001b[0;36m<module>\u001b[0;34m()\u001b[0m\n\u001b[1;32m      5\u001b[0m \u001b[0mest\u001b[0m \u001b[0;34m=\u001b[0m \u001b[0mInertieClasificator\u001b[0m\u001b[0;34m(\u001b[0m\u001b[0;34m)\u001b[0m\u001b[0;34m\u001b[0m\u001b[0m\n\u001b[1;32m      6\u001b[0m \u001b[0mgs\u001b[0m \u001b[0;34m=\u001b[0m \u001b[0mRandomizedSearchCV\u001b[0m\u001b[0;34m(\u001b[0m\u001b[0mest\u001b[0m\u001b[0;34m,\u001b[0m \u001b[0mdict_test\u001b[0m\u001b[0;34m,\u001b[0m \u001b[0mn_jobs\u001b[0m\u001b[0;34m=\u001b[0m\u001b[0;36m4\u001b[0m\u001b[0;34m,\u001b[0m \u001b[0mn_iter\u001b[0m\u001b[0;34m=\u001b[0m\u001b[0;36m50\u001b[0m\u001b[0;34m,\u001b[0m \u001b[0mverbose\u001b[0m \u001b[0;34m=\u001b[0m \u001b[0;36m3\u001b[0m\u001b[0;34m,\u001b[0m \u001b[0mreturn_train_score\u001b[0m\u001b[0;34m=\u001b[0m\u001b[0mTrue\u001b[0m\u001b[0;34m,\u001b[0m \u001b[0mcv\u001b[0m\u001b[0;34m=\u001b[0m\u001b[0mKFold\u001b[0m\u001b[0;34m(\u001b[0m\u001b[0mn_splits\u001b[0m\u001b[0;34m=\u001b[0m\u001b[0;36m2\u001b[0m\u001b[0;34m,\u001b[0m \u001b[0mrandom_state\u001b[0m\u001b[0;34m=\u001b[0m\u001b[0;36m1\u001b[0m\u001b[0;34m)\u001b[0m\u001b[0;34m)\u001b[0m\u001b[0;34m\u001b[0m\u001b[0m\n\u001b[0;32m----> 7\u001b[0;31m \u001b[0mgs\u001b[0m\u001b[0;34m.\u001b[0m\u001b[0mfit\u001b[0m\u001b[0;34m(\u001b[0m\u001b[0mdata\u001b[0m\u001b[0;34m,\u001b[0m \u001b[0mdata_ref\u001b[0m\u001b[0;34m)\u001b[0m\u001b[0;34m\u001b[0m\u001b[0m\n\u001b[0m\u001b[1;32m      8\u001b[0m \u001b[0;32mprint\u001b[0m\u001b[0;34m(\u001b[0m\u001b[0;34m\"best params : \"\u001b[0m \u001b[0;34m+\u001b[0m \u001b[0mstr\u001b[0m\u001b[0;34m(\u001b[0m\u001b[0mgs\u001b[0m\u001b[0;34m.\u001b[0m\u001b[0mbest_params_\u001b[0m\u001b[0;34m)\u001b[0m\u001b[0;34m)\u001b[0m\u001b[0;34m\u001b[0m\u001b[0m\n\u001b[1;32m      9\u001b[0m \u001b[0;32mprint\u001b[0m\u001b[0;34m(\u001b[0m\u001b[0;34m\"best score : \"\u001b[0m \u001b[0;34m+\u001b[0m \u001b[0mstr\u001b[0m\u001b[0;34m(\u001b[0m\u001b[0mgs\u001b[0m\u001b[0;34m.\u001b[0m\u001b[0mbest_score_\u001b[0m\u001b[0;34m)\u001b[0m\u001b[0;34m)\u001b[0m\u001b[0;34m\u001b[0m\u001b[0m\n",
      "\u001b[0;32m/home/maxence/anaconda3/envs/python2/lib/python2.7/site-packages/sklearn/model_selection/_search.pyc\u001b[0m in \u001b[0;36mfit\u001b[0;34m(self, X, y, groups, **fit_params)\u001b[0m\n\u001b[1;32m    637\u001b[0m                                   error_score=self.error_score)\n\u001b[1;32m    638\u001b[0m           for parameters, (train, test) in product(candidate_params,\n\u001b[0;32m--> 639\u001b[0;31m                                                    cv.split(X, y, groups)))\n\u001b[0m\u001b[1;32m    640\u001b[0m \u001b[0;34m\u001b[0m\u001b[0m\n\u001b[1;32m    641\u001b[0m         \u001b[0;31m# if one choose to see train score, \"out\" will contain train score info\u001b[0m\u001b[0;34m\u001b[0m\u001b[0;34m\u001b[0m\u001b[0m\n",
      "\u001b[0;32m/home/maxence/anaconda3/envs/python2/lib/python2.7/site-packages/sklearn/externals/joblib/parallel.pyc\u001b[0m in \u001b[0;36m__call__\u001b[0;34m(self, iterable)\u001b[0m\n\u001b[1;32m    787\u001b[0m                 \u001b[0;31m# consumption.\u001b[0m\u001b[0;34m\u001b[0m\u001b[0;34m\u001b[0m\u001b[0m\n\u001b[1;32m    788\u001b[0m                 \u001b[0mself\u001b[0m\u001b[0;34m.\u001b[0m\u001b[0m_iterating\u001b[0m \u001b[0;34m=\u001b[0m \u001b[0mFalse\u001b[0m\u001b[0;34m\u001b[0m\u001b[0m\n\u001b[0;32m--> 789\u001b[0;31m             \u001b[0mself\u001b[0m\u001b[0;34m.\u001b[0m\u001b[0mretrieve\u001b[0m\u001b[0;34m(\u001b[0m\u001b[0;34m)\u001b[0m\u001b[0;34m\u001b[0m\u001b[0m\n\u001b[0m\u001b[1;32m    790\u001b[0m             \u001b[0;31m# Make sure that we get a last message telling us we are done\u001b[0m\u001b[0;34m\u001b[0m\u001b[0;34m\u001b[0m\u001b[0m\n\u001b[1;32m    791\u001b[0m             \u001b[0melapsed_time\u001b[0m \u001b[0;34m=\u001b[0m \u001b[0mtime\u001b[0m\u001b[0;34m.\u001b[0m\u001b[0mtime\u001b[0m\u001b[0;34m(\u001b[0m\u001b[0;34m)\u001b[0m \u001b[0;34m-\u001b[0m \u001b[0mself\u001b[0m\u001b[0;34m.\u001b[0m\u001b[0m_start_time\u001b[0m\u001b[0;34m\u001b[0m\u001b[0m\n",
      "\u001b[0;32m/home/maxence/anaconda3/envs/python2/lib/python2.7/site-packages/sklearn/externals/joblib/parallel.pyc\u001b[0m in \u001b[0;36mretrieve\u001b[0;34m(self)\u001b[0m\n\u001b[1;32m    697\u001b[0m             \u001b[0;32mtry\u001b[0m\u001b[0;34m:\u001b[0m\u001b[0;34m\u001b[0m\u001b[0m\n\u001b[1;32m    698\u001b[0m                 \u001b[0;32mif\u001b[0m \u001b[0mgetattr\u001b[0m\u001b[0;34m(\u001b[0m\u001b[0mself\u001b[0m\u001b[0;34m.\u001b[0m\u001b[0m_backend\u001b[0m\u001b[0;34m,\u001b[0m \u001b[0;34m'supports_timeout'\u001b[0m\u001b[0;34m,\u001b[0m \u001b[0mFalse\u001b[0m\u001b[0;34m)\u001b[0m\u001b[0;34m:\u001b[0m\u001b[0;34m\u001b[0m\u001b[0m\n\u001b[0;32m--> 699\u001b[0;31m                     \u001b[0mself\u001b[0m\u001b[0;34m.\u001b[0m\u001b[0m_output\u001b[0m\u001b[0;34m.\u001b[0m\u001b[0mextend\u001b[0m\u001b[0;34m(\u001b[0m\u001b[0mjob\u001b[0m\u001b[0;34m.\u001b[0m\u001b[0mget\u001b[0m\u001b[0;34m(\u001b[0m\u001b[0mtimeout\u001b[0m\u001b[0;34m=\u001b[0m\u001b[0mself\u001b[0m\u001b[0;34m.\u001b[0m\u001b[0mtimeout\u001b[0m\u001b[0;34m)\u001b[0m\u001b[0;34m)\u001b[0m\u001b[0;34m\u001b[0m\u001b[0m\n\u001b[0m\u001b[1;32m    700\u001b[0m                 \u001b[0;32melse\u001b[0m\u001b[0;34m:\u001b[0m\u001b[0;34m\u001b[0m\u001b[0m\n\u001b[1;32m    701\u001b[0m                     \u001b[0mself\u001b[0m\u001b[0;34m.\u001b[0m\u001b[0m_output\u001b[0m\u001b[0;34m.\u001b[0m\u001b[0mextend\u001b[0m\u001b[0;34m(\u001b[0m\u001b[0mjob\u001b[0m\u001b[0;34m.\u001b[0m\u001b[0mget\u001b[0m\u001b[0;34m(\u001b[0m\u001b[0;34m)\u001b[0m\u001b[0;34m)\u001b[0m\u001b[0;34m\u001b[0m\u001b[0m\n",
      "\u001b[0;32m/home/maxence/anaconda3/envs/python2/lib/python2.7/multiprocessing/pool.pyc\u001b[0m in \u001b[0;36mget\u001b[0;34m(self, timeout)\u001b[0m\n\u001b[1;32m    559\u001b[0m \u001b[0;34m\u001b[0m\u001b[0m\n\u001b[1;32m    560\u001b[0m     \u001b[0;32mdef\u001b[0m \u001b[0mget\u001b[0m\u001b[0;34m(\u001b[0m\u001b[0mself\u001b[0m\u001b[0;34m,\u001b[0m \u001b[0mtimeout\u001b[0m\u001b[0;34m=\u001b[0m\u001b[0mNone\u001b[0m\u001b[0;34m)\u001b[0m\u001b[0;34m:\u001b[0m\u001b[0;34m\u001b[0m\u001b[0m\n\u001b[0;32m--> 561\u001b[0;31m         \u001b[0mself\u001b[0m\u001b[0;34m.\u001b[0m\u001b[0mwait\u001b[0m\u001b[0;34m(\u001b[0m\u001b[0mtimeout\u001b[0m\u001b[0;34m)\u001b[0m\u001b[0;34m\u001b[0m\u001b[0m\n\u001b[0m\u001b[1;32m    562\u001b[0m         \u001b[0;32mif\u001b[0m \u001b[0;32mnot\u001b[0m \u001b[0mself\u001b[0m\u001b[0;34m.\u001b[0m\u001b[0m_ready\u001b[0m\u001b[0;34m:\u001b[0m\u001b[0;34m\u001b[0m\u001b[0m\n\u001b[1;32m    563\u001b[0m             \u001b[0;32mraise\u001b[0m \u001b[0mTimeoutError\u001b[0m\u001b[0;34m\u001b[0m\u001b[0m\n",
      "\u001b[0;32m/home/maxence/anaconda3/envs/python2/lib/python2.7/multiprocessing/pool.pyc\u001b[0m in \u001b[0;36mwait\u001b[0;34m(self, timeout)\u001b[0m\n\u001b[1;32m    554\u001b[0m         \u001b[0;32mtry\u001b[0m\u001b[0;34m:\u001b[0m\u001b[0;34m\u001b[0m\u001b[0m\n\u001b[1;32m    555\u001b[0m             \u001b[0;32mif\u001b[0m \u001b[0;32mnot\u001b[0m \u001b[0mself\u001b[0m\u001b[0;34m.\u001b[0m\u001b[0m_ready\u001b[0m\u001b[0;34m:\u001b[0m\u001b[0;34m\u001b[0m\u001b[0m\n\u001b[0;32m--> 556\u001b[0;31m                 \u001b[0mself\u001b[0m\u001b[0;34m.\u001b[0m\u001b[0m_cond\u001b[0m\u001b[0;34m.\u001b[0m\u001b[0mwait\u001b[0m\u001b[0;34m(\u001b[0m\u001b[0mtimeout\u001b[0m\u001b[0;34m)\u001b[0m\u001b[0;34m\u001b[0m\u001b[0m\n\u001b[0m\u001b[1;32m    557\u001b[0m         \u001b[0;32mfinally\u001b[0m\u001b[0;34m:\u001b[0m\u001b[0;34m\u001b[0m\u001b[0m\n\u001b[1;32m    558\u001b[0m             \u001b[0mself\u001b[0m\u001b[0;34m.\u001b[0m\u001b[0m_cond\u001b[0m\u001b[0;34m.\u001b[0m\u001b[0mrelease\u001b[0m\u001b[0;34m(\u001b[0m\u001b[0;34m)\u001b[0m\u001b[0;34m\u001b[0m\u001b[0m\n",
      "\u001b[0;32m/home/maxence/anaconda3/envs/python2/lib/python2.7/threading.pyc\u001b[0m in \u001b[0;36mwait\u001b[0;34m(self, timeout)\u001b[0m\n\u001b[1;32m    338\u001b[0m         \u001b[0;32mtry\u001b[0m\u001b[0;34m:\u001b[0m    \u001b[0;31m# restore state no matter what (e.g., KeyboardInterrupt)\u001b[0m\u001b[0;34m\u001b[0m\u001b[0m\n\u001b[1;32m    339\u001b[0m             \u001b[0;32mif\u001b[0m \u001b[0mtimeout\u001b[0m \u001b[0;32mis\u001b[0m \u001b[0mNone\u001b[0m\u001b[0;34m:\u001b[0m\u001b[0;34m\u001b[0m\u001b[0m\n\u001b[0;32m--> 340\u001b[0;31m                 \u001b[0mwaiter\u001b[0m\u001b[0;34m.\u001b[0m\u001b[0macquire\u001b[0m\u001b[0;34m(\u001b[0m\u001b[0;34m)\u001b[0m\u001b[0;34m\u001b[0m\u001b[0m\n\u001b[0m\u001b[1;32m    341\u001b[0m                 \u001b[0;32mif\u001b[0m \u001b[0m__debug__\u001b[0m\u001b[0;34m:\u001b[0m\u001b[0;34m\u001b[0m\u001b[0m\n\u001b[1;32m    342\u001b[0m                     \u001b[0mself\u001b[0m\u001b[0;34m.\u001b[0m\u001b[0m_note\u001b[0m\u001b[0;34m(\u001b[0m\u001b[0;34m\"%s.wait(): got it\"\u001b[0m\u001b[0;34m,\u001b[0m \u001b[0mself\u001b[0m\u001b[0;34m)\u001b[0m\u001b[0;34m\u001b[0m\u001b[0m\n",
      "\u001b[0;31mKeyboardInterrupt\u001b[0m: "
     ],
     "output_type": "error"
    }
   ],
   "source": [
    "dict_test = {\"coef_pt_cache\" : [10, 20, 30, 50], \"coef_size_hd\":[0,1], \"coef_size_bd\":[0,1],\n",
    "             \"coef_ine_hd\":[20,25,30,40,50, 60, 70], \"coef_ine_bd\":[10, 15, 20,25,30, 40, 50],\"coef_dist_bd\":[0.5, 1,3,5,10], \"coef_dist_hd\":[0, 0.5, 1,5,10], \n",
    "             \"mem_length\" :[20, 30,40, 50, 70,90], \"exposant\": [1,0.7,1.3,0.5,0.3]}\n",
    "test_exp = {\"exposant\": [1, 0.7,1.3,2,0.5]}\n",
    "est = InertieClasificator()\n",
    "gs = RandomizedSearchCV(est, dict_test, n_jobs=4, n_iter=50, verbose = 3, return_train_score=True, cv=KFold(n_splits=2, random_state=1))\n",
    "gs.fit(data, data_ref)\n",
    "print(\"best params : \" + str(gs.best_params_))\n",
    "print(\"best score : \" + str(gs.best_score_))"
   ]
  },
  {
   "cell_type": "code",
   "execution_count": 12,
   "metadata": {
    "collapsed": true
   },
   "outputs": [
    {
     "name": "stdout",
     "output_type": "stream",
     "text": [
      "best params : {'mem_length': 90, 'coef_dist_bd': 1, 'coef_dist_hd': 0, 'coef_ine_bd': 25, 'coef_ine_hd': 60, 'coef_size_bd': 0, 'coef_size_hd': 0, 'coef_pt_cache': 50, 'exposant': 0.3}\nbest score : 0.9812315271398112\n[0.98064799 0.9806516  0.98066239 0.98066239 0.98066239 0.98066239\n 0.98066239 0.98066239 0.98066239 0.98068534 0.98068923 0.98068923\n 0.98068923 0.98068923 0.98069363 0.98069363 0.98069363 0.98069725\n 0.98069725 0.98069725 0.98069725 0.98070363 0.98070363 0.98070363\n 0.98070804 0.98070804 0.98070804 0.98070804 0.98070804 0.98070804\n 0.98070804 0.98070804 0.98070804 0.98070804 0.98070804 0.98070804\n 0.98070804 0.98070804 0.98070804 0.98071244 0.98072244 0.98072244\n 0.98072244 0.98072244 0.98072244 0.98072244 0.98072244 0.98073098\n 0.98073098 0.98073098 0.98073098 0.98073098 0.98073098 0.98073098\n 0.98073098 0.98073098 0.98073098 0.98073098 0.98073098 0.98073098\n 0.98073098 0.98073098 0.98073098 0.98073487 0.98074125 0.98074538\n 0.98074538 0.98074538 0.98074538 0.98074538 0.98074538 0.98074538\n 0.98074538 0.98074538 0.98074538 0.98074538 0.98074927 0.98074927\n 0.98074927 0.98074927 0.98074927 0.98074927 0.98074927 0.98075368\n 0.98076006 0.98076808 0.98076808 0.98076808 0.98076808 0.98076808\n 0.98076808 0.98076808 0.98076808 0.98077249 0.98077662 0.98077662\n 0.98078051 0.98078051 0.98078051 0.98078051 0.98078689 0.98078689\n 0.98078689 0.98078689 0.98079102 0.98079102 0.98079491 0.98079491\n 0.98079491 0.98079491 0.98079491 0.98079491 0.98079491 0.98079491\n 0.98079932 0.98079932 0.98079932 0.98081372 0.98081372 0.98081372\n 0.98081372 0.98081372 0.98081372 0.98081372 0.98081372 0.98081372\n 0.98081813 0.98082226 0.98082226 0.98082226 0.98082226 0.98082226\n 0.98082226 0.98082226 0.98082615 0.98082615 0.98083666 0.98083666\n 0.98083666 0.98083666 0.98083666 0.98083666 0.98083666 0.98083666\n 0.98083666 0.98083666 0.98083666 0.98083666 0.98083666 0.98083666\n 0.98083666 0.98083666 0.98083666 0.98083666 0.98084055 0.98084055\n 0.98084055 0.98084055 0.98084055 0.98084055 0.98084055 0.98084055\n 0.98084055 0.98084055 0.98084055 0.98084055 0.98084055 0.98084055\n 0.98084055 0.98084055 0.98084055 0.98084055 0.98084055 0.98084055\n 0.98084055 0.98084055 0.98084055 0.98084055 0.98085936 0.98085936\n 0.98085936 0.98085936 0.98085936 0.98085936 0.98085936 0.98086349\n 0.9808823  0.9808823  0.9808823  0.9808823  0.9808823  0.9808823\n 0.9808823  0.9808823  0.9808823  0.9808823  0.9808823  0.9808823\n 0.9808823  0.9808823  0.9808823  0.9808823  0.9808823  0.9808823\n 0.9808823  0.9808823  0.9808823  0.9808823  0.9808823  0.98088619\n 0.98088619 0.98088619 0.98088619 0.98092381 0.98092794 0.98092794\n 0.98092794 0.98092794 0.98092794 0.98092794 0.98092794 0.98096598\n 0.98096598 0.98096598 0.98096598 0.98096598 0.98097359 0.98097359\n 0.98097359 0.98098892 0.98101162 0.98101162 0.98101162 0.98101162\n 0.98101162 0.98101162 0.98101162 0.98101162 0.98101162 0.98102602\n 0.98102602 0.98102602 0.98102602 0.98102602 0.98103456 0.98103456\n 0.98103456 0.98103456 0.98104286 0.98104897 0.98104897 0.98104897\n 0.98105726 0.98105726 0.98105726 0.98105726 0.98105726 0.98105726\n 0.98105726 0.98105726 0.98105726 0.98105726 0.98105726 0.98105726\n 0.98105726 0.98105726 0.98105726 0.98105726 0.98105726 0.98105726\n 0.98105726 0.98105726 0.98105726 0.98105726 0.98105726 0.98105726\n 0.98105726 0.98107166 0.98107166 0.98107166 0.98107166 0.98107166\n 0.98107166 0.98107166 0.98107166 0.98107166 0.98107166 0.98107166\n 0.98107166 0.98107166 0.98107166 0.98107166 0.98107166 0.98107166\n 0.98107166 0.9810802  0.9810802  0.98109461 0.98109461 0.98109461\n 0.98109461 0.98109461 0.98109461 0.98109461 0.98109461 0.98109461\n 0.98109461 0.98109461 0.98109461 0.98109461 0.98109461 0.98109461\n 0.98109849 0.98109849 0.9811029  0.9811173  0.9811173  0.9811173\n 0.9811173  0.9811173  0.9811173  0.9811173  0.9811173  0.9811173\n 0.9811173  0.9811173  0.9811173  0.9811173  0.9811173  0.9811173\n 0.9811173  0.9811173  0.9811173  0.9811173  0.9811173  0.9811173\n 0.9811173  0.9811173  0.9811173  0.9811173  0.9811173  0.9811173\n 0.98114025 0.98114025 0.98114025 0.98114025 0.98114025 0.98114025\n 0.98114025 0.98114025 0.98114025 0.98114025 0.98114025 0.98114025\n 0.98114025 0.98114025 0.98114025 0.98114025 0.98114025 0.98114413\n 0.98114413 0.98114413 0.98114413 0.98114413 0.98114413 0.98114413\n 0.98116294 0.98116294 0.98116294 0.98116294 0.98116294 0.98116294\n 0.98116294 0.98116294 0.98116294 0.98116294 0.98118589 0.98118589\n 0.98118589 0.98118589 0.98118589 0.98118589 0.98118589 0.98123153\n 0.98123153 0.98123153 0.98123153 0.98123153 0.98123153 0.98123153\n 0.98123153 0.98123153 0.98123153 0.98123153 0.98123153 0.98123153\n 0.98123153 0.98123153 0.98123153 0.98123153]\n"
     ]
    }
   ],
   "source": [
    "print(\"best params : \" + str(gs.best_params_))\n",
    "print(\"best score : \" + str(gs.best_score_))\n",
    "res = gs.cv_results_[\"mean_test_score\"]\n",
    "res.sort()\n",
    "print(res)"
   ]
  },
  {
   "cell_type": "markdown",
   "metadata": {},
   "source": [
    "2)best params : {'mem_length': 10, 'coef_dist_bd': 10, 'coef_dist_hd': 10, 'coef_ine_bd': 5, 'coef_ine_hd': 20, 'coef_size_bd': 0, 'coef_size_hd': 0, 'coef_pt_cache': 20}\n",
    "best score : 0.9784799777087765\n",
    "3)best params : {'mem_length': 50, 'coef_dist_bd': 1, 'coef_dist_hd': 15, 'coef_ine_bd': 20, 'coef_ine_hd': 20, 'coef_size_bd': 0, 'coef_size_hd': 0, 'coef_pt_cache': 30}\n",
    "best score : 0.9784799777087765\n",
    "\n",
    "4)best params : {'mem_length': 50, 'coef_dist_bd': 3, 'coef_dist_hd': 15, 'coef_ine_bd': 20, 'coef_ine_hd': 20, 'coef_size_bd': 0, 'coef_size_hd': 0, 'coef_pt_cache': 30}\n",
    "best score : 0.9811402467034908\n",
    "\n",
    "best params : {'mem_length': 70, 'coef_dist_bd': 3, 'coef_dist_hd': 1, 'coef_ine_bd': 25, 'coef_ine_hd': 30, 'coef_size_bd': 0, 'coef_size_hd': 0, 'coef_pt_cache': 20}\n",
    "best score : 0.981162940034187\n",
    "\n",
    "best params : {'mem_length': 70, 'coef_dist_bd': 3, 'coef_dist_hd': 1, 'coef_ine_bd': 20, 'coef_ine_hd': 50, 'coef_size_bd': 0, 'coef_size_hd': 0, 'coef_pt_cache': 20, 'exposant': 0.7}\n",
    "best score : 0.9812315271398112\n",
    "\n",
    "best params : {'mem_length': 90, 'coef_dist_bd': 1, 'coef_dist_hd': 0, 'coef_ine_bd': 25, 'coef_ine_hd': 60, 'coef_size_bd': 0, 'coef_size_hd': 0, 'coef_pt_cache': 50, 'exposant': 0.3}\n",
    "best score : 0.9812315271398112\n"
   ]
  },
  {
   "cell_type": "code",
   "execution_count": 7,
   "metadata": {},
   "outputs": [],
   "source": [
    "# sauvegarde les donnée\n",
    "save_data(res, PATH+\"res_tmp.txt\")"
   ]
  },
  {
   "cell_type": "markdown",
   "metadata": {
    "collapsed": false
   },
   "source": [
    "Test avec couleur"
   ]
  },
  {
   "cell_type": "code",
   "execution_count": 6,
   "metadata": {
    "collapsed": false
   },
   "outputs": [
    {
     "name": "stdout",
     "output_type": "stream",
     "text": [
      "(7663, 39)\n"
     ]
    },
    {
     "name": "stdout",
     "output_type": "stream",
     "text": [
      "(0.9915748541801686, 0.0, 0.6312491841796111, 0.6254050550874919)\n"
     ]
    }
   ],
   "source": [
    "from random import random, randint\n",
    "from munkres import Munkres, print_matrix\n",
    "\n",
    "def make_alea(proba_trans, conf=None):\n",
    "    def alea_par_func(data):\n",
    "        save_pos = dict()\n",
    "        parle = 0\n",
    "        for frame in iter_frame(data):\n",
    "            nb_personne = frame.shape[0]\n",
    "\n",
    "            if random() < proba_trans:\n",
    "                parle = randint(0, nb_personne)\n",
    "\n",
    "            save_pos = head_assignation(frame, save_pos, conf)\n",
    "\n",
    "            for i, _ in enumerate(frame):\n",
    "                cp = CorpCol(_)\n",
    "                # if save_pos[cp] == 5:\n",
    "                    # print(save_pos)\n",
    "                yield (save_pos[cp], save_pos[cp] == parle)\n",
    "    return alea_par_func\n",
    "\n",
    "\n",
    "def head_assignation(frame, oldPos, conf):\n",
    "    to_assin = []\n",
    "    new_pos = []\n",
    "    rep = dict()\n",
    "    for line in frame:\n",
    "        to_assin.append(CorpCol(line))\n",
    "        new_pos.append(0)\n",
    "        \n",
    "    new_pos_traite = []\n",
    "    old_pos_traite = []\n",
    "    \n",
    "    m = Munkres()\n",
    "    matrice = []\n",
    "    old_pos_order = oldPos.keys()\n",
    "    for old in oldPos:\n",
    "        l =[]\n",
    "        for new in to_assin:\n",
    "            l.append(dist((old, new)))\n",
    "        matrice.append(l)\n",
    "    # print(\"old pos oder\" + str(old_pos_order))\n",
    "    # print(\"to_assin\" + str(to_assin))\n",
    "    # print(matrice)\n",
    "    # \n",
    "    # \n",
    "    # if len(matrice) != 0 and (max([max(l)for l in matrice])-min([min(l)for l in matrice]) < 100):\n",
    "    #     print (frame)\n",
    "    #     print(\"max \" + str(max([max(l)for l in matrice])))\n",
    "    #     print(\"min \" + str(min([min(l)for l in matrice])))\n",
    "\n",
    "    \n",
    "    if len(matrice) != 0:\n",
    "        indice = m.compute(matrice)\n",
    "        i_min = min((len(old_pos_order), len(to_assin)))\n",
    "        indice = indice[:i_min] # on suprime le 0 pading\n",
    "        for (old, new) in indice:\n",
    "            id_old = old_pos_order[old]\n",
    "            pt_new = to_assin[new]\n",
    "            old_pos_traite.append(id_old)\n",
    "            new_pos_traite.append(pt_new)\n",
    "            id_old.new_pos(pt_new)\n",
    "            rep[id_old] = id_old.id\n",
    "\n",
    "    for id in to_assin:\n",
    "        if id not in new_pos_traite:\n",
    "            new_id = Identity(id, conf)\n",
    "            rep[new_id] = new_id.id\n",
    "            # print (\"\\n\")\n",
    "            # print(\"New element ! ! ! \" + str(rep))\n",
    "            # print(\"oldpos : \" + str(oldPos))\n",
    "            # print(to_assin)\n",
    "            # print(\"Frame : \" + str(frame))\n",
    "            new_pos_traite.append(id)\n",
    "\n",
    "    for id in oldPos.keys():\n",
    "        if id not in old_pos_traite:\n",
    "            rep[id] = oldPos[id]\n",
    "            old_pos_traite.append(id)\n",
    "    \n",
    "    return rep\n",
    "\n",
    "\n",
    "def dist((A, B)):\n",
    "    return A.dist_col(B)\n",
    "\n",
    "\n",
    "res = make_pred(row_data, make_alea(0.001))\n",
    "print(res.shape)\n",
    "print(compute_clear(data_ref, res, 1))\n"
   ]
  },
  {
   "cell_type": "code",
   "execution_count": null,
   "metadata": {},
   "outputs": [],
   "source": []
  }
 ],
 "metadata": {
  "kernelspec": {
   "display_name": "Python 2",
   "language": "python",
   "name": "python2"
  },
  "language_info": {
   "codemirror_mode": {
    "name": "ipython",
    "version": 2
   },
   "file_extension": ".py",
   "mimetype": "text/x-python",
   "name": "python",
   "nbconvert_exporter": "python",
   "pygments_lexer": "ipython2",
   "version": "2.7.6"
  }
 },
 "nbformat": 4,
 "nbformat_minor": 0
}
