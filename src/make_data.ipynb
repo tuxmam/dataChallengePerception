{
 "cells": [
  {
   "cell_type": "code",
   "execution_count": 1,
   "metadata": {
    "collapsed": true
   },
   "outputs": [],
   "source": [
    "from metric.compute_metric import compute_clear\n",
    "from metric.read_file import read_file\n",
    "from utils import make_pred, save_data, iter_frame, body_barycenter, head_barycenter, add_col\n",
    "from utils import Point\n",
    "from utils import Corp, CorpCol\n",
    "from utils import Identity\n",
    "from utils import mult_load\n",
    "from utils import pretraitement\n",
    "import numpy as np\n",
    "PATH = \"data/Scenario03-01/\"\n"
   ]
  },
  {
   "cell_type": "code",
   "execution_count": 2,
   "metadata": {},
   "outputs": [],
   "source": [
    ""
   ]
  },
  {
   "cell_type": "code",
   "execution_count": 2,
   "metadata": {},
   "outputs": [],
   "source": [
    ""
   ]
  },
  {
   "cell_type": "code",
   "execution_count": 2,
   "metadata": {},
   "outputs": [],
   "source": [
    "def proces_data(path):\n",
    "    data = read_file(path+\"groundTruth.txt\")\n",
    "    data = add_col(data, path)\n",
    "    data_traite = []\n",
    "    labels = []\n",
    "    data_tot = []\n",
    "    identite= dict()\n",
    "    for frame in iter_frame(data):\n",
    "        for line in frame: \n",
    "            id_ligne = line[1]\n",
    "            \n",
    "            if id_ligne not in identite:\n",
    "                identite[id_ligne] = Identity(CorpCol(line[2:],(line[-3],line[-2],line[-1])))\n",
    "                \n",
    "                \n",
    "            cur_id = identite[id_ligne] \n",
    "            \n",
    "            \n",
    "            for other_line in frame:\n",
    "                id_other_line = other_line[1]\n",
    "                res_comp = cur_id.comp(CorpCol(other_line[2:], (line[-3],line[-2],line[-1])))\n",
    "                same = 0\n",
    "                if id_other_line == id_ligne:\n",
    "                    same = 1\n",
    "                if (sum(res_comp) < 300):\n",
    "                    data_tot.append(np.concatenate(([same],res_comp)))\n",
    "                data_traite.append(res_comp)\n",
    "                labels.append(same)\n",
    "                \n",
    "            cur_id.new_pos(CorpCol(line[2:], (line[-3],line[-2],line[-1])))\n",
    "    data_traite = np.array(data_traite)\n",
    "    labels = np.array(labels)\n",
    "    data_tot = np.array(data_tot)\n",
    "    return data_traite, labels, data_tot"
   ]
  },
  {
   "cell_type": "code",
   "execution_count": 2,
   "metadata": {},
   "outputs": [],
   "source": [
    ""
   ]
  },
  {
   "cell_type": "code",
   "execution_count": 3,
   "metadata": {
    "collapsed": false
   },
   "outputs": [
    {
     "name": "stdout",
     "output_type": "stream",
     "text": [
      "traitement de : Scenario05-05\n"
     ]
    },
    {
     "name": "stdout",
     "output_type": "stream",
     "text": [
      "traitement de : Scenario03-MeetingRoom03\n"
     ]
    },
    {
     "name": "stdout",
     "output_type": "stream",
     "text": [
      "traitement de : Scenario01-01\n"
     ]
    },
    {
     "name": "stdout",
     "output_type": "stream",
     "text": [
      "traitement de : Scenario03-01\n"
     ]
    },
    {
     "name": "stdout",
     "output_type": "stream",
     "text": [
      "traitement de : Scenario03-03\n"
     ]
    },
    {
     "name": "stdout",
     "output_type": "stream",
     "text": [
      "traitement de : Scenario03-05\n"
     ]
    },
    {
     "name": "stdout",
     "output_type": "stream",
     "text": [
      "traitement de : Scenario01-04\n"
     ]
    },
    {
     "name": "stdout",
     "output_type": "stream",
     "text": [
      "traitement de : Scenario02-03\n"
     ]
    },
    {
     "name": "stdout",
     "output_type": "stream",
     "text": [
      "traitement de : Scenario01-02\n"
     ]
    },
    {
     "name": "stdout",
     "output_type": "stream",
     "text": [
      "traitement de : Scenario04-MeetingRoom01\n"
     ]
    },
    {
     "name": "stdout",
     "output_type": "stream",
     "text": [
      "traitement de : Scenario05-01\n"
     ]
    },
    {
     "name": "stdout",
     "output_type": "stream",
     "text": [
      "traitement de : Scenario02-02\n"
     ]
    },
    {
     "name": "stdout",
     "output_type": "stream",
     "text": [
      "traitement de : Scenario03-02\n"
     ]
    },
    {
     "name": "stdout",
     "output_type": "stream",
     "text": [
      "traitement de : Scenario05-02\n"
     ]
    },
    {
     "name": "stdout",
     "output_type": "stream",
     "text": [
      "traitement de : Scenario03-MeetingRoom02\n"
     ]
    },
    {
     "name": "stdout",
     "output_type": "stream",
     "text": [
      "traitement de : Scenario02-01\n"
     ]
    },
    {
     "name": "stdout",
     "output_type": "stream",
     "text": [
      "traitement de : Scenario04-01\n"
     ]
    },
    {
     "name": "stdout",
     "output_type": "stream",
     "text": [
      "traitement de : Scenario03-MeetingRoom01\n"
     ]
    },
    {
     "name": "stdout",
     "output_type": "stream",
     "text": [
      "traitement de : Scenario04-03\n"
     ]
    },
    {
     "name": "stdout",
     "output_type": "stream",
     "text": [
      "done\n"
     ]
    }
   ],
   "source": [
    "import os\n",
    "PATH = \"data/\"\n",
    "data_traite = np.array([])\n",
    "labels = np.array([])\n",
    "for dir in os.listdir(PATH):\n",
    "# for dir in [\"Scenario05-05\"]:\n",
    "    if( dir not in [\"Scenario04-02\"]):\n",
    "            \n",
    "        print(\"traitement de : \"+dir)\n",
    "        data_traite_tmp, labels_tmp, data_tot_tmp = proces_data(PATH + dir + \"/\")\n",
    "        if len(data_traite) == 0:\n",
    "            data_traite = data_traite_tmp\n",
    "            labels = labels_tmp\n",
    "            data_tot = data_tot_tmp\n",
    "        else:\n",
    "            labels = np.concatenate((labels, labels_tmp))\n",
    "            data_traite = np.concatenate((data_traite, data_traite_tmp))\n",
    "            data_tot = np.concatenate((data_tot, data_tot_tmp))\n",
    "\n",
    "suffix = \"_max_100\"\n",
    "save_data(data_traite, \"learn/data_traite\"+suffix)\n",
    "save_data(labels, \"learn/label\"+suffix)\n",
    "save_data(data_tot, \"learn/data_tot\"+suffix)\n",
    "\n",
    "print(\"done\")"
   ]
  },
  {
   "cell_type": "code",
   "execution_count": 6,
   "metadata": {},
   "outputs": [
    {
     "data": {
      "text/plain": [
       "[2, 3]"
      ]
     },
     "execution_count": 6,
     "metadata": {},
     "output_type": "execute_result"
    }
   ],
   "source": [
    "a= [0,1,2,3]\n",
    "a[2:]"
   ]
  },
  {
   "cell_type": "code",
   "execution_count": null,
   "metadata": {},
   "outputs": [],
   "source": []
  }
 ],
 "metadata": {
  "kernelspec": {
   "display_name": "Python 2",
   "language": "python",
   "name": "python2"
  },
  "language_info": {
   "codemirror_mode": {
    "name": "ipython",
    "version": 2
   },
   "file_extension": ".py",
   "mimetype": "text/x-python",
   "name": "python",
   "nbconvert_exporter": "python",
   "pygments_lexer": "ipython2",
   "version": "2.7.6"
  }
 },
 "nbformat": 4,
 "nbformat_minor": 0
}
