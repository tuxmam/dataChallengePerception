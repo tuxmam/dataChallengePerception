{
 "cells": [
  {
   "cell_type": "code",
   "execution_count": 14,
   "metadata": {},
   "outputs": [],
   "source": [
    "from metric.compute_metric import compute_clear\n",
    "from metric.read_file import read_file\n",
    "from utils import make_pred, save_data, iter_frame\n",
    "import numpy as np\n",
    "PATH = \"../data/Scenario04-01/\""
   ]
  },
  {
   "cell_type": "code",
   "execution_count": 15,
   "metadata": {
    "scrolled": true
   },
   "outputs": [
    {
     "name": "stdout",
     "output_type": "stream",
     "text": [
      "(13273, 39)\n",
      "(13255, 37)\n"
     ]
    }
   ],
   "source": [
    "data_ref = read_file(PATH+\"groundTruth.txt\")\n",
    "row_data = np.loadtxt(PATH+\"detections.txt\")\n",
    "print(data_ref.shape)\n",
    "print(row_data.shape)"
   ]
  },
  {
   "cell_type": "code",
   "execution_count": null,
   "metadata": {},
   "outputs": [],
   "source": []
  },
  {
   "cell_type": "markdown",
   "metadata": {},
   "source": [
    "### Premiere idée : \n",
    "\n",
    "on associe de manière navive les id et on suppose que tout le monde parle"
   ]
  },
  {
   "cell_type": "code",
   "execution_count": 16,
   "metadata": {},
   "outputs": [
    {
     "name": "stdout",
     "output_type": "stream",
     "text": [
      "(0.8828272172405998, 0.0, 0.3770305146500683, 0.2644111219953281)\n"
     ]
    }
   ],
   "source": [
    "def naive_func(data):\n",
    "    for frame in iter_frame(data):\n",
    "        for i, _ in enumerate(frame):\n",
    "            yield (i, 1)\n",
    "\n",
    "\n",
    "res = make_pred(row_data, naive_func)\n",
    "print(compute_clear(data_ref, res, 1))"
   ]
  },
  {
   "cell_type": "markdown",
   "metadata": {},
   "source": [
    "### Deuxième idée : \n",
    "\n",
    "on associe de manière navive les id et on suppose que personne ne parle"
   ]
  },
  {
   "cell_type": "code",
   "execution_count": 17,
   "metadata": {},
   "outputs": [
    {
     "name": "stdout",
     "output_type": "stream",
     "text": [
      "(0.8828272172405998, 0.0, 0.6229694853499317, 0.5085524828573582)\n"
     ]
    }
   ],
   "source": [
    "def naive_func(data):\n",
    "    for frame in iter_frame(data):\n",
    "        for i, _ in enumerate(frame):\n",
    "            yield (i, 0)\n",
    "\n",
    "\n",
    "\n",
    "res = make_pred(row_data, naive_func)\n",
    "print(compute_clear(data_ref, res, 1))"
   ]
  },
  {
   "cell_type": "markdown",
   "metadata": {},
   "source": [
    "### Troisième idée : \n",
    "\n",
    "La parole est maitenant aléatoire"
   ]
  },
  {
   "cell_type": "code",
   "execution_count": 18,
   "metadata": {},
   "outputs": [
    {
     "name": "stdout",
     "output_type": "stream",
     "text": [
      "(0.8828272172405998, 0.0, 0.6021709427660543, 0.487905960364705)\n"
     ]
    }
   ],
   "source": [
    "from random import randint, random\n",
    "\n",
    "\n",
    "def make_alea(proba_trans):\n",
    "    def alea_par_func(data):\n",
    "        parle = 0;\n",
    "        for frame in iter_frame(data):\n",
    "            nb_personne = frame.shape[0]\n",
    "            if random() < proba_trans:\n",
    "                parle = randint(0, nb_personne)\n",
    "            for i, _ in enumerate(frame):\n",
    "                yield (i, i == parle)\n",
    "    return alea_par_func\n",
    "            \n",
    "            \n",
    "res = make_pred(row_data, make_alea(0.01))\n",
    "print(compute_clear(data_ref, res, 1))"
   ]
  },
  {
   "cell_type": "code",
   "execution_count": 19,
   "metadata": {},
   "outputs": [],
   "source": [
    "# sauvegarde les donnée\n",
    "save_data(res, PATH+\"res_tmp.txt\")\n"
   ]
  },
  {
   "cell_type": "code",
   "execution_count": null,
   "metadata": {},
   "outputs": [],
   "source": []
  },
  {
   "cell_type": "code",
   "execution_count": null,
   "metadata": {},
   "outputs": [],
   "source": []
  }
 ],
 "metadata": {
  "kernelspec": {
   "display_name": "Python 3",
   "language": "python",
   "name": "python3"
  },
  "language_info": {
   "codemirror_mode": {
    "name": "ipython",
    "version": 2
   },
   "file_extension": ".py",
   "mimetype": "text/x-python",
   "name": "python",
   "nbconvert_exporter": "python",
   "pygments_lexer": "ipython2",
   "version": "2.7.11"
  }
 },
 "nbformat": 4,
 "nbformat_minor": 1
}
